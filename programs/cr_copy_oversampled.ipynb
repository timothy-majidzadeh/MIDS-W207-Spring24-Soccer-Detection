{
 "cells": [
  {
   "cell_type": "code",
   "execution_count": 1,
   "id": "9eaea48d-c2a0-48e7-ad81-a6eee4c1d071",
   "metadata": {},
   "outputs": [],
   "source": [
    "# Copy only the images in the oversampled dataset for easier handling.\n",
    "import os\n",
    "import shutil\n",
    "from pathlib import Path\n",
    "import pandas as pd"
   ]
  },
  {
   "cell_type": "code",
   "execution_count": 2,
   "id": "0f194044-63e6-4ab8-a261-62b518072593",
   "metadata": {},
   "outputs": [],
   "source": [
    "mids_dir = Path(\"D:\\\\MIDS-W207\")\n",
    "data = mids_dir/\"datasets\""
   ]
  },
  {
   "cell_type": "code",
   "execution_count": 3,
   "id": "c917d8e8-a3cb-48cb-a38d-bf1f4dedd102",
   "metadata": {},
   "outputs": [],
   "source": [
    "objects_per_image = pd.read_pickle(data/\"soccertrack_square/objects_per_image_oversampled.pkl\")"
   ]
  },
  {
   "cell_type": "code",
   "execution_count": 4,
   "id": "a9268a72-c23f-443a-aa6d-4c1f458c8492",
   "metadata": {},
   "outputs": [],
   "source": [
    "for image_name in objects_per_image['image_name']:\n",
    "    src = data/\"soccertrack_square/images\"/image_name\n",
    "    dest = data/\"soccertrack_square/oversampled_images\"/image_name\n",
    "    shutil.copyfile(src, dest)"
   ]
  }
 ],
 "metadata": {
  "kernelspec": {
   "display_name": "Python 3 (ipykernel)",
   "language": "python",
   "name": "python3"
  },
  "language_info": {
   "codemirror_mode": {
    "name": "ipython",
    "version": 3
   },
   "file_extension": ".py",
   "mimetype": "text/x-python",
   "name": "python",
   "nbconvert_exporter": "python",
   "pygments_lexer": "ipython3",
   "version": "3.12.2"
  }
 },
 "nbformat": 4,
 "nbformat_minor": 5
}
