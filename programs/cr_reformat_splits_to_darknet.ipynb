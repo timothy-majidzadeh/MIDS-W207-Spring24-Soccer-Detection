{
 "cells": [
  {
   "cell_type": "code",
   "execution_count": 1,
   "id": "35170571-03a7-4521-8da0-93884624ae23",
   "metadata": {},
   "outputs": [],
   "source": [
    "import pandas as pd\n",
    "from pathlib import Path\n",
    "import os\n",
    "import random\n",
    "mids_dir = Path(\"D:\\\\MIDS-W207\")\n",
    "data = mids_dir/\"datasets/soccertrack_square\"\n",
    "project = mids_dir/\"MIDS-W207-Spring24-Soccer-Detection\"\n",
    "analysis = project/\"analysis\"\n",
    "\n",
    "# Author: Timothy Majidzadeh\n",
    "# Date Created: April 11, 2024\n",
    "# Date Updated: April 11, 2024\n",
    "# Description: Re-write the train, val & test paths to the darknet directory for YOLOv4.\n",
    "# Notes: [v1] Created program.\n",
    "# Inputs: Train, Val, & Test split text files.\n",
    "# Outputs: The same files, but with the paths pointing to the darknet directory for YOLOv4."
   ]
  },
  {
   "cell_type": "code",
   "execution_count": 5,
   "id": "d6376181-1f4f-4f17-80a0-bd316a919082",
   "metadata": {},
   "outputs": [],
   "source": [
    "os.chdir(data/\"splits\")\n",
    "for file, name in zip([\"oversampled_train_v1.txt\", \"oversampled_val_v1.txt\", \"oversampled_test_v1.txt\"], ['train.txt', 'val.txt', 'test.txt']):\n",
    "    df = pd.read_csv(file, sep=\" \", names=[\"path\"])\n",
    "    df['path'] = df['path'].str.replace('datasets/soccertrack_square/images/', 'darknet/build/darknet/x64/data/obj/')\n",
    "    with open(mids_dir/\"darknet/build/darknet/x64/data/{}\".format(name), 'w') as f:\n",
    "        i = 0\n",
    "        for path in df['path']:\n",
    "            if i == 0:\n",
    "                f.write(path)\n",
    "            else:\n",
    "                f.write(\"\\n\"+path)\n",
    "            i+=1"
   ]
  }
 ],
 "metadata": {
  "kernelspec": {
   "display_name": "Python 3 (ipykernel)",
   "language": "python",
   "name": "python3"
  },
  "language_info": {
   "codemirror_mode": {
    "name": "ipython",
    "version": 3
   },
   "file_extension": ".py",
   "mimetype": "text/x-python",
   "name": "python",
   "nbconvert_exporter": "python",
   "pygments_lexer": "ipython3",
   "version": "3.9.18"
  }
 },
 "nbformat": 4,
 "nbformat_minor": 5
}
