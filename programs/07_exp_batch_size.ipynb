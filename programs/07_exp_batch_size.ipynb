{
 "cells": [
  {
   "cell_type": "code",
   "execution_count": null,
   "id": "96e91f40-7f46-40f9-b00f-469de2e4b70a",
   "metadata": {},
   "outputs": [],
   "source": [
    "from ultralytics import YOLO\n",
    "from keras.utils import array_to_img, img_to_array\n",
    "import os\n",
    "\n",
    "# Author: Timothy Majidzadeh\n",
    "# Date Created: April 8, 2024\n",
    "# Date Updated: April 12, 2024\n",
    "# Description: Compare the results of different batch sizes on YOLOv7.\n",
    "# Notes: [v1] Created program.\n",
    "# Inputs: Ultralytics-formatted data.\n",
    "# Outputs: Model training & validation statistics for different batch sizes."
   ]
  },
  {
   "cell_type": "code",
   "execution_count": null,
   "id": "37afcbc5-a8ee-4ebf-9b8a-33595a8b1871",
   "metadata": {},
   "outputs": [],
   "source": [
    "## 16\n",
    "os.chdir(\"D:/MIDS-W207/yolov7\")\n",
    "print(\"Batch size 16...\")\n",
    "!python train.py --weights yolov7-tiny.pt --data data/soccertrack_square_oversampled.yaml --hyp data/hyp.scratch.custom.yaml --epochs 5 --batch-size 16 --img-size 800 --adam --project ../MIDS-W207-Spring24-Soccer-Detection/analysis/Batch/Size16/train\n",
    "print(\"Done!\")"
   ]
  },
  {
   "cell_type": "code",
   "execution_count": null,
   "id": "25920bc9-4428-4926-9b34-a3be4e985122",
   "metadata": {},
   "outputs": [],
   "source": [
    "# Training batch size 16 was interrupted by a power surge. Resuming...\n",
    "# os.chdir(\"D:/MIDS-W207/yolov7\")\n",
    "# !python train.py --resume ../MIDS-W207-Spring24-Soccer-Detection/analysis/Batch/Size16/train/exp2/weights/epoch_002.pt --data data/soccertrack_square_oversampled.yaml --hyp data/hyp.scratch.custom.yaml --epochs 5 --batch-size 16 --img-size 800 --adam --project ../MIDS-W207-Spring24-Soccer-Detection/analysis/Batch/Size16/train"
   ]
  },
  {
   "cell_type": "code",
   "execution_count": null,
   "id": "ee3cc383",
   "metadata": {},
   "outputs": [],
   "source": [
    "print(\"Validating YOLOv7...\")\n",
    "!python test.py --weights ../MIDS-W207-Spring24-Soccer-Detection/analysis/Batch/Size16/train/exp/weights/best.pt --data data/soccertrack_square_oversampled.yaml --batch-size 16 --img-size 800 --iou-thres 0.5 --verbose --save-txt --save-conf --project ../MIDS-W207-Spring24-Soccer-Detection/analysis/Batch/Size116/val --task val\n",
    "print(\"Done!\")"
   ]
  },
  {
   "cell_type": "code",
   "execution_count": null,
   "id": "e3f91fd2-cf65-436f-9ad5-b7da83d31531",
   "metadata": {},
   "outputs": [],
   "source": [
    "os.chdir(\"D:/MIDS-W207/yolov7\")\n",
    "## 32\n",
    "# YOLOv7\n",
    "print(\"Batch size 32...\")\n",
    "!python train.py --weights yolov7-tiny.pt --data data/soccertrack_square_oversampled.yaml --hyp data/hyp.scratch.custom.yaml --epochs 5 --batch-size 32 --img-size 800 --adam --project ../MIDS-W207-Spring24-Soccer-Detection/analysis/Batch/Size32/train\n",
    "print(\"Done!\")\n",
    "\n",
    "print(\"Validating YOLOv7...\")\n",
    "!python test.py --weights ../MIDS-W207-Spring24-Soccer-Detection/analysis/Batch/Size32/train/exp/weights/best.pt --data data/soccertrack_square_oversampled.yaml --batch-size 32 --img-size 800 --iou-thres 0.5 --verbose --save-txt --save-conf --project ../MIDS-W207-Spring24-Soccer-Detection/analysis/Batch/Size32/val --task val\n",
    "print(\"Done!\")\n",
    "\n",
    "## 64 (already tested, see YOLOversion experiments)"
   ]
  }
 ],
 "metadata": {
  "kernelspec": {
   "display_name": "Python 3 (ipykernel)",
   "language": "python",
   "name": "python3"
  },
  "language_info": {
   "codemirror_mode": {
    "name": "ipython",
    "version": 3
   },
   "file_extension": ".py",
   "mimetype": "text/x-python",
   "name": "python",
   "nbconvert_exporter": "python",
   "pygments_lexer": "ipython3",
   "version": "3.9.7"
  }
 },
 "nbformat": 4,
 "nbformat_minor": 5
}
