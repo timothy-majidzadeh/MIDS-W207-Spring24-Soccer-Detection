{
 "cells": [
  {
   "cell_type": "code",
   "execution_count": 1,
   "id": "800164b3-2070-48ae-b78f-05782881b720",
   "metadata": {},
   "outputs": [],
   "source": [
    "from pathlib import Path\n",
    "import os\n",
    "import numpy as np\n",
    "import pandas as pd\n",
    "import random\n",
    "\n",
    "mids_dir = Path(\"D:\\\\MIDS-W207\")\n",
    "data = mids_dir/\"datasets/soccertrack_square\"\n",
    "project = mids_dir/\"MIDS-W207-Spring24-Soccer-Detection\"\n",
    "analysis = project/\"analysis\"\n",
    "\n",
    "# Author: Timothy Majidzadeh\n",
    "# Date Created: April 6, 2024\n",
    "# Date Updated: April 6, 2024\n",
    "# Description: Over-sample the soccertrack_square dataset so that the ball is represented at a higher rate.\n",
    "# Notes: [v1] Created program. Using fractions: 0.5 with ball, 0.3 with players & no ball, 0.2 with no objects, 50-50 top view / wide view split.\n",
    "# Inputs: A table listing the soccertrack_square images and the number of objects in each image.\n",
    "# Outputs: An appended DataFrame which randomly selects and shuffles input images for use in machine learning models, with the ball included at a higher rate."
   ]
  },
  {
   "cell_type": "code",
   "execution_count": 2,
   "id": "8a38db78-b080-42fe-997a-9ab185e869a1",
   "metadata": {},
   "outputs": [],
   "source": [
    "objects_per_image = pd.read_pickle(data/\"count_objects_per_image.pkl\")\n",
    "stacked_labels = pd.read_pickle(data/\"stacked_labels.pkl\")\n",
    "ball_fraction, empty_fraction, sample_size = 0.5, 0.2, 10400\n",
    "players_fraction = 1 - ball_fraction - empty_fraction"
   ]
  },
  {
   "cell_type": "code",
   "execution_count": 3,
   "id": "552e9f97-d0c6-4e05-ae95-511520603919",
   "metadata": {},
   "outputs": [],
   "source": [
    "top_view_ball = objects_per_image.query('img_ball_count > 0 & image_name.str.contains(\"top_view\")')\n",
    "wide_view_ball = objects_per_image.query('img_ball_count > 0 & image_name.str.contains(\"wide_view\")')\n",
    "top_view_players = objects_per_image.query('(img_team_0_count > 0 | img_team_1_count > 0) & img_ball_count == 0 & image_name.str.contains(\"top_view\")')\n",
    "wide_view_players = objects_per_image.query('(img_team_0_count > 0 | img_team_1_count > 0) & img_ball_count == 0 & image_name.str.contains(\"wide_view\")')\n",
    "top_view_empty = objects_per_image.query('img_team_0_count == 0 & img_team_1_count == 0 & img_ball_count == 0 & image_name.str.contains(\"top_view\")')\n",
    "wide_view_empty = objects_per_image.query('img_team_0_count == 0 & img_team_1_count == 0 & img_ball_count == 0 & image_name.str.contains(\"wide_view\")')"
   ]
  },
  {
   "cell_type": "code",
   "execution_count": 4,
   "id": "04b1ce13-22be-416c-87c7-aa62ca9cdd22",
   "metadata": {},
   "outputs": [
    {
     "data": {
      "text/html": [
       "<div>\n",
       "<style scoped>\n",
       "    .dataframe tbody tr th:only-of-type {\n",
       "        vertical-align: middle;\n",
       "    }\n",
       "\n",
       "    .dataframe tbody tr th {\n",
       "        vertical-align: top;\n",
       "    }\n",
       "\n",
       "    .dataframe thead th {\n",
       "        text-align: right;\n",
       "    }\n",
       "</style>\n",
       "<table border=\"1\" class=\"dataframe\">\n",
       "  <thead>\n",
       "    <tr style=\"text-align: right;\">\n",
       "      <th>class</th>\n",
       "      <th>image_name</th>\n",
       "      <th>img_ball_count</th>\n",
       "      <th>img_team_0_count</th>\n",
       "      <th>img_team_1_count</th>\n",
       "    </tr>\n",
       "  </thead>\n",
       "  <tbody>\n",
       "    <tr>\n",
       "      <th>2632</th>\n",
       "      <td>top_view_12366.png</td>\n",
       "      <td>0</td>\n",
       "      <td>3</td>\n",
       "      <td>1</td>\n",
       "    </tr>\n",
       "    <tr>\n",
       "      <th>50828</th>\n",
       "      <td>top_view_7846.png</td>\n",
       "      <td>0</td>\n",
       "      <td>1</td>\n",
       "      <td>1</td>\n",
       "    </tr>\n",
       "    <tr>\n",
       "      <th>71332</th>\n",
       "      <td>wide_view_26299.png</td>\n",
       "      <td>1</td>\n",
       "      <td>9</td>\n",
       "      <td>9</td>\n",
       "    </tr>\n",
       "    <tr>\n",
       "      <th>98211</th>\n",
       "      <td>wide_view_7900.png</td>\n",
       "      <td>0</td>\n",
       "      <td>0</td>\n",
       "      <td>0</td>\n",
       "    </tr>\n",
       "    <tr>\n",
       "      <th>84552</th>\n",
       "      <td>wide_view_38197.png</td>\n",
       "      <td>0</td>\n",
       "      <td>1</td>\n",
       "      <td>3</td>\n",
       "    </tr>\n",
       "    <tr>\n",
       "      <th>...</th>\n",
       "      <td>...</td>\n",
       "      <td>...</td>\n",
       "      <td>...</td>\n",
       "      <td>...</td>\n",
       "    </tr>\n",
       "    <tr>\n",
       "      <th>44026</th>\n",
       "      <td>top_view_49621.png</td>\n",
       "      <td>0</td>\n",
       "      <td>0</td>\n",
       "      <td>0</td>\n",
       "    </tr>\n",
       "    <tr>\n",
       "      <th>44455</th>\n",
       "      <td>top_view_50006.png</td>\n",
       "      <td>1</td>\n",
       "      <td>9</td>\n",
       "      <td>5</td>\n",
       "    </tr>\n",
       "    <tr>\n",
       "      <th>86315</th>\n",
       "      <td>wide_view_39784.png</td>\n",
       "      <td>0</td>\n",
       "      <td>4</td>\n",
       "      <td>2</td>\n",
       "    </tr>\n",
       "    <tr>\n",
       "      <th>41307</th>\n",
       "      <td>top_view_47174.png</td>\n",
       "      <td>0</td>\n",
       "      <td>0</td>\n",
       "      <td>1</td>\n",
       "    </tr>\n",
       "    <tr>\n",
       "      <th>6587</th>\n",
       "      <td>top_view_15926.png</td>\n",
       "      <td>1</td>\n",
       "      <td>3</td>\n",
       "      <td>1</td>\n",
       "    </tr>\n",
       "  </tbody>\n",
       "</table>\n",
       "<p>10400 rows × 4 columns</p>\n",
       "</div>"
      ],
      "text/plain": [
       "class           image_name  img_ball_count  img_team_0_count  img_team_1_count\n",
       "2632    top_view_12366.png               0                 3                 1\n",
       "50828    top_view_7846.png               0                 1                 1\n",
       "71332  wide_view_26299.png               1                 9                 9\n",
       "98211   wide_view_7900.png               0                 0                 0\n",
       "84552  wide_view_38197.png               0                 1                 3\n",
       "...                    ...             ...               ...               ...\n",
       "44026   top_view_49621.png               0                 0                 0\n",
       "44455   top_view_50006.png               1                 9                 5\n",
       "86315  wide_view_39784.png               0                 4                 2\n",
       "41307   top_view_47174.png               0                 0                 1\n",
       "6587    top_view_15926.png               1                 3                 1\n",
       "\n",
       "[10400 rows x 4 columns]"
      ]
     },
     "execution_count": 4,
     "metadata": {},
     "output_type": "execute_result"
    }
   ],
   "source": [
    "top_view_ball_subsample = top_view_ball.sample(int(sample_size * ball_fraction * 0.5), random_state = 79641)\n",
    "wide_view_ball_subsample = wide_view_ball.sample(int(sample_size * ball_fraction * 0.5), random_state = 358645)\n",
    "top_view_players_subsample = top_view_players.sample(int(sample_size * players_fraction * 0.5), random_state = 691901)\n",
    "wide_view_players_subsample = wide_view_players.sample(int(sample_size * players_fraction * 0.5), random_state = 165333)\n",
    "top_view_empty_subsample = top_view_empty.sample(int(sample_size * empty_fraction * 0.5), random_state = 344226)\n",
    "wide_view_empty_subsample = wide_view_empty.sample(int(sample_size * empty_fraction * 0.5), random_state = 928911)\n",
    "objects_per_image_oversampled = pd.concat(\n",
    "    [top_view_ball_subsample, wide_view_ball_subsample, top_view_players_subsample, wide_view_players_subsample, top_view_empty_subsample, wide_view_empty_subsample],\n",
    ").sample(frac=1, replace = False)\n",
    "objects_per_image_oversampled"
   ]
  },
  {
   "cell_type": "code",
   "execution_count": 6,
   "id": "6d5139ef-337e-417a-ac06-638e6015fd3a",
   "metadata": {},
   "outputs": [
    {
     "name": "stderr",
     "output_type": "stream",
     "text": [
      "C:\\Users\\timot\\AppData\\Local\\Temp\\ipykernel_15900\\194453872.py:1: FutureWarning: The provided callable <built-in function sum> is currently using DataFrame.sum. In a future version of pandas, the provided callable will be used directly. To keep current behavior pass the string \"sum\" instead.\n",
      "  objects_per_image_oversampled[['img_ball_count', 'img_team_0_count', 'img_team_1_count']].agg(sum)\n"
     ]
    },
    {
     "data": {
      "text/plain": [
       "class\n",
       "img_ball_count       5200\n",
       "img_team_0_count    31347\n",
       "img_team_1_count    31441\n",
       "dtype: int64"
      ]
     },
     "execution_count": 6,
     "metadata": {},
     "output_type": "execute_result"
    }
   ],
   "source": [
    "objects_per_image_oversampled[['img_ball_count', 'img_team_0_count', 'img_team_1_count']].agg(sum)"
   ]
  },
  {
   "cell_type": "code",
   "execution_count": 7,
   "id": "67377726-26e6-4634-9c7f-37bcb2ca20b4",
   "metadata": {},
   "outputs": [
    {
     "name": "stderr",
     "output_type": "stream",
     "text": [
      "C:\\Users\\timot\\AppData\\Local\\Temp\\ipykernel_15900\\2583668669.py:1: FutureWarning: The provided callable <built-in function sum> is currently using DataFrame.sum. In a future version of pandas, the provided callable will be used directly. To keep current behavior pass the string \"sum\" instead.\n",
      "  objects_per_image[['img_ball_count', 'img_team_0_count', 'img_team_1_count']].agg(sum)\n"
     ]
    },
    {
     "data": {
      "text/plain": [
       "class\n",
       "img_ball_count       11823\n",
       "img_team_0_count    153204\n",
       "img_team_1_count    155079\n",
       "dtype: int64"
      ]
     },
     "execution_count": 7,
     "metadata": {},
     "output_type": "execute_result"
    }
   ],
   "source": [
    "objects_per_image[['img_ball_count', 'img_team_0_count', 'img_team_1_count']].agg(sum)"
   ]
  },
  {
   "cell_type": "code",
   "execution_count": 8,
   "id": "5cffe961-3a1e-4566-ad75-79d2e7fa6a65",
   "metadata": {},
   "outputs": [],
   "source": [
    "oversampled_images = list(objects_per_image_oversampled['image_name'].unique())\n",
    "stacked_labels_oversampled = stacked_labels[stacked_labels['image_name'].isin(oversampled_images)]"
   ]
  },
  {
   "cell_type": "code",
   "execution_count": 9,
   "id": "b1eadc25-2365-447e-b6f3-4eb87c51272b",
   "metadata": {},
   "outputs": [],
   "source": [
    "stacked_labels_oversampled.to_csv(data/\"stacked_labels_oversampled.csv\")\n",
    "stacked_labels_oversampled.to_pickle(data/\"stacked_labels_oversampled.pkl\")\n",
    "\n",
    "objects_per_image_oversampled.to_csv(data/\"objects_per_image_oversampled.csv\")\n",
    "objects_per_image_oversampled.to_pickle(data/\"objects_per_image_oversampled.pkl\")"
   ]
  }
 ],
 "metadata": {
  "kernelspec": {
   "display_name": "Python 3 (ipykernel)",
   "language": "python",
   "name": "python3"
  },
  "language_info": {
   "codemirror_mode": {
    "name": "ipython",
    "version": 3
   },
   "file_extension": ".py",
   "mimetype": "text/x-python",
   "name": "python",
   "nbconvert_exporter": "python",
   "pygments_lexer": "ipython3",
   "version": "3.12.2"
  }
 },
 "nbformat": 4,
 "nbformat_minor": 5
}
