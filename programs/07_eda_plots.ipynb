{
 "cells": [
  {
   "cell_type": "code",
   "execution_count": 1,
   "metadata": {
    "colab": {
     "base_uri": "https://localhost:8080/",
     "height": 373
    },
    "executionInfo": {
     "elapsed": 11212,
     "status": "error",
     "timestamp": 1710388018932,
     "user": {
      "displayName": "Timothy Majidzadeh",
      "userId": "12634218344358317829"
     },
     "user_tz": 420
    },
    "id": "xKdB5NmQk6tQ",
    "outputId": "3285ea93-9b20-45a8-95f7-f13c10a6ee58"
   },
   "outputs": [],
   "source": [
    "# Code was originally written by E. Ndedi on March 13, 2024.\n",
    "# Updated by T. Majidzadeh on April 16, 2024 to work with GitHub directory, include wide view statistics, additional plots.\n",
    "\n",
    "## import necessary libraries and packages\n",
    "import pandas\n",
    "import numpy as np\n",
    "import matplotlib.pyplot as plt\n",
    "import seaborn as sns\n",
    "import os\n",
    "import math\n",
    "from pathlib import Path\n",
    "from mpl_toolkits.mplot3d import Axes3D\n",
    "\n",
    "mids_dir = Path(\"D:\\\\MIDS-W207\")\n",
    "soccertrack = mids_dir/\"datasets/soccertrack\"\n",
    "soccertrack_square = mids_dir/\"datasets/soccertrack_square\"\n",
    "project = mids_dir/\"MIDS-W207-Spring24-Soccer-Detection\"\n",
    "analysis = project/\"analysis\"\n",
    "\n",
    "# importing sys\n",
    "import sys"
   ]
  },
  {
   "cell_type": "code",
   "execution_count": 2,
   "metadata": {
    "executionInfo": {
     "elapsed": 3,
     "status": "aborted",
     "timestamp": 1710388018932,
     "user": {
      "displayName": "Timothy Majidzadeh",
      "userId": "12634218344358317829"
     },
     "user_tz": 420
    },
    "id": "TvGP6m1vmI3B"
   },
   "outputs": [
    {
     "name": "stderr",
     "output_type": "stream",
     "text": [
      "C:\\Users\\timot\\anaconda3\\lib\\site-packages\\IPython\\core\\interactiveshell.py:3444: DtypeWarning: Columns (5,6,7,8,9,10,11,12,13,14,15,16,17,18,19,20,21,22,23,24,25,26,27,28,29,30,31,32,33,34,35,36,37,38,39,40,41,42,43,44,45,46,47,48,49,50,51,52,53,54,55,56,57,58,59,60,61,62,63,64,65,66,67,68,69,70,71,72,73,74,75,76,77,78,79,80,81,82,83,84,85,86,87,88,89,90,91,92,93,94,95,96,97) have mixed types.Specify dtype option on import or set low_memory=False.\n",
      "  exec(code_obj, self.user_global_ns, self.user_ns)\n"
     ]
    },
    {
     "data": {
      "text/html": [
       "<div>\n",
       "<style scoped>\n",
       "    .dataframe tbody tr th:only-of-type {\n",
       "        vertical-align: middle;\n",
       "    }\n",
       "\n",
       "    .dataframe tbody tr th {\n",
       "        vertical-align: top;\n",
       "    }\n",
       "\n",
       "    .dataframe thead th {\n",
       "        text-align: right;\n",
       "    }\n",
       "</style>\n",
       "<table border=\"1\" class=\"dataframe\">\n",
       "  <thead>\n",
       "    <tr style=\"text-align: right;\">\n",
       "      <th></th>\n",
       "      <th>ball</th>\n",
       "      <th>ball.1</th>\n",
       "      <th>ball.2</th>\n",
       "      <th>ball.3</th>\n",
       "    </tr>\n",
       "  </thead>\n",
       "  <tbody>\n",
       "    <tr>\n",
       "      <th>2</th>\n",
       "      <td>10.0</td>\n",
       "      <td>1916.0</td>\n",
       "      <td>1073.0</td>\n",
       "      <td>10.0</td>\n",
       "    </tr>\n",
       "    <tr>\n",
       "      <th>3</th>\n",
       "      <td>9.75</td>\n",
       "      <td>1910.75</td>\n",
       "      <td>1073.75</td>\n",
       "      <td>9.75</td>\n",
       "    </tr>\n",
       "    <tr>\n",
       "      <th>4</th>\n",
       "      <td>9.5</td>\n",
       "      <td>1905.5</td>\n",
       "      <td>1074.5</td>\n",
       "      <td>9.5</td>\n",
       "    </tr>\n",
       "    <tr>\n",
       "      <th>5</th>\n",
       "      <td>9.25</td>\n",
       "      <td>1900.25</td>\n",
       "      <td>1075.25</td>\n",
       "      <td>9.25</td>\n",
       "    </tr>\n",
       "    <tr>\n",
       "      <th>6</th>\n",
       "      <td>9.0</td>\n",
       "      <td>1895.0</td>\n",
       "      <td>1076.0</td>\n",
       "      <td>9.0</td>\n",
       "    </tr>\n",
       "  </tbody>\n",
       "</table>\n",
       "</div>"
      ],
      "text/plain": [
       "   ball   ball.1   ball.2 ball.3\n",
       "2  10.0   1916.0   1073.0   10.0\n",
       "3  9.75  1910.75  1073.75   9.75\n",
       "4   9.5   1905.5   1074.5    9.5\n",
       "5  9.25  1900.25  1075.25   9.25\n",
       "6   9.0   1895.0   1076.0    9.0"
      ]
     },
     "execution_count": 2,
     "metadata": {},
     "output_type": "execute_result"
    }
   ],
   "source": [
    "# Import & filter\n",
    "ball_cols = ['ball','ball.1','ball.2','ball.3']\n",
    "\n",
    "top_view = pandas.read_csv(soccertrack/\"labels/top_view_labels_stacked/top_view_labels.csv\")\n",
    "top_view = top_view.drop(labels = [0,1], axis = 0)\n",
    "top_view = top_view[top_view['frame_saved'] == True]\n",
    "top_view_ball = top_view[ball_cols]\n",
    "top_view_ball.head()\n"
   ]
  },
  {
   "cell_type": "code",
   "execution_count": 3,
   "metadata": {
    "executionInfo": {
     "elapsed": 2,
     "status": "aborted",
     "timestamp": 1710388018932,
     "user": {
      "displayName": "Timothy Majidzadeh",
      "userId": "12634218344358317829"
     },
     "user_tz": 420
    },
    "id": "7jIRKGaz1C_c"
   },
   "outputs": [
    {
     "name": "stdout",
     "output_type": "stream",
     "text": [
      "count     51964.0\n",
      "unique      593.0\n",
      "top          14.0\n",
      "freq      12579.0\n",
      "Name: ball, dtype: float64\n",
      "count     51964.0\n",
      "unique    29978.0\n",
      "top        1607.0\n",
      "freq        215.0\n",
      "Name: ball.1, dtype: float64\n",
      "count     51964.0\n",
      "unique    27351.0\n",
      "top         911.0\n",
      "freq        358.0\n",
      "Name: ball.2, dtype: float64\n",
      "count     51964.0\n",
      "unique      641.0\n",
      "top          14.0\n",
      "freq      12324.0\n",
      "Name: ball.3, dtype: float64\n"
     ]
    }
   ],
   "source": [
    "print(top_view_ball['ball'].describe())\n",
    "print(top_view_ball['ball.1'].describe())\n",
    "print(top_view_ball['ball.2'].describe())\n",
    "print(top_view_ball['ball.3'].describe())"
   ]
  },
  {
   "cell_type": "code",
   "execution_count": 4,
   "metadata": {
    "executionInfo": {
     "elapsed": 9481,
     "status": "aborted",
     "timestamp": 1710388018933,
     "user": {
      "displayName": "Timothy Majidzadeh",
      "userId": "12634218344358317829"
     },
     "user_tz": 420
    },
    "id": "b9AbclB0UUJa"
   },
   "outputs": [
    {
     "name": "stdout",
     "output_type": "stream",
     "text": [
      "1256\n",
      "1256\n",
      "1256\n",
      "1256\n"
     ]
    }
   ],
   "source": [
    "## account for missing\n",
    "print(pandas.isnull(top_view_ball['ball']).sum())\n",
    "print(pandas.isnull(top_view_ball['ball.1']).sum())\n",
    "print(pandas.isnull(top_view_ball['ball.2']).sum())\n",
    "print(pandas.isnull(top_view_ball['ball.3']).sum())"
   ]
  },
  {
   "cell_type": "code",
   "execution_count": 5,
   "metadata": {
    "colab": {
     "base_uri": "https://localhost:8080/",
     "height": 141
    },
    "executionInfo": {
     "elapsed": 6,
     "status": "error",
     "timestamp": 1710387998399,
     "user": {
      "displayName": "Timothy Majidzadeh",
      "userId": "12634218344358317829"
     },
     "user_tz": 420
    },
    "id": "fFFrLd35EWxc",
    "outputId": "a3223667-eb86-48e4-9988-4d5168db8a49"
   },
   "outputs": [
    {
     "data": {
      "text/plain": [
       "(53220, 4)"
      ]
     },
     "execution_count": 5,
     "metadata": {},
     "output_type": "execute_result"
    }
   ],
   "source": [
    "top_view_ball.shape"
   ]
  },
  {
   "cell_type": "code",
   "execution_count": 6,
   "metadata": {
    "id": "_OVtfj6rd5to"
   },
   "outputs": [],
   "source": [
    "top_view_ball = top_view_ball.dropna().reset_index(drop=True).astype(float)"
   ]
  },
  {
   "cell_type": "code",
   "execution_count": 7,
   "metadata": {
    "colab": {
     "base_uri": "https://localhost:8080/",
     "height": 206
    },
    "id": "4o_0SiJpnZp4",
    "outputId": "bbf708c3-04e1-4e22-98a6-7adcb6d561ed"
   },
   "outputs": [
    {
     "data": {
      "text/html": [
       "<div>\n",
       "<style scoped>\n",
       "    .dataframe tbody tr th:only-of-type {\n",
       "        vertical-align: middle;\n",
       "    }\n",
       "\n",
       "    .dataframe tbody tr th {\n",
       "        vertical-align: top;\n",
       "    }\n",
       "\n",
       "    .dataframe thead th {\n",
       "        text-align: right;\n",
       "    }\n",
       "</style>\n",
       "<table border=\"1\" class=\"dataframe\">\n",
       "  <thead>\n",
       "    <tr style=\"text-align: right;\">\n",
       "      <th></th>\n",
       "      <th>bb_height</th>\n",
       "      <th>bb_left</th>\n",
       "      <th>bb_top</th>\n",
       "      <th>bb_width</th>\n",
       "    </tr>\n",
       "  </thead>\n",
       "  <tbody>\n",
       "    <tr>\n",
       "      <th>0</th>\n",
       "      <td>10.00</td>\n",
       "      <td>1916.00</td>\n",
       "      <td>1073.00</td>\n",
       "      <td>10.00</td>\n",
       "    </tr>\n",
       "    <tr>\n",
       "      <th>1</th>\n",
       "      <td>9.75</td>\n",
       "      <td>1910.75</td>\n",
       "      <td>1073.75</td>\n",
       "      <td>9.75</td>\n",
       "    </tr>\n",
       "    <tr>\n",
       "      <th>2</th>\n",
       "      <td>9.50</td>\n",
       "      <td>1905.50</td>\n",
       "      <td>1074.50</td>\n",
       "      <td>9.50</td>\n",
       "    </tr>\n",
       "    <tr>\n",
       "      <th>3</th>\n",
       "      <td>9.25</td>\n",
       "      <td>1900.25</td>\n",
       "      <td>1075.25</td>\n",
       "      <td>9.25</td>\n",
       "    </tr>\n",
       "    <tr>\n",
       "      <th>4</th>\n",
       "      <td>9.00</td>\n",
       "      <td>1895.00</td>\n",
       "      <td>1076.00</td>\n",
       "      <td>9.00</td>\n",
       "    </tr>\n",
       "  </tbody>\n",
       "</table>\n",
       "</div>"
      ],
      "text/plain": [
       "   bb_height  bb_left   bb_top  bb_width\n",
       "0      10.00  1916.00  1073.00     10.00\n",
       "1       9.75  1910.75  1073.75      9.75\n",
       "2       9.50  1905.50  1074.50      9.50\n",
       "3       9.25  1900.25  1075.25      9.25\n",
       "4       9.00  1895.00  1076.00      9.00"
      ]
     },
     "execution_count": 7,
     "metadata": {},
     "output_type": "execute_result"
    }
   ],
   "source": [
    "# Renaming the frame coordinates\n",
    "top_view_ball.rename(columns = {'ball':'bb_height','ball.1':'bb_left','ball.2':'bb_top','ball.3':'bb_width'}, inplace = True)\n",
    "top_view_ball.head()"
   ]
  },
  {
   "cell_type": "code",
   "execution_count": 8,
   "metadata": {
    "colab": {
     "base_uri": "https://localhost:8080/",
     "height": 206
    },
    "id": "TLGPhksj2skH",
    "outputId": "e1afc2a1-05a7-4ccc-80d3-03bf9b30c295"
   },
   "outputs": [],
   "source": [
    "# Get summary statistics and save.\n",
    "top_view_ball.agg(\n",
    "    ['count', 'mean', 'std', 'min', 'max'], axis=0\n",
    ")[['bb_left', 'bb_top', 'bb_width', 'bb_height']].to_csv(\n",
    "    analysis/\"EDA/top_view_stats.csv\"\n",
    ")"
   ]
  },
  {
   "cell_type": "code",
   "execution_count": 9,
   "metadata": {},
   "outputs": [
    {
     "name": "stderr",
     "output_type": "stream",
     "text": [
      "C:\\Users\\timot\\anaconda3\\lib\\site-packages\\IPython\\core\\interactiveshell.py:3444: DtypeWarning: Columns (5,6,7,8,9,10,11,12,13,14,15,16,17,18,19,20,21,22,23,24,25,26,27,28,29,30,31,32,33,34,35,36,37,38,39,40,41,42,43,44,45,46,47,48,49,50,51,52,53,54,55,56,57,58,59,60,61,62,63,64,65,66,67,68,69,70,71,72,73,74,75,76,77,78,79,80,81,82,83,84,85,86,87,88,89,90,91,92,93,94,95,96,97) have mixed types.Specify dtype option on import or set low_memory=False.\n",
      "  exec(code_obj, self.user_global_ns, self.user_ns)\n"
     ]
    },
    {
     "data": {
      "text/html": [
       "<div>\n",
       "<style scoped>\n",
       "    .dataframe tbody tr th:only-of-type {\n",
       "        vertical-align: middle;\n",
       "    }\n",
       "\n",
       "    .dataframe tbody tr th {\n",
       "        vertical-align: top;\n",
       "    }\n",
       "\n",
       "    .dataframe thead th {\n",
       "        text-align: right;\n",
       "    }\n",
       "</style>\n",
       "<table border=\"1\" class=\"dataframe\">\n",
       "  <thead>\n",
       "    <tr style=\"text-align: right;\">\n",
       "      <th></th>\n",
       "      <th>ball</th>\n",
       "      <th>ball.1</th>\n",
       "      <th>ball.2</th>\n",
       "      <th>ball.3</th>\n",
       "    </tr>\n",
       "  </thead>\n",
       "  <tbody>\n",
       "    <tr>\n",
       "      <th>2</th>\n",
       "      <td>7.0</td>\n",
       "      <td>3542.0</td>\n",
       "      <td>549.0</td>\n",
       "      <td>6.0</td>\n",
       "    </tr>\n",
       "    <tr>\n",
       "      <th>3</th>\n",
       "      <td>7.0</td>\n",
       "      <td>3548.0</td>\n",
       "      <td>549.0</td>\n",
       "      <td>6.0</td>\n",
       "    </tr>\n",
       "    <tr>\n",
       "      <th>4</th>\n",
       "      <td>7.0</td>\n",
       "      <td>3554.0</td>\n",
       "      <td>549.0</td>\n",
       "      <td>6.0</td>\n",
       "    </tr>\n",
       "    <tr>\n",
       "      <th>5</th>\n",
       "      <td>7.0</td>\n",
       "      <td>3560.0</td>\n",
       "      <td>549.0</td>\n",
       "      <td>6.0</td>\n",
       "    </tr>\n",
       "    <tr>\n",
       "      <th>6</th>\n",
       "      <td>7.0</td>\n",
       "      <td>3565.0</td>\n",
       "      <td>549.0</td>\n",
       "      <td>6.0</td>\n",
       "    </tr>\n",
       "  </tbody>\n",
       "</table>\n",
       "</div>"
      ],
      "text/plain": [
       "  ball  ball.1 ball.2 ball.3\n",
       "2  7.0  3542.0  549.0    6.0\n",
       "3  7.0  3548.0  549.0    6.0\n",
       "4  7.0  3554.0  549.0    6.0\n",
       "5  7.0  3560.0  549.0    6.0\n",
       "6  7.0  3565.0  549.0    6.0"
      ]
     },
     "execution_count": 9,
     "metadata": {},
     "output_type": "execute_result"
    }
   ],
   "source": [
    "# TM Add: Wide view\n",
    "wide_view = pandas.read_csv(soccertrack/\"labels/wide_view_labels_stacked/wide_view_labels.csv\")\n",
    "wide_view = wide_view.drop(labels = [0,1], axis = 0)\n",
    "wide_view = wide_view[wide_view['frame_saved'] == True]\n",
    "wide_view_ball = wide_view[ball_cols]\n",
    "wide_view_ball.head()"
   ]
  },
  {
   "cell_type": "code",
   "execution_count": 10,
   "metadata": {},
   "outputs": [
    {
     "name": "stdout",
     "output_type": "stream",
     "text": [
      "580\n",
      "580\n",
      "580\n",
      "580\n"
     ]
    }
   ],
   "source": [
    "print(pandas.isnull(wide_view_ball['ball']).sum())\n",
    "print(pandas.isnull(wide_view_ball['ball.1']).sum())\n",
    "print(pandas.isnull(wide_view_ball['ball.2']).sum())\n",
    "print(pandas.isnull(wide_view_ball['ball.3']).sum())"
   ]
  },
  {
   "cell_type": "code",
   "execution_count": 11,
   "metadata": {},
   "outputs": [
    {
     "data": {
      "text/plain": [
       "(47322, 4)"
      ]
     },
     "execution_count": 11,
     "metadata": {},
     "output_type": "execute_result"
    }
   ],
   "source": [
    "wide_view_ball.shape"
   ]
  },
  {
   "cell_type": "code",
   "execution_count": 12,
   "metadata": {},
   "outputs": [],
   "source": [
    "wide_view_ball = wide_view_ball.dropna().reset_index(drop=True).astype(float)"
   ]
  },
  {
   "cell_type": "code",
   "execution_count": 13,
   "metadata": {},
   "outputs": [
    {
     "data": {
      "text/html": [
       "<div>\n",
       "<style scoped>\n",
       "    .dataframe tbody tr th:only-of-type {\n",
       "        vertical-align: middle;\n",
       "    }\n",
       "\n",
       "    .dataframe tbody tr th {\n",
       "        vertical-align: top;\n",
       "    }\n",
       "\n",
       "    .dataframe thead th {\n",
       "        text-align: right;\n",
       "    }\n",
       "</style>\n",
       "<table border=\"1\" class=\"dataframe\">\n",
       "  <thead>\n",
       "    <tr style=\"text-align: right;\">\n",
       "      <th></th>\n",
       "      <th>bb_height</th>\n",
       "      <th>bb_left</th>\n",
       "      <th>bb_top</th>\n",
       "      <th>bb_width</th>\n",
       "    </tr>\n",
       "  </thead>\n",
       "  <tbody>\n",
       "    <tr>\n",
       "      <th>0</th>\n",
       "      <td>7.0</td>\n",
       "      <td>3542.0</td>\n",
       "      <td>549.0</td>\n",
       "      <td>6.0</td>\n",
       "    </tr>\n",
       "    <tr>\n",
       "      <th>1</th>\n",
       "      <td>7.0</td>\n",
       "      <td>3548.0</td>\n",
       "      <td>549.0</td>\n",
       "      <td>6.0</td>\n",
       "    </tr>\n",
       "    <tr>\n",
       "      <th>2</th>\n",
       "      <td>7.0</td>\n",
       "      <td>3554.0</td>\n",
       "      <td>549.0</td>\n",
       "      <td>6.0</td>\n",
       "    </tr>\n",
       "    <tr>\n",
       "      <th>3</th>\n",
       "      <td>7.0</td>\n",
       "      <td>3560.0</td>\n",
       "      <td>549.0</td>\n",
       "      <td>6.0</td>\n",
       "    </tr>\n",
       "    <tr>\n",
       "      <th>4</th>\n",
       "      <td>7.0</td>\n",
       "      <td>3565.0</td>\n",
       "      <td>549.0</td>\n",
       "      <td>6.0</td>\n",
       "    </tr>\n",
       "  </tbody>\n",
       "</table>\n",
       "</div>"
      ],
      "text/plain": [
       "   bb_height  bb_left  bb_top  bb_width\n",
       "0        7.0   3542.0   549.0       6.0\n",
       "1        7.0   3548.0   549.0       6.0\n",
       "2        7.0   3554.0   549.0       6.0\n",
       "3        7.0   3560.0   549.0       6.0\n",
       "4        7.0   3565.0   549.0       6.0"
      ]
     },
     "execution_count": 13,
     "metadata": {},
     "output_type": "execute_result"
    }
   ],
   "source": [
    "# Renaming the frame coordinates\n",
    "wide_view_ball.rename(columns = {'ball':'bb_height','ball.1':'bb_left','ball.2':'bb_top','ball.3':'bb_width'}, inplace = True)\n",
    "wide_view_ball.head()"
   ]
  },
  {
   "cell_type": "code",
   "execution_count": 14,
   "metadata": {},
   "outputs": [],
   "source": [
    "# Get summary statistics and save.\n",
    "wide_view_ball.agg(\n",
    "    ['count', 'mean', 'std', 'min', 'max']\n",
    ")[['bb_left', 'bb_top', 'bb_width', 'bb_height']].to_csv(\n",
    "    analysis/\"EDA/wide_view_stats.csv\"\n",
    ")"
   ]
  },
  {
   "cell_type": "code",
   "execution_count": 15,
   "metadata": {
    "colab": {
     "base_uri": "https://localhost:8080/",
     "height": 524
    },
    "id": "Rv19qBPLb2Gv",
    "outputId": "c87a1f95-c8f7-4557-857a-727abaf8364a"
   },
   "outputs": [
    {
     "data": {
      "image/png": "[encoded data removed]",
      "text/plain": [
       "<Figure size 388.08x252 with 1 Axes>"
      ]
     },
     "metadata": {
      "needs_background": "light"
     },
     "output_type": "display_data"
    }
   ],
   "source": [
    "# plotting: KDE plot.\n",
    "df_3 = top_view_ball[['bb_left','bb_top']]\n",
    "plot = sns.displot(\n",
    "    df_3, x=\"bb_left\", y=\"bb_top\", kind=\"kde\", height = 3.5, aspect = 1.54\n",
    ")\n",
    "plot.figure.suptitle(\"KDE Plot of Ball X-Y Coordinates\")\n",
    "plot.set_xlabels(\"Ball X-Coordinate\")\n",
    "plot.set_ylabels(\"Ball Y-Coordinate\")\n",
    "plot.savefig(analysis/\"EDA/kde_plot.jpg\")"
   ]
  },
  {
   "cell_type": "code",
   "execution_count": 16,
   "metadata": {
    "id": "vhQdHsLVjRC_"
   },
   "outputs": [],
   "source": [
    "# TM Added bar plots of object counts in SRS vs Oversampled sets.\n",
    "objects_per_image_srs = pandas.read_csv(\n",
    "    soccertrack_square/\"objects_per_image_srs.csv\"\n",
    ").drop(\"Unnamed: 0\", axis=1)\n",
    "srs_total = objects_per_image_srs[['img_ball_count', 'img_team_0_count' ,'img_team_1_count']].values.sum()\n",
    "objects_per_image_oversampled = pandas.read_csv(\n",
    "    soccertrack_square/\"objects_per_image_oversampled.csv\"\n",
    ").drop(\"Unnamed: 0\", axis=1)\n",
    "oversampled_total = objects_per_image_oversampled[['img_ball_count', 'img_team_0_count' ,'img_team_1_count']].values.sum()"
   ]
  },
  {
   "cell_type": "code",
   "execution_count": 17,
   "metadata": {},
   "outputs": [],
   "source": [
    "# Calculate values for bar plots.\n",
    "srs_counts = objects_per_image_srs[\n",
    "    ['img_ball_count', 'img_team_0_count', 'img_team_1_count']\n",
    "].agg(sum) / srs_total\n",
    "oversampled_counts = objects_per_image_oversampled[\n",
    "    ['img_ball_count', 'img_team_0_count', 'img_team_1_count']\n",
    "].agg(sum) / oversampled_total"
   ]
  },
  {
   "cell_type": "code",
   "execution_count": 18,
   "metadata": {},
   "outputs": [
    {
     "data": {
      "text/plain": [
       "img_ball_count      0.037524\n",
       "img_team_0_count    0.476355\n",
       "img_team_1_count    0.486121\n",
       "dtype: float64"
      ]
     },
     "execution_count": 18,
     "metadata": {},
     "output_type": "execute_result"
    }
   ],
   "source": [
    "srs_counts"
   ]
  },
  {
   "cell_type": "code",
   "execution_count": 19,
   "metadata": {},
   "outputs": [
    {
     "data": {
      "text/plain": [
       "img_ball_count      0.075945\n",
       "img_team_0_count    0.462108\n",
       "img_team_1_count    0.461947\n",
       "dtype: float64"
      ]
     },
     "execution_count": 19,
     "metadata": {},
     "output_type": "execute_result"
    }
   ],
   "source": [
    "oversampled_counts"
   ]
  },
  {
   "cell_type": "code",
   "execution_count": 20,
   "metadata": {},
   "outputs": [
    {
     "data": {
      "image/png": "[encoded data removed]",
      "text/plain": [
       "<Figure size 576x288 with 2 Axes>"
      ]
     },
     "metadata": {},
     "output_type": "display_data"
    }
   ],
   "source": [
    "# Plotting\n",
    "fig, ax = plt.subplots(ncols=2, sharey=True, facecolor='white')\n",
    "fig.set_size_inches((8,4))\n",
    "fig.suptitle(\"Class Balance by Sample\", fontsize = 18)\n",
    "ax[0].bar([\"Ball\", \"Team 0\", \"Team 1\"], srs_counts.values, color=['red', 'orange', 'navy'])\n",
    "ax[0].set_title(\"Simple Random Sample\")\n",
    "ax[0].set_ylabel(\"Object Instances (Fraction of Objects)\")\n",
    "ax[1].bar([\"Ball\", \"Team 0\", \"Team 1\"], oversampled_counts.values, color=['red', 'orange', 'navy'])\n",
    "ax[1].set_title(\"Ball Oversampled\")\n",
    "plt.subplots_adjust(top=0.85, wspace=0.1)\n",
    "plt.savefig(analysis/\"EDA/class_balance.png\")"
   ]
  },
  {
   "cell_type": "code",
   "execution_count": 21,
   "metadata": {},
   "outputs": [],
   "source": [
    "ball_in_image_srs = sum(objects_per_image_srs['img_ball_count']) / 10400\n",
    "ball_in_image_oversampled = sum(objects_per_image_oversampled['img_ball_count']) / 10400"
   ]
  },
  {
   "cell_type": "code",
   "execution_count": 22,
   "metadata": {},
   "outputs": [
    {
     "data": {
      "text/plain": [
       "0.11711538461538462"
      ]
     },
     "execution_count": 22,
     "metadata": {},
     "output_type": "execute_result"
    }
   ],
   "source": [
    "ball_in_image_srs"
   ]
  },
  {
   "cell_type": "code",
   "execution_count": 23,
   "metadata": {},
   "outputs": [
    {
     "data": {
      "text/plain": [
       "0.5"
      ]
     },
     "execution_count": 23,
     "metadata": {},
     "output_type": "execute_result"
    }
   ],
   "source": [
    "ball_in_image_oversampled"
   ]
  },
  {
   "cell_type": "code",
   "execution_count": 24,
   "metadata": {},
   "outputs": [
    {
     "data": {
      "image/png": "[encoded data removed]",
      "text/plain": [
       "<Figure size 432x288 with 1 Axes>"
      ]
     },
     "metadata": {},
     "output_type": "display_data"
    }
   ],
   "source": [
    "fig, ax = plt.subplots(facecolor='white')\n",
    "fig.set_size_inches((6,4))\n",
    "fig.suptitle(\"Percent of Images with Ball by Sample\", fontsize = 18)\n",
    "ax.bar([\"Simple\", \"Stratified\"], [ball_in_image_srs, ball_in_image_oversampled], color=['red', 'navy'])\n",
    "ax.set_ylabel(\"\")\n",
    "plt.savefig(analysis/\"EDA/pct_images_with_ball.png\")"
   ]
  }
 ],
 "metadata": {
  "colab": {
   "provenance": []
  },
  "kernelspec": {
   "display_name": "Python 3 (ipykernel)",
   "language": "python",
   "name": "python3"
  },
  "language_info": {
   "codemirror_mode": {
    "name": "ipython",
    "version": 3
   },
   "file_extension": ".py",
   "mimetype": "text/x-python",
   "name": "python",
   "nbconvert_exporter": "python",
   "pygments_lexer": "ipython3",
   "version": "3.9.7"
  }
 },
 "nbformat": 4,
 "nbformat_minor": 4
}
