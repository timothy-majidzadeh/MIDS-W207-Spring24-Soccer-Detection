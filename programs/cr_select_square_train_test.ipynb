{
 "cells": [
  {
   "cell_type": "code",
   "execution_count": 1,
   "id": "f66c93a0-cad3-4dfb-a0b1-b38146449d12",
   "metadata": {},
   "outputs": [],
   "source": [
    "import pandas as pd\n",
    "from pathlib import Path\n",
    "import os\n",
    "import random\n",
    "mids_dir = Path(\"D:\\\\MIDS-W207\")\n",
    "data = mids_dir/\"datasets/soccertrack_square\"\n",
    "project = mids_dir/\"MIDS-W207-Spring24-Soccer-Detection\"\n",
    "analysis = project/\"analysis\"\n",
    "\n",
    "# Author: Timothy Majidzadeh\n",
    "# Date Created: March 12, 2024\n",
    "# Date Updated: April 7, 2024\n",
    "# Description: From the list of labels, randomly select a subset & split into train/test.\n",
    "# Notes: [v1] Created program.\n",
    "# Inputs: Frame-by-frame image data & labels.\n",
    "# Outputs: The data prepared for use in YOLO using Ultralytics."
   ]
  },
  {
   "cell_type": "code",
   "execution_count": 2,
   "id": "c2d07668-064f-46bb-839b-78e0893b4f3f",
   "metadata": {},
   "outputs": [],
   "source": [
    "\n",
    "def sample_and_split(input_df, to_sample, seed, train_pct=0.8, val_pct=0.1, test_pct=0.1):\n",
    "    \"\"\"\n",
    "    Inputs:\n",
    "        input_df: The list of images & their labels to sample from, an integer.\n",
    "        to_sample: The number of images intended to sample.\n",
    "        train_pct, val_pct, test_pct: The train, val & test percentages, as floats from 0 to 1 adding to 1.\n",
    "    Returns:\n",
    "        train_df, val_df, test_df: The train, val & test data labels.\n",
    "    \"\"\"\n",
    "    train_val_index = round(to_sample * train_pct)\n",
    "    val_test_index = train_val_index + round(to_sample * val_pct)\n",
    "    sampled_df = input_df.copy().reset_index().sample(n=to_sample, replace=False, random_state=seed)\n",
    "    return sampled_df.iloc[0:train_val_index,], sampled_df.iloc[train_val_index:val_test_index,], sampled_df.iloc[val_test_index:,] \n",
    "\n",
    "def train_val_test_paths(image_paths, set_type, vrsn_num, output_dir=data):\n",
    "    \"\"\"\n",
    "    Create text files which give Ultralytics the paths for the train, val, and test images.\n",
    "    Inputs:\n",
    "        train, val, test: Numpy arrays or lists which are the absolute filepaths.\n",
    "        set_type: 'train', 'val', or 'test', based on the input type.\n",
    "        vrsn_num: A version number in string format, for saving multiple splits if needed.\n",
    "        output_dir: A PathLib Path object.\n",
    "    Outputs:\n",
    "        Saves .txt files with paths to the selected train, val, and test sets.\n",
    "    \"\"\"\n",
    "    image_paths = image_paths.str.replace('\\\\', '/')\n",
    "    with open(output_dir/\"splits/{}_v{}.txt\".format(set_type, vrsn_num), 'w') as f:\n",
    "        i = 0\n",
    "        for image_path in image_paths:\n",
    "            if i == 0:\n",
    "                f.write(image_path)\n",
    "            else:\n",
    "                f.write(\"\\n\"+image_path)\n",
    "            i+=1\n",
    "        f.close()"
   ]
  },
  {
   "cell_type": "code",
   "execution_count": 3,
   "id": "609ad38a-ddd9-42e1-bf8a-ad20eb18c592",
   "metadata": {},
   "outputs": [],
   "source": [
    "vrsn_num = \"1\"\n",
    "srs, oversampled = pd.read_pickle(data/\"objects_per_image_srs.pkl\"), pd.read_pickle(data/\"objects_per_image_oversampled.pkl\")"
   ]
  },
  {
   "cell_type": "code",
   "execution_count": 4,
   "id": "e676f431-c065-4bab-9f4d-9e78d4219ee6",
   "metadata": {},
   "outputs": [],
   "source": [
    "srs_train, srs_val, srs_test = sample_and_split(srs, 10400, 368750)\n",
    "train_paths = pd.Series(str(data) + f'/images/{image_name}' for image_name in srs_train['image_name'])\n",
    "val_paths = pd.Series(str(data) + f'/images/{image_name}' for image_name in srs_val['image_name'])\n",
    "test_paths = pd.Series(str(data) + f'/images/{image_name}' for image_name in srs_test['image_name'])\n",
    "train_val_test_paths(train_paths, 'srs_train', vrsn_num, data)\n",
    "train_val_test_paths(val_paths, 'srs_val', vrsn_num, data)\n",
    "train_val_test_paths(test_paths, 'srs_test', vrsn_num, data)"
   ]
  },
  {
   "cell_type": "code",
   "execution_count": 5,
   "id": "bad7f3d7-9980-4201-b68e-3f9b6d80b90e",
   "metadata": {},
   "outputs": [],
   "source": [
    "oversampled_train, oversampled_val, oversampled_test = sample_and_split(oversampled, 10400, 62491)\n",
    "train_paths = pd.Series(str(data) + f'/images/{image_name}' for image_name in oversampled_train['image_name'])\n",
    "val_paths = pd.Series(str(data) + f'/images/{image_name}' for image_name in oversampled_val['image_name'])\n",
    "test_paths = pd.Series(str(data) + f'/images/{image_name}' for image_name in oversampled_test['image_name'])\n",
    "train_val_test_paths(train_paths, 'oversampled_train', vrsn_num, data)\n",
    "train_val_test_paths(val_paths, 'oversampled_val', vrsn_num, data)\n",
    "train_val_test_paths(test_paths, 'oversampled_test', vrsn_num, data)"
   ]
  }
 ],
 "metadata": {
  "kernelspec": {
   "display_name": "Python 3 (ipykernel)",
   "language": "python",
   "name": "python3"
  },
  "language_info": {
   "codemirror_mode": {
    "name": "ipython",
    "version": 3
   },
   "file_extension": ".py",
   "mimetype": "text/x-python",
   "name": "python",
   "nbconvert_exporter": "python",
   "pygments_lexer": "ipython3",
   "version": "3.9.18"
  }
 },
 "nbformat": 4,
 "nbformat_minor": 5
}
