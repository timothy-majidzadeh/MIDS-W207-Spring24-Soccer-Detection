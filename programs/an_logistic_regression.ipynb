{
 "cells": [
  {
   "cell_type": "code",
   "execution_count": 1,
   "id": "516fede5-9df9-498d-bde0-3cb7b5d78b4e",
   "metadata": {},
   "outputs": [],
   "source": [
    "from pathlib import Path\n",
    "import os\n",
    "import numpy as np\n",
    "import pandas as pd\n",
    "import random\n",
    "import tensorflow as tf\n",
    "import seaborn as sns\n",
    "from tensorflow import keras\n",
    "from keras.utils import img_to_array, array_to_img, load_img\n",
    "from keras import metrics\n",
    "import matplotlib.pyplot as plt\n",
    "\n",
    "mids_dir = Path(\"D:\\\\MIDS-W207\")\n",
    "data = mids_dir/\"datasets/soccertrack_square\"\n",
    "project = mids_dir/\"MIDS-W207-Spring24-Soccer-Detection\"\n",
    "analysis = project/\"analysis\"\n",
    "\n",
    "# Author: Timothy Majidzadeh\n",
    "# Date Created: April 6, 2024\n",
    "# Date Updated: April 6, 2024\n",
    "# Description: Try logistic regression on the soccertrack_square dataset.\n",
    "# Re-uses some code from T. Majidzadeh's Homework 4 and Homework 5 submissions for MIDS W207 Spring 2024.\n",
    "# Notes: [v1] Created program. \n",
    "# Inputs: Frame-by-frame labels saved as separate text files.\n",
    "# Outputs: Logistic regression classifiers."
   ]
  },
  {
   "cell_type": "code",
   "execution_count": 2,
   "id": "4c2a19ff-2707-43ee-8e55-339c9f22c5b3",
   "metadata": {},
   "outputs": [],
   "source": [
    "# 1. Load the labels data and map to classes.\n",
    "class_dict = {\n",
    "    0: \"No Objects\",\n",
    "    1: \"Team 0 Only\",\n",
    "    2: \"Team 1 Only\",\n",
    "    3: \"Ball Only\",\n",
    "    4: \"Team 0 and Team 1\",\n",
    "    5: \"Team 0 and Ball\",\n",
    "    6: \"Team 1 and Ball\",\n",
    "    7: \"All Classes\"\n",
    "}\n",
    "\n",
    "# Because certain class combinations are rare, it may be more effective to try each class individually.\n",
    "# Remap to a value of 1 if one class is present, 0 otherwise.\n",
    "ball_remap = {\n",
    "    0: 0,\n",
    "    1: 0,\n",
    "    2: 0,\n",
    "    3: 1,\n",
    "    4: 0,\n",
    "    5: 1,\n",
    "    6: 1,\n",
    "    7: 1\n",
    "}\n",
    "\n",
    "team_0_remap = {\n",
    "    1: 1,\n",
    "    2: 0,\n",
    "    3: 0,\n",
    "    4: 1,\n",
    "    5: 1,\n",
    "    6: 0,\n",
    "    7: 1\n",
    "}\n",
    "\n",
    "team_1_remap = {\n",
    "    1: 0,\n",
    "    2: 1,\n",
    "    3: 0,\n",
    "    4: 1,\n",
    "    5: 0,\n",
    "    6: 1,\n",
    "    7: 1\n",
    "}\n",
    "objects_per_image = pd.read_pickle(data/\"objects_per_image_oversampled.pkl\")"
   ]
  },
  {
   "cell_type": "code",
   "execution_count": 3,
   "id": "1a2c9ef7-e8f0-4bf7-bb2f-1b4f39ae6bf9",
   "metadata": {},
   "outputs": [],
   "source": [
    "def class_mapping(ball_count, team_0_count, team_1_count):\n",
    "    '''\n",
    "    Assigns each row in the objects_per_image DataFrame to a class based on object counts.\n",
    "    '''\n",
    "    if (ball_count == 0) & (team_0_count == 0) & (team_1_count == 0):\n",
    "        return 0\n",
    "    elif (ball_count == 0) & (team_0_count > 0) & (team_1_count == 0):\n",
    "        return 1\n",
    "    elif (ball_count == 0) & (team_0_count == 0) & (team_1_count > 0):\n",
    "        return 2\n",
    "    elif (ball_count > 0) & (team_0_count == 0) & (team_1_count == 0):\n",
    "        return 3\n",
    "    elif (ball_count == 0) & (team_0_count > 0) & (team_1_count > 0):\n",
    "        return 4\n",
    "    elif (ball_count > 0) & (team_0_count > 0) & (team_1_count == 0):\n",
    "        return 5\n",
    "    elif (ball_count > 0) & (team_0_count == 0) & (team_1_count > 0):\n",
    "        return 6\n",
    "    else:\n",
    "        return 7"
   ]
  },
  {
   "cell_type": "code",
   "execution_count": 4,
   "id": "37e664e9-55b2-4c18-98d5-18c4de9992ce",
   "metadata": {},
   "outputs": [
    {
     "data": {
      "text/html": [
       "<div>\n",
       "<style scoped>\n",
       "    .dataframe tbody tr th:only-of-type {\n",
       "        vertical-align: middle;\n",
       "    }\n",
       "\n",
       "    .dataframe tbody tr th {\n",
       "        vertical-align: top;\n",
       "    }\n",
       "\n",
       "    .dataframe thead th {\n",
       "        text-align: right;\n",
       "    }\n",
       "</style>\n",
       "<table border=\"1\" class=\"dataframe\">\n",
       "  <thead>\n",
       "    <tr style=\"text-align: right;\">\n",
       "      <th>class</th>\n",
       "      <th>image_name</th>\n",
       "      <th>img_ball_count</th>\n",
       "      <th>img_team_0_count</th>\n",
       "      <th>img_team_1_count</th>\n",
       "    </tr>\n",
       "  </thead>\n",
       "  <tbody>\n",
       "    <tr>\n",
       "      <th>2632</th>\n",
       "      <td>top_view_12366.png</td>\n",
       "      <td>0</td>\n",
       "      <td>3</td>\n",
       "      <td>1</td>\n",
       "    </tr>\n",
       "    <tr>\n",
       "      <th>50828</th>\n",
       "      <td>top_view_7846.png</td>\n",
       "      <td>0</td>\n",
       "      <td>1</td>\n",
       "      <td>1</td>\n",
       "    </tr>\n",
       "    <tr>\n",
       "      <th>84552</th>\n",
       "      <td>wide_view_38197.png</td>\n",
       "      <td>0</td>\n",
       "      <td>1</td>\n",
       "      <td>3</td>\n",
       "    </tr>\n",
       "    <tr>\n",
       "      <th>76309</th>\n",
       "      <td>wide_view_30778.png</td>\n",
       "      <td>0</td>\n",
       "      <td>4</td>\n",
       "      <td>5</td>\n",
       "    </tr>\n",
       "    <tr>\n",
       "      <th>11078</th>\n",
       "      <td>top_view_19969.png</td>\n",
       "      <td>0</td>\n",
       "      <td>2</td>\n",
       "      <td>4</td>\n",
       "    </tr>\n",
       "    <tr>\n",
       "      <th>...</th>\n",
       "      <td>...</td>\n",
       "      <td>...</td>\n",
       "      <td>...</td>\n",
       "      <td>...</td>\n",
       "    </tr>\n",
       "    <tr>\n",
       "      <th>67940</th>\n",
       "      <td>wide_view_23245.png</td>\n",
       "      <td>0</td>\n",
       "      <td>4</td>\n",
       "      <td>3</td>\n",
       "    </tr>\n",
       "    <tr>\n",
       "      <th>28121</th>\n",
       "      <td>top_view_35306.png</td>\n",
       "      <td>0</td>\n",
       "      <td>0</td>\n",
       "      <td>4</td>\n",
       "    </tr>\n",
       "    <tr>\n",
       "      <th>84020</th>\n",
       "      <td>wide_view_37718.png</td>\n",
       "      <td>0</td>\n",
       "      <td>0</td>\n",
       "      <td>1</td>\n",
       "    </tr>\n",
       "    <tr>\n",
       "      <th>86315</th>\n",
       "      <td>wide_view_39784.png</td>\n",
       "      <td>0</td>\n",
       "      <td>4</td>\n",
       "      <td>2</td>\n",
       "    </tr>\n",
       "    <tr>\n",
       "      <th>41307</th>\n",
       "      <td>top_view_47174.png</td>\n",
       "      <td>0</td>\n",
       "      <td>0</td>\n",
       "      <td>1</td>\n",
       "    </tr>\n",
       "  </tbody>\n",
       "</table>\n",
       "<p>2459 rows × 4 columns</p>\n",
       "</div>"
      ],
      "text/plain": [
       "class           image_name  img_ball_count  img_team_0_count  img_team_1_count\n",
       "2632    top_view_12366.png               0                 3                 1\n",
       "50828    top_view_7846.png               0                 1                 1\n",
       "84552  wide_view_38197.png               0                 1                 3\n",
       "76309  wide_view_30778.png               0                 4                 5\n",
       "11078   top_view_19969.png               0                 2                 4\n",
       "...                    ...             ...               ...               ...\n",
       "67940  wide_view_23245.png               0                 4                 3\n",
       "28121   top_view_35306.png               0                 0                 4\n",
       "84020  wide_view_37718.png               0                 0                 1\n",
       "86315  wide_view_39784.png               0                 4                 2\n",
       "41307   top_view_47174.png               0                 0                 1\n",
       "\n",
       "[2459 rows x 4 columns]"
      ]
     },
     "execution_count": 4,
     "metadata": {},
     "output_type": "execute_result"
    }
   ],
   "source": [
    "objects_per_image.query('img_team_1_count > 0 & img_ball_count == 0')"
   ]
  },
  {
   "cell_type": "code",
   "execution_count": 5,
   "id": "c973fed7-10ad-4d7c-a73e-e791abd279cc",
   "metadata": {},
   "outputs": [
    {
     "data": {
      "text/html": [
       "<div>\n",
       "<style scoped>\n",
       "    .dataframe tbody tr th:only-of-type {\n",
       "        vertical-align: middle;\n",
       "    }\n",
       "\n",
       "    .dataframe tbody tr th {\n",
       "        vertical-align: top;\n",
       "    }\n",
       "\n",
       "    .dataframe thead th {\n",
       "        text-align: right;\n",
       "    }\n",
       "</style>\n",
       "<table border=\"1\" class=\"dataframe\">\n",
       "  <thead>\n",
       "    <tr style=\"text-align: right;\">\n",
       "      <th>class</th>\n",
       "      <th>image_name</th>\n",
       "      <th>img_ball_count</th>\n",
       "      <th>img_team_0_count</th>\n",
       "      <th>img_team_1_count</th>\n",
       "      <th>class</th>\n",
       "      <th>multiclass</th>\n",
       "      <th>ball_binary</th>\n",
       "      <th>team_0_binary</th>\n",
       "      <th>team_1_binary</th>\n",
       "    </tr>\n",
       "  </thead>\n",
       "  <tbody>\n",
       "    <tr>\n",
       "      <th>2632</th>\n",
       "      <td>top_view_12366.png</td>\n",
       "      <td>0</td>\n",
       "      <td>3</td>\n",
       "      <td>1</td>\n",
       "      <td>4</td>\n",
       "      <td>4</td>\n",
       "      <td>0</td>\n",
       "      <td>1</td>\n",
       "      <td>1</td>\n",
       "    </tr>\n",
       "    <tr>\n",
       "      <th>50828</th>\n",
       "      <td>top_view_7846.png</td>\n",
       "      <td>0</td>\n",
       "      <td>1</td>\n",
       "      <td>1</td>\n",
       "      <td>4</td>\n",
       "      <td>4</td>\n",
       "      <td>0</td>\n",
       "      <td>1</td>\n",
       "      <td>1</td>\n",
       "    </tr>\n",
       "    <tr>\n",
       "      <th>71332</th>\n",
       "      <td>wide_view_26299.png</td>\n",
       "      <td>1</td>\n",
       "      <td>9</td>\n",
       "      <td>9</td>\n",
       "      <td>7</td>\n",
       "      <td>7</td>\n",
       "      <td>1</td>\n",
       "      <td>1</td>\n",
       "      <td>1</td>\n",
       "    </tr>\n",
       "    <tr>\n",
       "      <th>98211</th>\n",
       "      <td>wide_view_7900.png</td>\n",
       "      <td>0</td>\n",
       "      <td>0</td>\n",
       "      <td>0</td>\n",
       "      <td>0</td>\n",
       "      <td>0</td>\n",
       "      <td>0</td>\n",
       "      <td>0</td>\n",
       "      <td>0</td>\n",
       "    </tr>\n",
       "    <tr>\n",
       "      <th>84552</th>\n",
       "      <td>wide_view_38197.png</td>\n",
       "      <td>0</td>\n",
       "      <td>1</td>\n",
       "      <td>3</td>\n",
       "      <td>4</td>\n",
       "      <td>4</td>\n",
       "      <td>0</td>\n",
       "      <td>1</td>\n",
       "      <td>1</td>\n",
       "    </tr>\n",
       "    <tr>\n",
       "      <th>...</th>\n",
       "      <td>...</td>\n",
       "      <td>...</td>\n",
       "      <td>...</td>\n",
       "      <td>...</td>\n",
       "      <td>...</td>\n",
       "      <td>...</td>\n",
       "      <td>...</td>\n",
       "      <td>...</td>\n",
       "      <td>...</td>\n",
       "    </tr>\n",
       "    <tr>\n",
       "      <th>44026</th>\n",
       "      <td>top_view_49621.png</td>\n",
       "      <td>0</td>\n",
       "      <td>0</td>\n",
       "      <td>0</td>\n",
       "      <td>0</td>\n",
       "      <td>0</td>\n",
       "      <td>0</td>\n",
       "      <td>0</td>\n",
       "      <td>0</td>\n",
       "    </tr>\n",
       "    <tr>\n",
       "      <th>44455</th>\n",
       "      <td>top_view_50006.png</td>\n",
       "      <td>1</td>\n",
       "      <td>9</td>\n",
       "      <td>5</td>\n",
       "      <td>7</td>\n",
       "      <td>7</td>\n",
       "      <td>1</td>\n",
       "      <td>1</td>\n",
       "      <td>1</td>\n",
       "    </tr>\n",
       "    <tr>\n",
       "      <th>86315</th>\n",
       "      <td>wide_view_39784.png</td>\n",
       "      <td>0</td>\n",
       "      <td>4</td>\n",
       "      <td>2</td>\n",
       "      <td>4</td>\n",
       "      <td>4</td>\n",
       "      <td>0</td>\n",
       "      <td>1</td>\n",
       "      <td>1</td>\n",
       "    </tr>\n",
       "    <tr>\n",
       "      <th>41307</th>\n",
       "      <td>top_view_47174.png</td>\n",
       "      <td>0</td>\n",
       "      <td>0</td>\n",
       "      <td>1</td>\n",
       "      <td>2</td>\n",
       "      <td>2</td>\n",
       "      <td>0</td>\n",
       "      <td>0</td>\n",
       "      <td>1</td>\n",
       "    </tr>\n",
       "    <tr>\n",
       "      <th>6587</th>\n",
       "      <td>top_view_15926.png</td>\n",
       "      <td>1</td>\n",
       "      <td>3</td>\n",
       "      <td>1</td>\n",
       "      <td>7</td>\n",
       "      <td>7</td>\n",
       "      <td>1</td>\n",
       "      <td>1</td>\n",
       "      <td>1</td>\n",
       "    </tr>\n",
       "  </tbody>\n",
       "</table>\n",
       "<p>10400 rows × 9 columns</p>\n",
       "</div>"
      ],
      "text/plain": [
       "class           image_name  img_ball_count  img_team_0_count  \\\n",
       "2632    top_view_12366.png               0                 3   \n",
       "50828    top_view_7846.png               0                 1   \n",
       "71332  wide_view_26299.png               1                 9   \n",
       "98211   wide_view_7900.png               0                 0   \n",
       "84552  wide_view_38197.png               0                 1   \n",
       "...                    ...             ...               ...   \n",
       "44026   top_view_49621.png               0                 0   \n",
       "44455   top_view_50006.png               1                 9   \n",
       "86315  wide_view_39784.png               0                 4   \n",
       "41307   top_view_47174.png               0                 0   \n",
       "6587    top_view_15926.png               1                 3   \n",
       "\n",
       "class  img_team_1_count  class  multiclass  ball_binary  team_0_binary  \\\n",
       "2632                  1      4           4            0              1   \n",
       "50828                 1      4           4            0              1   \n",
       "71332                 9      7           7            1              1   \n",
       "98211                 0      0           0            0              0   \n",
       "84552                 3      4           4            0              1   \n",
       "...                 ...    ...         ...          ...            ...   \n",
       "44026                 0      0           0            0              0   \n",
       "44455                 5      7           7            1              1   \n",
       "86315                 2      4           4            0              1   \n",
       "41307                 1      2           2            0              0   \n",
       "6587                  1      7           7            1              1   \n",
       "\n",
       "class  team_1_binary  \n",
       "2632               1  \n",
       "50828              1  \n",
       "71332              1  \n",
       "98211              0  \n",
       "84552              1  \n",
       "...              ...  \n",
       "44026              0  \n",
       "44455              1  \n",
       "86315              1  \n",
       "41307              1  \n",
       "6587               1  \n",
       "\n",
       "[10400 rows x 9 columns]"
      ]
     },
     "execution_count": 5,
     "metadata": {},
     "output_type": "execute_result"
    }
   ],
   "source": [
    "objects_per_image['class'] = objects_per_image[\n",
    "    ['img_ball_count', 'img_team_0_count', 'img_team_1_count']\n",
    "].apply(lambda x: class_mapping(x.img_ball_count, x.img_team_0_count, x.img_team_1_count), axis=1)\n",
    "\n",
    "objects_per_image['multiclass'] = objects_per_image['class']\n",
    "objects_per_image['ball_binary'] = objects_per_image['class'].replace(ball_remap)\n",
    "objects_per_image['team_0_binary'] = objects_per_image['class'].replace(team_0_remap)\n",
    "objects_per_image['team_1_binary'] = objects_per_image['class'].replace(team_1_remap)\n",
    "\n",
    "objects_per_image"
   ]
  },
  {
   "cell_type": "code",
   "execution_count": 6,
   "id": "e2f1fb79-d159-4e3f-b9a0-91d39fc68a22",
   "metadata": {},
   "outputs": [
    {
     "name": "stderr",
     "output_type": "stream",
     "text": [
      "C:\\Users\\timot\\anaconda3\\envs\\tf_env\\Lib\\site-packages\\seaborn\\_oldcore.py:1119: FutureWarning: use_inf_as_na option is deprecated and will be removed in a future version. Convert inf values to NaN before operating instead.\n",
      "  with pd.option_context('mode.use_inf_as_na', True):\n"
     ]
    },
    {
     "data": {
      "text/plain": [
       "<Axes: xlabel='class', ylabel='Count'>"
      ]
     },
     "execution_count": 6,
     "metadata": {},
     "output_type": "execute_result"
    },
    {
     "data": {
      "image/png": "[encoded data removed]",
      "text/plain": [
       "<Figure size 640x480 with 1 Axes>"
      ]
     },
     "metadata": {},
     "output_type": "display_data"
    }
   ],
   "source": [
    "sns.histplot(objects_per_image['class'])"
   ]
  },
  {
   "cell_type": "code",
   "execution_count": 7,
   "id": "571ad573-d34e-4a48-b66c-3560d68c7d8f",
   "metadata": {},
   "outputs": [],
   "source": [
    "# 2. Load the images and match to labels. Format as NumPy arrays.\n",
    "train_size, test_size = 80, 20\n",
    "paths_train = [data/\"images\"/name for name in objects_per_image['image_name'][0:train_size]] # Data is already shuffled.\n",
    "paths_test = [data/\"images\"/name for name in objects_per_image['image_name'][train_size:(train_size+test_size)]]"
   ]
  },
  {
   "cell_type": "code",
   "execution_count": 8,
   "id": "2795ab5b-535e-498d-85ea-69eaf78703dd",
   "metadata": {},
   "outputs": [],
   "source": [
    "X_train = np.array([img_to_array(load_img(path, color_mode='grayscale', target_size=(400, 400))) for path in paths_train])\n",
    "X_test = np.array([img_to_array(load_img(path, color_mode='grayscale', target_size=(400, 400))) for path in paths_test])\n"
   ]
  },
  {
   "cell_type": "code",
   "execution_count": 9,
   "id": "55e76cf4-3281-46b3-b74e-e6c8ba2ec1a4",
   "metadata": {},
   "outputs": [
    {
     "data": {
      "text/plain": [
       "(80, 400, 400)"
      ]
     },
     "execution_count": 9,
     "metadata": {},
     "output_type": "execute_result"
    }
   ],
   "source": [
    "X_train, X_test = np.squeeze(X_train), np.squeeze(X_test)\n",
    "X_train.shape"
   ]
  },
  {
   "cell_type": "code",
   "execution_count": 10,
   "id": "5c8a4775-1879-494d-9b17-b88b03a4557f",
   "metadata": {},
   "outputs": [
    {
     "data": {
      "text/plain": [
       "(80,)"
      ]
     },
     "execution_count": 10,
     "metadata": {},
     "output_type": "execute_result"
    }
   ],
   "source": [
    "multiclass_train, multiclass_test = np.array(objects_per_image['multiclass'][0:train_size]), np.array(objects_per_image['multiclass'][train_size:(train_size+test_size)])\n",
    "multiclass_train.shape"
   ]
  },
  {
   "cell_type": "code",
   "execution_count": 11,
   "id": "ae4d491c-f48e-4592-a6d7-d3471ca5c1c7",
   "metadata": {},
   "outputs": [
    {
     "data": {
      "text/plain": [
       "(80,)"
      ]
     },
     "execution_count": 11,
     "metadata": {},
     "output_type": "execute_result"
    }
   ],
   "source": [
    "ball_binary_train, ball_binary_test = np.array(objects_per_image['ball_binary'][0:train_size]), np.array(objects_per_image['ball_binary'][train_size:(train_size+test_size)])\n",
    "ball_binary_train.shape"
   ]
  },
  {
   "cell_type": "code",
   "execution_count": 12,
   "id": "29f157c5-07df-45c8-8f74-ea103518b7a4",
   "metadata": {},
   "outputs": [
    {
     "data": {
      "text/plain": [
       "(80,)"
      ]
     },
     "execution_count": 12,
     "metadata": {},
     "output_type": "execute_result"
    }
   ],
   "source": [
    "team_0_binary_train, team_0_binary_test = np.array(objects_per_image['team_0_binary'][0:train_size]), np.array(objects_per_image['team_0_binary'][train_size:(train_size+test_size)])\n",
    "team_0_binary_train.shape"
   ]
  },
  {
   "cell_type": "code",
   "execution_count": 13,
   "id": "9414cbb1-5c29-442d-a28d-c645c777d12a",
   "metadata": {},
   "outputs": [
    {
     "data": {
      "text/plain": [
       "(80,)"
      ]
     },
     "execution_count": 13,
     "metadata": {},
     "output_type": "execute_result"
    }
   ],
   "source": [
    "team_1_binary_train, team_1_binary_test = np.array(objects_per_image['team_1_binary'][0:train_size]), np.array(objects_per_image['team_1_binary'][train_size:(train_size+test_size)])\n",
    "team_1_binary_train.shape"
   ]
  },
  {
   "cell_type": "code",
   "execution_count": 14,
   "id": "bd532d5a-c0c3-46d7-a2d8-f522d24aeaf1",
   "metadata": {},
   "outputs": [],
   "source": [
    "# Define loss & model functions.\n",
    "# Re-used from T. Majidzadeh's HW 5 submission.\n",
    "# We re-formatted the data above so that it can work with this model.\n",
    "def build_model(n_classes, learning_rate=0.01):\n",
    "  \"\"\"Build a multi-class logistic regression model using Keras.\n",
    "\n",
    "  Args:\n",
    "    n_classes: Number of classes in the dataset\n",
    "    learning_rate: The desired learning rate for SGD.\n",
    "\n",
    "  Returns:\n",
    "    model: A tf.keras model (graph).\n",
    "  \"\"\"\n",
    "  tf.keras.backend.clear_session()\n",
    "  np.random.seed(0)\n",
    "  tf.random.set_seed(0)\n",
    "\n",
    "  model = keras.Sequential()\n",
    "  model.add(keras.layers.Flatten())\n",
    "  model.add(keras.layers.Dense(\n",
    "      # YOUR CODE HERE\n",
    "      units=n_classes,\n",
    "      activation=\"softmax\"\n",
    "  ))\n",
    "\n",
    "  optimizer = tf.keras.optimizers.SGD(learning_rate=learning_rate)\n",
    "  # YOUR CODE HERE\n",
    "  model.compile(loss=\"sparse_categorical_crossentropy\",\n",
    "                optimizer=optimizer, \n",
    "                metrics=['accuracy'])\n",
    "  return model"
   ]
  },
  {
   "cell_type": "code",
   "execution_count": 15,
   "id": "471e81d6-2288-492c-85bd-f47cd9db486f",
   "metadata": {},
   "outputs": [
    {
     "data": {
      "text/plain": [
       "array([4, 7, 0, 1, 2, 6, 5, 3], dtype=int64)"
      ]
     },
     "execution_count": 15,
     "metadata": {},
     "output_type": "execute_result"
    }
   ],
   "source": [
    "objects_per_image['class'].unique()"
   ]
  },
  {
   "cell_type": "code",
   "execution_count": 16,
   "id": "b26adf67-2f62-45cd-97dc-e9eabb8bd376",
   "metadata": {},
   "outputs": [
    {
     "name": "stdout",
     "output_type": "stream",
     "text": [
      "WARNING:tensorflow:From C:\\Users\\timot\\anaconda3\\envs\\tf_env\\Lib\\site-packages\\keras\\src\\backend\\common\\global_state.py:73: The name tf.reset_default_graph is deprecated. Please use tf.compat.v1.reset_default_graph instead.\n",
      "\n",
      "Epoch 1/5\n",
      "\u001b[1m2/2\u001b[0m \u001b[32m━━━━━━━━━━━━━━━━━━━━\u001b[0m\u001b[37m\u001b[0m \u001b[1m1s\u001b[0m 150ms/step - accuracy: 0.0856 - loss: 2550823.7500 - val_accuracy: 0.1250 - val_loss: 5404801.0000\n",
      "Epoch 2/5\n",
      "\u001b[1m2/2\u001b[0m \u001b[32m━━━━━━━━━━━━━━━━━━━━\u001b[0m\u001b[37m\u001b[0m \u001b[1m0s\u001b[0m 26ms/step - accuracy: 0.0712 - loss: 7137271.0000 - val_accuracy: 0.2500 - val_loss: 9732366.0000\n",
      "Epoch 3/5\n",
      "\u001b[1m2/2\u001b[0m \u001b[32m━━━━━━━━━━━━━━━━━━━━\u001b[0m\u001b[37m\u001b[0m \u001b[1m0s\u001b[0m 24ms/step - accuracy: 0.2159 - loss: 8796519.0000 - val_accuracy: 0.0000e+00 - val_loss: 9385886.0000\n",
      "Epoch 4/5\n",
      "\u001b[1m2/2\u001b[0m \u001b[32m━━━━━━━━━━━━━━━━━━━━\u001b[0m\u001b[37m\u001b[0m \u001b[1m0s\u001b[0m 25ms/step - accuracy: 0.0434 - loss: 9093494.0000 - val_accuracy: 0.3750 - val_loss: 11603648.0000\n",
      "Epoch 5/5\n",
      "\u001b[1m2/2\u001b[0m \u001b[32m━━━━━━━━━━━━━━━━━━━━\u001b[0m\u001b[37m\u001b[0m \u001b[1m0s\u001b[0m 24ms/step - accuracy: 0.5093 - loss: 7119684.5000 - val_accuracy: 0.2500 - val_loss: 4337132.0000\n"
     ]
    },
    {
     "data": {
      "text/plain": [
       "<keras.src.callbacks.history.History at 0x1f804d61400>"
      ]
     },
     "execution_count": 16,
     "metadata": {},
     "output_type": "execute_result"
    }
   ],
   "source": [
    "# Multiclass predictor\n",
    "multiclass_model = build_model(len(objects_per_image['class'].unique()))\n",
    "multiclass_model.fit(\n",
    "    x = X_train,\n",
    "    y = multiclass_train,\n",
    "    epochs = 5,\n",
    "    batch_size = 64,\n",
    "    validation_split = 0.1,\n",
    "    verbose=1\n",
    ")"
   ]
  },
  {
   "cell_type": "code",
   "execution_count": 17,
   "id": "adbcb795-34a1-404d-9fe2-b81032f9fa51",
   "metadata": {},
   "outputs": [],
   "source": [
    "def plot_confusion_matrix(labels, predictions, names):\n",
    "    '''\n",
    "    Plot a confusion matrix given a set of labels, names, and predictions.\n",
    "    '''\n",
    "    # Create a confusion matrix as a 2D array.\n",
    "    confusion_matrix = tf.math.confusion_matrix(labels, predictions)\n",
    "    \n",
    "    # Use a heatmap plot to display it.\n",
    "    ax = sns.heatmap(confusion_matrix, annot=True, fmt='.3g', cmap='Blues',\n",
    "                     xticklabels=names, yticklabels=names, cbar=False)\n",
    "    \n",
    "    # Add axis labels.\n",
    "    ax.set(xlabel='Predicted Label', ylabel='True Label')\n",
    "    plt.show()"
   ]
  },
  {
   "cell_type": "code",
   "execution_count": 18,
   "id": "f2f0c0a5-796c-4b08-803b-0dae5a148dc2",
   "metadata": {},
   "outputs": [
    {
     "name": "stdout",
     "output_type": "stream",
     "text": [
      "\u001b[1m1/1\u001b[0m \u001b[32m━━━━━━━━━━━━━━━━━━━━\u001b[0m\u001b[37m\u001b[0m \u001b[1m0s\u001b[0m 34ms/step\n",
      "[0 0 0 0 0 0 0 0 0 0 0 0 0 0 0 0 0 0 0 0]\n"
     ]
    },
    {
     "data": {
      "image/png": "[encoded data removed]",
      "text/plain": [
       "<Figure size 640x480 with 1 Axes>"
      ]
     },
     "metadata": {},
     "output_type": "display_data"
    }
   ],
   "source": [
    "multiclass_predictions = np.argmax(multiclass_model.predict(X_test), axis=-1)\n",
    "print(multiclass_predictions)\n",
    "plot_confusion_matrix(multiclass_test, multiclass_predictions, class_dict.values())"
   ]
  },
  {
   "cell_type": "code",
   "execution_count": 19,
   "id": "7be28596-9819-446e-a11f-6469870b7124",
   "metadata": {},
   "outputs": [
    {
     "name": "stdout",
     "output_type": "stream",
     "text": [
      "Epoch 1/5\n",
      "\u001b[1m2/2\u001b[0m \u001b[32m━━━━━━━━━━━━━━━━━━━━\u001b[0m\u001b[37m\u001b[0m \u001b[1m0s\u001b[0m 143ms/step - accuracy: 0.5145 - loss: 2626841.0000 - val_accuracy: 0.3750 - val_loss: 815561.5000\n",
      "Epoch 2/5\n",
      "\u001b[1m2/2\u001b[0m \u001b[32m━━━━━━━━━━━━━━━━━━━━\u001b[0m\u001b[37m\u001b[0m \u001b[1m0s\u001b[0m 23ms/step - accuracy: 0.5289 - loss: 3395460.0000 - val_accuracy: 0.3750 - val_loss: 2852045.0000\n",
      "Epoch 3/5\n",
      "\u001b[1m2/2\u001b[0m \u001b[32m━━━━━━━━━━━━━━━━━━━━\u001b[0m\u001b[37m\u001b[0m \u001b[1m0s\u001b[0m 23ms/step - accuracy: 0.5289 - loss: 3754575.2500 - val_accuracy: 0.3750 - val_loss: 4888529.5000\n",
      "Epoch 4/5\n",
      "\u001b[1m2/2\u001b[0m \u001b[32m━━━━━━━━━━━━━━━━━━━━\u001b[0m\u001b[37m\u001b[0m \u001b[1m0s\u001b[0m 23ms/step - accuracy: 0.5289 - loss: 4113690.5000 - val_accuracy: 0.3750 - val_loss: 6925015.0000\n",
      "Epoch 5/5\n",
      "\u001b[1m2/2\u001b[0m \u001b[32m━━━━━━━━━━━━━━━━━━━━\u001b[0m\u001b[37m\u001b[0m \u001b[1m0s\u001b[0m 23ms/step - accuracy: 0.5289 - loss: 4472806.0000 - val_accuracy: 0.3750 - val_loss: 8961497.0000\n"
     ]
    },
    {
     "data": {
      "text/plain": [
       "<keras.src.callbacks.history.History at 0x1f80faa5940>"
      ]
     },
     "execution_count": 19,
     "metadata": {},
     "output_type": "execute_result"
    }
   ],
   "source": [
    "# Ball presence predictor\n",
    "ball_binary_model = build_model(2)\n",
    "ball_binary_model.fit(\n",
    "    x = X_train,\n",
    "    y = ball_binary_train,\n",
    "    epochs = 5,\n",
    "    batch_size = 64,\n",
    "    validation_split = 0.1,\n",
    "    verbose=1\n",
    ")"
   ]
  },
  {
   "cell_type": "code",
   "execution_count": 20,
   "id": "160cb3d4-0623-4418-ad5b-32821122c6de",
   "metadata": {},
   "outputs": [
    {
     "name": "stdout",
     "output_type": "stream",
     "text": [
      "\u001b[1m1/1\u001b[0m \u001b[32m━━━━━━━━━━━━━━━━━━━━\u001b[0m\u001b[37m\u001b[0m \u001b[1m0s\u001b[0m 34ms/step\n",
      "[1 1 1 1 1 1 1 1 1 1 1 1 1 1 1 1 1 1 1 1]\n"
     ]
    },
    {
     "data": {
      "image/png": "[encoded data removed]",
      "text/plain": [
       "<Figure size 640x480 with 1 Axes>"
      ]
     },
     "metadata": {},
     "output_type": "display_data"
    }
   ],
   "source": [
    "ball_binary_predictions = np.argmax(ball_binary_model.predict(X_test), axis=-1)\n",
    "print(ball_binary_predictions)\n",
    "plot_confusion_matrix(ball_binary_test, ball_binary_predictions, [\"Not Present\", \"Present\"])"
   ]
  },
  {
   "cell_type": "code",
   "execution_count": 21,
   "id": "8504be59-07b4-4137-9bd6-5557604228ec",
   "metadata": {},
   "outputs": [
    {
     "name": "stdout",
     "output_type": "stream",
     "text": [
      "Epoch 1/5\n",
      "\u001b[1m2/2\u001b[0m \u001b[32m━━━━━━━━━━━━━━━━━━━━\u001b[0m\u001b[37m\u001b[0m \u001b[1m0s\u001b[0m 142ms/step - accuracy: 0.7222 - loss: 1758983.8750 - val_accuracy: 0.7500 - val_loss: 3330137.2500\n",
      "Epoch 2/5\n",
      "\u001b[1m2/2\u001b[0m \u001b[32m━━━━━━━━━━━━━━━━━━━━\u001b[0m\u001b[37m\u001b[0m \u001b[1m0s\u001b[0m 24ms/step - accuracy: 0.7263 - loss: 3715995.0000 - val_accuracy: 0.2500 - val_loss: 3802551.0000\n",
      "Epoch 3/5\n",
      "\u001b[1m2/2\u001b[0m \u001b[32m━━━━━━━━━━━━━━━━━━━━\u001b[0m\u001b[37m\u001b[0m \u001b[1m0s\u001b[0m 24ms/step - accuracy: 0.2922 - loss: 5018434.5000 - val_accuracy: 0.7500 - val_loss: 2583643.0000\n",
      "Epoch 4/5\n",
      "\u001b[1m2/2\u001b[0m \u001b[32m━━━━━━━━━━━━━━━━━━━━\u001b[0m\u001b[37m\u001b[0m \u001b[1m0s\u001b[0m 24ms/step - accuracy: 0.7263 - loss: 2456584.7500 - val_accuracy: 0.2500 - val_loss: 7060700.5000\n",
      "Epoch 5/5\n",
      "\u001b[1m2/2\u001b[0m \u001b[32m━━━━━━━━━━━━━━━━━━━━\u001b[0m\u001b[37m\u001b[0m \u001b[1m0s\u001b[0m 23ms/step - accuracy: 0.2922 - loss: 6526796.0000 - val_accuracy: 0.7500 - val_loss: 1837150.5000\n"
     ]
    },
    {
     "data": {
      "text/plain": [
       "<keras.src.callbacks.history.History at 0x1f80d19e2d0>"
      ]
     },
     "execution_count": 21,
     "metadata": {},
     "output_type": "execute_result"
    }
   ],
   "source": [
    "# Ball presence predictor\n",
    "team_0_binary_model = build_model(2)\n",
    "team_0_binary_model.fit(\n",
    "    x = X_train,\n",
    "    y = team_0_binary_train,\n",
    "    epochs = 5,\n",
    "    batch_size = 64,\n",
    "    validation_split = 0.1,\n",
    "    verbose=1\n",
    ")"
   ]
  },
  {
   "cell_type": "code",
   "execution_count": 22,
   "id": "84acf276-7f03-4125-82a9-9eee997c76b3",
   "metadata": {},
   "outputs": [
    {
     "name": "stdout",
     "output_type": "stream",
     "text": [
      "\u001b[1m1/1\u001b[0m \u001b[32m━━━━━━━━━━━━━━━━━━━━\u001b[0m\u001b[37m\u001b[0m \u001b[1m0s\u001b[0m 36ms/step\n",
      "[1 1 1 1 1 1 1 1 1 1 1 1 1 1 1 1 1 1 1 1]\n"
     ]
    },
    {
     "data": {
      "image/png": "[encoded data removed]",
      "text/plain": [
       "<Figure size 640x480 with 1 Axes>"
      ]
     },
     "metadata": {},
     "output_type": "display_data"
    }
   ],
   "source": [
    "team_0_binary_predictions = np.argmax(team_0_binary_model.predict(X_test), axis=-1)\n",
    "print(team_0_binary_predictions)\n",
    "plot_confusion_matrix(team_0_binary_test, team_0_binary_predictions, [\"Not Present\", \"Present\"])"
   ]
  },
  {
   "cell_type": "code",
   "execution_count": 23,
   "id": "252760b9-104a-4b88-92c4-b8bf8cbb12e9",
   "metadata": {},
   "outputs": [
    {
     "name": "stdout",
     "output_type": "stream",
     "text": [
      "Epoch 1/5\n",
      "\u001b[1m2/2\u001b[0m \u001b[32m━━━━━━━━━━━━━━━━━━━━\u001b[0m\u001b[37m\u001b[0m \u001b[1m0s\u001b[0m 155ms/step - accuracy: 0.7078 - loss: 2149931.5000 - val_accuracy: 0.6250 - val_loss: 4932944.0000\n",
      "Epoch 2/5\n",
      "\u001b[1m2/2\u001b[0m \u001b[32m━━━━━━━━━━━━━━━━━━━━\u001b[0m\u001b[37m\u001b[0m \u001b[1m0s\u001b[0m 24ms/step - accuracy: 0.7263 - loss: 3188885.0000 - val_accuracy: 0.3750 - val_loss: 5521619.0000\n",
      "Epoch 3/5\n",
      "\u001b[1m2/2\u001b[0m \u001b[32m━━━━━━━━━━━━━━━━━━━━\u001b[0m\u001b[37m\u001b[0m \u001b[1m0s\u001b[0m 23ms/step - accuracy: 0.2922 - loss: 6527764.0000 - val_accuracy: 0.6250 - val_loss: 3042021.5000\n",
      "Epoch 4/5\n",
      "\u001b[1m2/2\u001b[0m \u001b[32m━━━━━━━━━━━━━━━━━━━━\u001b[0m\u001b[37m\u001b[0m \u001b[1m0s\u001b[0m 23ms/step - accuracy: 0.7170 - loss: 1663595.2500 - val_accuracy: 0.6250 - val_loss: 6341554.0000\n",
      "Epoch 5/5\n",
      "\u001b[1m2/2\u001b[0m \u001b[32m━━━━━━━━━━━━━━━━━━━━\u001b[0m\u001b[37m\u001b[0m \u001b[1m0s\u001b[0m 24ms/step - accuracy: 0.7263 - loss: 4386844.0000 - val_accuracy: 0.3750 - val_loss: 2266027.2500\n"
     ]
    },
    {
     "data": {
      "text/plain": [
       "<keras.src.callbacks.history.History at 0x1f80dfed940>"
      ]
     },
     "execution_count": 23,
     "metadata": {},
     "output_type": "execute_result"
    }
   ],
   "source": [
    "# Ball presence predictor\n",
    "team_1_binary_model = build_model(2)\n",
    "team_1_binary_model.fit(\n",
    "    x = X_train,\n",
    "    y = team_1_binary_train,\n",
    "    epochs = 5,\n",
    "    batch_size = 64,\n",
    "    validation_split = 0.1,\n",
    "    verbose=1\n",
    ")"
   ]
  },
  {
   "cell_type": "code",
   "execution_count": 24,
   "id": "546c29e0-63dd-4a90-8b43-0bcd8cf62eee",
   "metadata": {},
   "outputs": [
    {
     "name": "stdout",
     "output_type": "stream",
     "text": [
      "\u001b[1m1/1\u001b[0m \u001b[32m━━━━━━━━━━━━━━━━━━━━\u001b[0m\u001b[37m\u001b[0m \u001b[1m0s\u001b[0m 35ms/step\n",
      "[0 0 0 0 0 0 0 0 0 0 0 0 0 0 0 0 0 0 0 0]\n"
     ]
    },
    {
     "data": {
      "image/png": "[encoded data removed]",
      "text/plain": [
       "<Figure size 640x480 with 1 Axes>"
      ]
     },
     "metadata": {},
     "output_type": "display_data"
    }
   ],
   "source": [
    "team_1_binary_predictions = np.argmax(team_1_binary_model.predict(X_test), axis=-1)\n",
    "print(team_1_binary_predictions)\n",
    "plot_confusion_matrix(team_1_binary_test, team_1_binary_predictions, [\"Not Present\", \"Present\"])"
   ]
  }
 ],
 "metadata": {
  "kernelspec": {
   "display_name": "Python 3 (ipykernel)",
   "language": "python",
   "name": "python3"
  },
  "language_info": {
   "codemirror_mode": {
    "name": "ipython",
    "version": 3
   },
   "file_extension": ".py",
   "mimetype": "text/x-python",
   "name": "python",
   "nbconvert_exporter": "python",
   "pygments_lexer": "ipython3",
   "version": "3.12.2"
  }
 },
 "nbformat": 4,
 "nbformat_minor": 5
}
