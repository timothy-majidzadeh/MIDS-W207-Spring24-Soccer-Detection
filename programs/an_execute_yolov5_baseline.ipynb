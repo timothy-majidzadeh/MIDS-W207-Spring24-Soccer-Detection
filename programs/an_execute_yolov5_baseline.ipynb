{
 "cells": [
  {
   "cell_type": "code",
   "execution_count": 26,
   "id": "996347af-161f-4299-a322-4ce3f8d97f1e",
   "metadata": {},
   "outputs": [],
   "source": [
    "import os\n",
    "os.chdir(\"D:/MIDS-W207/yolov5\")"
   ]
  },
  {
   "cell_type": "code",
   "execution_count": 27,
   "id": "ff19c16a-2d8c-497e-825b-1654b0ac7bf6",
   "metadata": {},
   "outputs": [
    {
     "data": {
      "text/plain": [
       "'D:\\\\MIDS-W207\\\\yolov5'"
      ]
     },
     "execution_count": 27,
     "metadata": {},
     "output_type": "execute_result"
    }
   ],
   "source": [
    "os.getcwd()"
   ]
  },
  {
   "cell_type": "code",
   "execution_count": 28,
   "id": "9d3f475c-bb76-41e1-8faa-7076a79b205b",
   "metadata": {},
   "outputs": [
    {
     "name": "stdout",
     "output_type": "stream",
     "text": [
      "\u001b[34m\u001b[1mgithub: \u001b[0mskipping check (not a git repository), for updates see https://github.com/ultralytics/yolov5\n"
     ]
    },
    {
     "name": "stderr",
     "output_type": "stream",
     "text": [
      "\u001b[34m\u001b[1mtrain: \u001b[0mweights=yolov5n.pt, cfg=, data=data/soccertrack.yaml, hyp=../datasets/soccertrack/hyp.soccertrack_baseline.yaml, epochs=3, batch_size=32, imgsz=800, rect=True, resume=False, nosave=False, noval=False, noautoanchor=False, noplots=False, evolve=None, evolve_population=data\\hyps, resume_evolve=None, bucket=, cache=None, image_weights=False, device=, multi_scale=False, single_cls=False, optimizer=Adam, sync_bn=False, workers=8, project=../MIDS-W207-Spring24-Soccer-Detection/analysis/YOLOv5/train, name=exp, exist_ok=False, quad=False, cos_lr=False, label_smoothing=0.0, patience=100, freeze=[0], save_period=-1, seed=0, local_rank=-1, entity=None, upload_dataset=False, bbox_interval=-1, artifact_alias=latest, ndjson_console=False, ndjson_file=False\n",
      "YOLOv5  2024-3-12 Python-3.9.18 torch-2.2.1+cpu CPU\n",
      "\n",
      "\u001b[34m\u001b[1mhyperparameters: \u001b[0mlr0=0.01, lrf=0.001, momentum=0.937, weight_decay=0.0005, warmup_epochs=1, warmup_momentum=0.8, warmup_bias_lr=0.1, box=0.05, cls=0.5, cls_pw=1.0, obj=1.0, obj_pw=1.0, iou_t=0.2, anchor_t=4.0, anchors=3, fl_gamma=0.0, hsv_h=0.015, hsv_s=0.7, hsv_v=0.4, degrees=0.0, translate=0.1, scale=0.5, shear=0.0, perspective=0.0, flipud=0.0, fliplr=0.5, mosaic=0.0, mixup=0.0, copy_paste=0.0\n",
      "\u001b[34m\u001b[1mComet: \u001b[0mrun 'pip install comet_ml' to automatically track and visualize YOLOv5  runs in Comet\n",
      "\u001b[34m\u001b[1mTensorBoard: \u001b[0mStart with 'tensorboard --logdir ..\\MIDS-W207-Spring24-Soccer-Detection\\analysis\\YOLOv5\\train', view at http://localhost:6006/\n",
      "Overriding model.yaml nc=80 with nc=3\n",
      "Overriding model.yaml anchors with anchors=3\n",
      "\n",
      "                 from  n    params  module                                  arguments                     \n",
      "  0                -1  1      1760  models.common.Conv                      [3, 16, 6, 2, 2]              \n",
      "  1                -1  1      4672  models.common.Conv                      [16, 32, 3, 2]                \n",
      "  2                -1  1      4800  models.common.C3                        [32, 32, 1]                   \n",
      "  3                -1  1     18560  models.common.Conv                      [32, 64, 3, 2]                \n",
      "  4                -1  2     29184  models.common.C3                        [64, 64, 2]                   \n",
      "  5                -1  1     73984  models.common.Conv                      [64, 128, 3, 2]               \n",
      "  6                -1  3    156928  models.common.C3                        [128, 128, 3]                 \n",
      "  7                -1  1    295424  models.common.Conv                      [128, 256, 3, 2]              \n",
      "  8                -1  1    296448  models.common.C3                        [256, 256, 1]                 \n",
      "  9                -1  1    164608  models.common.SPPF                      [256, 256, 5]                 \n",
      " 10                -1  1     33024  models.common.Conv                      [256, 128, 1, 1]              \n",
      " 11                -1  1         0  torch.nn.modules.upsampling.Upsample    [None, 2, 'nearest']          \n",
      " 12           [-1, 6]  1         0  models.common.Concat                    [1]                           \n",
      " 13                -1  1     90880  models.common.C3                        [256, 128, 1, False]          \n",
      " 14                -1  1      8320  models.common.Conv                      [128, 64, 1, 1]               \n",
      " 15                -1  1         0  torch.nn.modules.upsampling.Upsample    [None, 2, 'nearest']          \n",
      " 16           [-1, 4]  1         0  models.common.Concat                    [1]                           \n",
      " 17                -1  1     22912  models.common.C3                        [128, 64, 1, False]           \n",
      " 18                -1  1     36992  models.common.Conv                      [64, 64, 3, 2]                \n",
      " 19          [-1, 14]  1         0  models.common.Concat                    [1]                           \n",
      " 20                -1  1     74496  models.common.C3                        [128, 128, 1, False]          \n",
      " 21                -1  1    147712  models.common.Conv                      [128, 128, 3, 2]              \n",
      " 22          [-1, 10]  1         0  models.common.Concat                    [1]                           \n",
      " 23                -1  1    296448  models.common.C3                        [256, 256, 1, False]          \n",
      " 24      [17, 20, 23]  1     10824  models.yolo.Detect                      [3, [[0, 1, 2, 3, 4, 5], [0, 1, 2, 3, 4, 5], [0, 1, 2, 3, 4, 5]], [64, 128, 256]]\n",
      "Model summary: 214 layers, 1767976 parameters, 1767976 gradients, 4.2 GFLOPs\n",
      "\n",
      "Transferred 342/349 items from yolov5n.pt\n",
      "\u001b[34m\u001b[1moptimizer:\u001b[0m Adam(lr=0.01) with parameter groups 57 weight(decay=0.0), 60 weight(decay=0.0005), 60 bias\n",
      "WARNING  --rect is incompatible with DataLoader shuffle, setting shuffle=False\n",
      "\n",
      "\u001b[34m\u001b[1mtrain: \u001b[0mScanning D:\\MIDS-W207\\datasets\\soccertrack\\train_v1...:   0%|          | 0/70 [00:00<?, ?it/s]\n",
      "\u001b[34m\u001b[1mtrain: \u001b[0mScanning D:\\MIDS-W207\\datasets\\soccertrack\\train_v1... 1 images, 0 backgrounds, 0 corrupt:   1%|1         | 1/70 [00:09<10:25,  9.07s/it]\n",
      "\u001b[34m\u001b[1mtrain: \u001b[0mScanning D:\\MIDS-W207\\datasets\\soccertrack\\train_v1... 25 images, 0 backgrounds, 0 corrupt:  36%|###5      | 25/70 [00:09<00:11,  3.83it/s]\n",
      "\u001b[34m\u001b[1mtrain: \u001b[0mScanning D:\\MIDS-W207\\datasets\\soccertrack\\train_v1... 61 images, 0 backgrounds, 1 corrupt:  89%|########8 | 62/70 [00:09<00:00, 11.77it/s]\n",
      "\u001b[34m\u001b[1mtrain: \u001b[0mScanning D:\\MIDS-W207\\datasets\\soccertrack\\train_v1... 69 images, 0 backgrounds, 1 corrupt: 100%|##########| 70/70 [00:09<00:00,  7.54it/s]\n",
      "\u001b[34m\u001b[1mtrain: \u001b[0mWARNING  D:\\MIDS-W207\\datasets\\soccertrack\\images\\top_view\\D_20220220_1_0000_0030\\D_20220220_1_0000_0030_62.png: ignoring corrupt image/label: [Errno 2] No such file or directory: 'D:\\\\MIDS-W207\\\\datasets\\\\soccertrack\\\\images\\\\top_view\\\\D_20220220_1_0000_0030\\\\D_20220220_1_0000_0030_62.png'\n",
      "\u001b[34m\u001b[1mtrain: \u001b[0mWARNING  Cache directory D:\\MIDS-W207\\datasets\\soccertrack is not writeable: [WinError 183] Cannot create a file when that file already exists: 'D:\\\\MIDS-W207\\\\datasets\\\\soccertrack\\\\train_v1.cache.npy' -> 'D:\\\\MIDS-W207\\\\datasets\\\\soccertrack\\\\train_v1.cache'\n",
      "\n",
      "\u001b[34m\u001b[1mval: \u001b[0mScanning D:\\MIDS-W207\\datasets\\soccertrack\\val_v1...:   0%|          | 0/15 [00:00<?, ?it/s]\n",
      "\u001b[34m\u001b[1mval: \u001b[0mScanning D:\\MIDS-W207\\datasets\\soccertrack\\val_v1... 1 images, 0 backgrounds, 0 corrupt:   7%|6         | 1/15 [00:12<02:51, 12.26s/it]\n",
      "\u001b[34m\u001b[1mval: \u001b[0mScanning D:\\MIDS-W207\\datasets\\soccertrack\\val_v1... 15 images, 0 backgrounds, 0 corrupt: 100%|##########| 15/15 [00:12<00:00,  1.21it/s]\n",
      "\u001b[34m\u001b[1mval: \u001b[0mWARNING  Cache directory D:\\MIDS-W207\\datasets\\soccertrack is not writeable: [WinError 183] Cannot create a file when that file already exists: 'D:\\\\MIDS-W207\\\\datasets\\\\soccertrack\\\\val_v1.cache.npy' -> 'D:\\\\MIDS-W207\\\\datasets\\\\soccertrack\\\\val_v1.cache'\n",
      "\n",
      "\u001b[34m\u001b[1mAutoAnchor: \u001b[0m4.40 anchors/target, 1.000 Best Possible Recall (BPR). Current anchors are a good fit to dataset \n",
      "Plotting labels to ..\\MIDS-W207-Spring24-Soccer-Detection\\analysis\\YOLOv5\\train\\exp2\\labels.jpg... \n",
      "Image sizes 800 train, 800 val\n",
      "Using 8 dataloader workers\n",
      "Logging results to \u001b[1m..\\MIDS-W207-Spring24-Soccer-Detection\\analysis\\YOLOv5\\train\\exp2\u001b[0m\n",
      "Starting training for 3 epochs...\n",
      "\n",
      "      Epoch    GPU_mem   box_loss   obj_loss   cls_loss  Instances       Size\n",
      "\n",
      "  0%|          | 0/3 [00:00<?, ?it/s]\n",
      "        0/2         0G     0.2079    0.04303    0.04672        712        800:   0%|          | 0/3 [00:09<?, ?it/s]\n",
      "        0/2         0G     0.2079    0.04303    0.04672        712        800:  33%|###3      | 1/3 [00:09<00:19,  9.86s/it]\n",
      "        0/2         0G     0.2037     0.0409    0.04389        704        800:  33%|###3      | 1/3 [00:17<00:19,  9.86s/it]\n",
      "        0/2         0G     0.2037     0.0409    0.04389        704        800:  67%|######6   | 2/3 [00:17<00:08,  8.53s/it]\n",
      "        0/2         0G     0.1989    0.04173    0.04133        111        800:  67%|######6   | 2/3 [00:18<00:08,  8.53s/it]\n",
      "        0/2         0G     0.1989    0.04173    0.04133        111        800: 100%|##########| 3/3 [00:18<00:00,  5.14s/it]\n",
      "        0/2         0G     0.1989    0.04173    0.04133        111        800: 100%|##########| 3/3 [00:18<00:00,  6.19s/it]\n",
      "\n",
      "                 Class     Images  Instances          P          R      mAP50   mAP50-95:   0%|          | 0/1 [00:00<?, ?it/s]\n",
      "                 Class     Images  Instances          P          R      mAP50   mAP50-95: 100%|##########| 1/1 [00:01<00:00,  1.82s/it]\n",
      "                 Class     Images  Instances          P          R      mAP50   mAP50-95: 100%|##########| 1/1 [00:01<00:00,  1.82s/it]\n",
      "                   all         15        345          0          0          0          0\n",
      "\n",
      "      Epoch    GPU_mem   box_loss   obj_loss   cls_loss  Instances       Size\n",
      "\n",
      "  0%|          | 0/3 [00:00<?, ?it/s]\n",
      "        1/2         0G     0.1837    0.04586    0.03391        710        800:   0%|          | 0/3 [00:07<?, ?it/s]\n",
      "        1/2         0G     0.1837    0.04586    0.03391        710        800:  33%|###3      | 1/3 [00:07<00:15,  7.77s/it]\n",
      "        1/2         0G     0.1819    0.04808    0.03274        709        800:  33%|###3      | 1/3 [00:15<00:15,  7.77s/it]\n",
      "        1/2         0G     0.1819    0.04808    0.03274        709        800:  67%|######6   | 2/3 [00:15<00:07,  7.69s/it]\n",
      "        1/2         0G     0.1821      0.047    0.03176        110        800:  67%|######6   | 2/3 [00:16<00:07,  7.69s/it]\n",
      "        1/2         0G     0.1821      0.047    0.03176        110        800: 100%|##########| 3/3 [00:16<00:00,  4.71s/it]\n",
      "        1/2         0G     0.1821      0.047    0.03176        110        800: 100%|##########| 3/3 [00:16<00:00,  5.52s/it]\n",
      "\n",
      "                 Class     Images  Instances          P          R      mAP50   mAP50-95:   0%|          | 0/1 [00:00<?, ?it/s]WARNING  NMS time limit 1.250s exceeded\n",
      "\n",
      "                 Class     Images  Instances          P          R      mAP50   mAP50-95: 100%|##########| 1/1 [00:02<00:00,  2.32s/it]\n",
      "                 Class     Images  Instances          P          R      mAP50   mAP50-95: 100%|##########| 1/1 [00:02<00:00,  2.32s/it]\n",
      "                   all         15        345          0          0          0          0\n",
      "\n",
      "      Epoch    GPU_mem   box_loss   obj_loss   cls_loss  Instances       Size\n",
      "\n",
      "  0%|          | 0/3 [00:00<?, ?it/s]\n",
      "        2/2         0G     0.1709    0.05152    0.02835        709        800:   0%|          | 0/3 [00:07<?, ?it/s]\n",
      "        2/2         0G     0.1709    0.05152    0.02835        709        800:  33%|###3      | 1/3 [00:07<00:15,  7.73s/it]\n",
      "        2/2         0G     0.1679    0.05422    0.02799        707        800:  33%|###3      | 1/3 [00:15<00:15,  7.73s/it]\n",
      "        2/2         0G     0.1679    0.05422    0.02799        707        800:  67%|######6   | 2/3 [00:15<00:07,  7.67s/it]\n",
      "        2/2         0G     0.1679    0.05203    0.02741        109        800:  67%|######6   | 2/3 [00:16<00:07,  7.67s/it]\n",
      "        2/2         0G     0.1679    0.05203    0.02741        109        800: 100%|##########| 3/3 [00:16<00:00,  4.72s/it]\n",
      "        2/2         0G     0.1679    0.05203    0.02741        109        800: 100%|##########| 3/3 [00:16<00:00,  5.52s/it]\n",
      "\n",
      "                 Class     Images  Instances          P          R      mAP50   mAP50-95:   0%|          | 0/1 [00:00<?, ?it/s]WARNING  NMS time limit 1.250s exceeded\n",
      "\n",
      "                 Class     Images  Instances          P          R      mAP50   mAP50-95: 100%|##########| 1/1 [00:02<00:00,  2.40s/it]\n",
      "                 Class     Images  Instances          P          R      mAP50   mAP50-95: 100%|##########| 1/1 [00:02<00:00,  2.40s/it]\n",
      "                   all         15        345          0          0          0          0\n",
      "\n",
      "3 epochs completed in 0.016 hours.\n",
      "Optimizer stripped from ..\\MIDS-W207-Spring24-Soccer-Detection\\analysis\\YOLOv5\\train\\exp2\\weights\\last.pt, 3.9MB\n",
      "Optimizer stripped from ..\\MIDS-W207-Spring24-Soccer-Detection\\analysis\\YOLOv5\\train\\exp2\\weights\\best.pt, 3.9MB\n",
      "\n",
      "Validating ..\\MIDS-W207-Spring24-Soccer-Detection\\analysis\\YOLOv5\\train\\exp2\\weights\\best.pt...\n",
      "Fusing layers... \n",
      "Model summary: 157 layers, 1763224 parameters, 0 gradients, 4.1 GFLOPs\n",
      "\n",
      "                 Class     Images  Instances          P          R      mAP50   mAP50-95:   0%|          | 0/1 [00:00<?, ?it/s]WARNING  NMS time limit 1.250s exceeded\n",
      "\n",
      "                 Class     Images  Instances          P          R      mAP50   mAP50-95: 100%|##########| 1/1 [00:02<00:00,  2.29s/it]\n",
      "                 Class     Images  Instances          P          R      mAP50   mAP50-95: 100%|##########| 1/1 [00:02<00:00,  2.29s/it]\n",
      "                   all         15        345          0          0          0          0\n",
      "Results saved to \u001b[1m..\\MIDS-W207-Spring24-Soccer-Detection\\analysis\\YOLOv5\\train\\exp2\u001b[0m\n"
     ]
    }
   ],
   "source": [
    "\n",
    "!python train.py --weights yolov5n.pt --data data/soccertrack.yaml --epochs 3 --batch-size 32 --imgsz 800 --rect \\\n",
    "--optimizer Adam --project ../MIDS-W207-Spring24-Soccer-Detection/analysis/YOLOv5/train --hyp ../datasets/soccertrack/hyp.soccertrack_baseline.yaml"
   ]
  },
  {
   "cell_type": "code",
   "execution_count": 29,
   "id": "e41e7f57-4534-4b00-9105-acbf6bd66ebe",
   "metadata": {},
   "outputs": [
    {
     "name": "stdout",
     "output_type": "stream",
     "text": [
      "loading annotations into memory...\n"
     ]
    },
    {
     "name": "stderr",
     "output_type": "stream",
     "text": [
      "\u001b[34m\u001b[1mval: \u001b[0mdata=data/soccertrack.yaml, weights=['../MIDS-W207-Spring24-Soccer-Detection/analysis/YOLOv5/train/exp/weights/best.pt'], batch_size=32, imgsz=800, conf_thres=0.001, iou_thres=0.5, max_det=300, task=val, device=, workers=8, single_cls=False, augment=False, verbose=True, save_txt=True, save_hybrid=False, save_conf=True, save_json=True, project=../MIDS-W207-Spring24-Soccer-Detection/analysis/YOLOv5/val, name=exp, exist_ok=False, half=False, dnn=False\n",
      "YOLOv5  2024-3-12 Python-3.9.18 torch-2.2.1+cpu CPU\n",
      "\n",
      "Fusing layers... \n",
      "Model summary: 157 layers, 1763224 parameters, 0 gradients, 4.1 GFLOPs\n",
      "\n",
      "\u001b[34m\u001b[1mval: \u001b[0mScanning D:\\MIDS-W207\\datasets\\soccertrack\\val_v1...:   0%|          | 0/15 [00:00<?, ?it/s]\n",
      "\u001b[34m\u001b[1mval: \u001b[0mScanning D:\\MIDS-W207\\datasets\\soccertrack\\val_v1... 1 images, 0 backgrounds, 0 corrupt:   7%|6         | 1/15 [00:08<02:02,  8.72s/it]\n",
      "\u001b[34m\u001b[1mval: \u001b[0mScanning D:\\MIDS-W207\\datasets\\soccertrack\\val_v1... 15 images, 0 backgrounds, 0 corrupt: 100%|##########| 15/15 [00:08<00:00,  1.71it/s]\n",
      "\u001b[34m\u001b[1mval: \u001b[0mWARNING  Cache directory D:\\MIDS-W207\\datasets\\soccertrack is not writeable: [WinError 183] Cannot create a file when that file already exists: 'D:\\\\MIDS-W207\\\\datasets\\\\soccertrack\\\\val_v1.cache.npy' -> 'D:\\\\MIDS-W207\\\\datasets\\\\soccertrack\\\\val_v1.cache'\n",
      "\n",
      "                 Class     Images  Instances          P          R      mAP50   mAP50-95:   0%|          | 0/1 [00:00<?, ?it/s]\n",
      "                 Class     Images  Instances          P          R      mAP50   mAP50-95: 100%|##########| 1/1 [00:06<00:00,  6.09s/it]\n",
      "                 Class     Images  Instances          P          R      mAP50   mAP50-95: 100%|##########| 1/1 [00:06<00:00,  6.09s/it]\n",
      "                   all         15        345          0          0          0          0\n",
      "Speed: 1.6ms pre-process, 91.3ms inference, 15.7ms NMS per image at shape (32, 3, 800, 800)\n",
      "\n",
      "Evaluating pycocotools mAP... saving ..\\MIDS-W207-Spring24-Soccer-Detection\\analysis\\YOLOv5\\val\\exp4\\best_predictions.json...\n",
      "pycocotools unable to run: [Errno 2] No such file or directory: 'D:/MIDS-W207/datasets/soccertrack\\\\annotations\\\\instances_val2017.json'\n",
      "Results saved to \u001b[1m..\\MIDS-W207-Spring24-Soccer-Detection\\analysis\\YOLOv5\\val\\exp4\u001b[0m\n",
      "15 labels saved to ..\\MIDS-W207-Spring24-Soccer-Detection\\analysis\\YOLOv5\\val\\exp4\\labels\n"
     ]
    }
   ],
   "source": [
    "!python val.py --weights ../MIDS-W207-Spring24-Soccer-Detection/analysis/YOLOv5/train/exp/weights/best.pt \\\n",
    "--data data/soccertrack.yaml --batch-size 32 --imgsz 800 --iou-thres 0.5 --verbose --save-txt --save-conf \\\n",
    "--save-json --project ../MIDS-W207-Spring24-Soccer-Detection/analysis/YOLOv5/val\n"
   ]
  },
  {
   "cell_type": "code",
   "execution_count": null,
   "id": "420521e0-0fcd-4713-8a58-03adc2b5a4b1",
   "metadata": {},
   "outputs": [],
   "source": []
  }
 ],
 "metadata": {
  "kernelspec": {
   "display_name": "Python 3 (ipykernel)",
   "language": "python",
   "name": "python3"
  },
  "language_info": {
   "codemirror_mode": {
    "name": "ipython",
    "version": 3
   },
   "file_extension": ".py",
   "mimetype": "text/x-python",
   "name": "python",
   "nbconvert_exporter": "python",
   "pygments_lexer": "ipython3",
   "version": "3.9.18"
  }
 },
 "nbformat": 4,
 "nbformat_minor": 5
}
