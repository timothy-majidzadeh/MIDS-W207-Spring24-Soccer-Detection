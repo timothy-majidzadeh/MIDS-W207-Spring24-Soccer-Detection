{
  "cells": [
    {
      "cell_type": "code",
      "execution_count": null,
      "metadata": {
        "colab": {
          "base_uri": "https://localhost:8080/"
        },
        "id": "Cg2ljB7HJQvo",
        "outputId": "5cf86b13-6fdc-4523-ebd9-e343519d7cd9"
      },
      "outputs": [
        {
          "output_type": "stream",
          "name": "stdout",
          "text": [
            "Mounted at /content/gdrive/\n"
          ]
        }
      ],
      "source": [
        "#######################################################################################\n",
        "# Written by: Etienne Ndedi                                                          ##\n",
        "#       Date: March 01, 2024                                                         ##\n",
        "#     Update: March 14, 2024                                                         ##\n",
        "#     Update: April 2, 2024                                                          ##\n",
        "#       File: extract_images_From_Video.py                                           ##\n",
        "# Objective: write this alternative code to translate videos to images and validate  ##\n",
        "#            the count of images on a per-video basis. Tim wrote code to loop through##\n",
        "#            the videos. This is to ensure we are in sync with translation and counts##\n",
        "#            obtained using using Jupyter Notebooks (anaconda prompt run)            ##\n",
        "#######################################################################################\n",
        "\n",
        "\n",
        "from moviepy.editor import VideoFileClip\n",
        "import os\n",
        "\n",
        "from google.colab import drive\n",
        "drive.mount('/content/gdrive/', force_remount=True)\n",
        "data_file = \"/content/gdrive/MyDrive/Colab Notebooks/SoccerTrack/top_view/videos/D_20220220_1_0570_0600.mp4\"\n",
        "img_path= \"/content/gdrive/MyDrive/Colab Notebooks/SoccerTrack/top_view/videos/D_20220220_1_0570_0600\"\n",
        "\n",
        "\n",
        "def extract_frames(movie, times, imgdir):\n",
        "  if not os.path.exists(imgdir):\n",
        "    os.mkdir(imgdir)\n",
        "  clip = VideoFileClip(movie)\n",
        "  for t in times:\n",
        "    imgpath = os.path.join(imgdir, '{}.png'.format(int(t * clip.fps)))\n",
        "    clip.save_frame(imgpath, t)\n",
        "\n",
        "movie = data_file\n",
        "imgdir = \"/content/gdrive/MyDrive/Colab Notebooks/SoccerTrack/top_view/videos/D_20220220_1_0570_0600\"\n",
        "clip = VideoFileClip(movie)\n",
        "times = [i/clip.fps for i in range(int(clip.fps * clip.duration))]\n",
        "#times = [10, 20, 30]\n",
        "extract_frames(movie, times, imgdir)\n"
      ]
    }
  ],
  "metadata": {
    "colab": {
      "provenance": []
    },
    "kernelspec": {
      "display_name": "Python 3",
      "name": "python3"
    },
    "language_info": {
      "name": "python"
    }
  },
  "nbformat": 4,
  "nbformat_minor": 0
}