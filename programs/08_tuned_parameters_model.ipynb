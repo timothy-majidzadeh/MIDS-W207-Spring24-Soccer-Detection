{
 "cells": [
  {
   "cell_type": "code",
   "execution_count": null,
   "id": "b3ec58d2-1c91-40cb-9aeb-20fcbfbeda15",
   "metadata": {},
   "outputs": [],
   "source": [
    "from ultralytics import YOLO\n",
    "import os\n",
    "\n",
    "# Author: Timothy Majidzadeh\n",
    "# Date Created: April 16, 2024\n",
    "# Date Updated: April 17, 2024\n",
    "# Description: Run YOLOv7 for 20 epochs with all of the tuned parameters.\n",
    "# Notes: [v1] Created program.\n",
    "# Inputs: Ultralytics-formatted data.\n",
    "# Outputs: Model training & validation statistics for different versions of YOLO."
   ]
  },
  {
   "cell_type": "code",
   "execution_count": null,
   "id": "af53fba4-3c1b-4347-9f45-afbd31e6fe32",
   "metadata": {
    "scrolled": true
   },
   "outputs": [],
   "source": [
    "## Tuned model\n",
    "os.chdir(\"D:/MIDS-W207/yolov7\")\n",
    "print(\"Training tuned model...\")\n",
    "!python train.py --weights yolov7-tiny.pt --data data/soccertrack_square_oversampled.yaml --hyp data/hyp.scratch.custom.extra_aug.yaml --epochs 20 --batch-size 64 --img-size 800 --adam --project ../MIDS-W207-Spring24-Soccer-Detection/analysis/Tuned/train\n",
    "print(\"Done!\")\n",
    "\n",
    "print(\"Validating YOLOv7...\")\n",
    "!python test.py --weights ../MIDS-W207-Spring24-Soccer-Detection/analysis/Tuned/train/exp/weights/best.pt --data data/soccertrack_square_oversampled.yaml --batch-size 64 --img-size 800 --iou-thres 0.5 --verbose --save-txt --save-conf --project ../MIDS-W207-Spring24-Soccer-Detection/analysis/Tuned/val --task val\n",
    "print(\"Done!\")\n",
    "\n",
    "print(\"Testing YOLOv7...\")\n",
    "!python test.py --weights ../MIDS-W207-Spring24-Soccer-Detection/analysis/Tuned/train/exp/weights/best.pt --data data/soccertrack_square_oversampled.yaml --batch-size 64 --img-size 800 --iou-thres 0.5 --verbose --save-txt --save-conf --project ../MIDS-W207-Spring24-Soccer-Detection/analysis/Tuned/test --task test\n",
    "print(\"Done!\")"
   ]
  },
  {
   "cell_type": "code",
   "execution_count": null,
   "id": "39c0f9b3-fdac-4976-95fc-763ba8fa01bc",
   "metadata": {},
   "outputs": [],
   "source": [
    "## Model was interrupted. Resuming...\n",
    "# os.chdir(\"D:/MIDS-W207/yolov7\")\n",
    "# print(\"Training tuned model...\")\n",
    "# !python train.py --resume  ../MIDS-W207-Spring24-Soccer-Detection/analysis/Tuned/train/exp/weights/last.pt\n",
    "# print(\"Done!\")\n",
    "\n",
    "# print(\"Validating YOLOv7...\")\n",
    "# !python test.py --weights ../MIDS-W207-Spring24-Soccer-Detection/analysis/Tuned/train/exp/weights/best.pt --data data/soccertrack_square_oversampled.yaml --batch-size 64 --img-size 800 --iou-thres 0.5 --verbose --save-txt --save-conf --project ../MIDS-W207-Spring24-Soccer-Detection/analysis/Tuned/val --task val\n",
    "# print(\"Done!\")\n",
    "\n",
    "# print(\"Testing YOLOv7...\")\n",
    "# !python test.py --weights ../MIDS-W207-Spring24-Soccer-Detection/analysis/Tuned/train/exp/weights/best.pt --data data/soccertrack_square_oversampled.yaml --batch-size 64 --img-size 800 --iou-thres 0.5 --verbose --save-txt --save-conf --project ../MIDS-W207-Spring24-Soccer-Detection/analysis/Tuned/test --task test\n",
    "# print(\"Done!\")"
   ]
  }
 ],
 "metadata": {
  "kernelspec": {
   "display_name": "Python 3 (ipykernel)",
   "language": "python",
   "name": "python3"
  },
  "language_info": {
   "codemirror_mode": {
    "name": "ipython",
    "version": 3
   },
   "file_extension": ".py",
   "mimetype": "text/x-python",
   "name": "python",
   "nbconvert_exporter": "python",
   "pygments_lexer": "ipython3",
   "version": "3.9.7"
  }
 },
 "nbformat": 4,
 "nbformat_minor": 5
}
