{
 "cells": [
  {
   "cell_type": "code",
   "execution_count": 1,
   "id": "fd28a7a5-4a64-4dbb-9390-6909f5c4ac0f",
   "metadata": {},
   "outputs": [],
   "source": [
    "import pandas as pd\n",
    "from pathlib import Path\n",
    "import os\n",
    "mids_dir = Path(\"D:\\\\MIDS-W207\")\n",
    "data = mids_dir/\"datasets/soccertrack\"\n",
    "project = mids_dir/\"MIDS-W207-Spring24-Soccer-Detection\"\n",
    "analysis = project/\"analysis\"\n",
    "\n",
    "# Author: Timothy Majidzadeh\n",
    "# Date Created: March 7, 2024\n",
    "# Date Updated: March 12, 2024\n",
    "# Description: Develop the baseline YOLOv5 model data.\n",
    "# Notes: [v1] Created program.\n",
    "# Inputs: Frame-by-frame image data & labels.\n",
    "# Outputs: The data prepared for use in YOLOv5 using Ultralytics."
   ]
  },
  {
   "cell_type": "code",
   "execution_count": 2,
   "id": "e7a628e8-b5b0-44b0-bfd0-2c6a54b97971",
   "metadata": {},
   "outputs": [],
   "source": [
    "top_view_labels = pd.read_pickle(data/\"labels/top_view_labels_stacked/top_view_labels.pkl\")\n",
    "wide_view_labels = pd.read_pickle(data/\"labels/wide_view_labels_stacked/wide_view_labels.pkl\")"
   ]
  },
  {
   "cell_type": "code",
   "execution_count": 3,
   "id": "d69094af-eec6-479e-93ed-e2e29a9a1cca",
   "metadata": {},
   "outputs": [],
   "source": [
    "\n",
    "def format_labels_to_ultralytics(\n",
    "    input_df, output_dir=data/\"labels\", input_type='top_view', \n",
    "    input_height=2160, input_width=3840, class_dict={'ball': 0, 'team_0': 1, 'team_1': 2}\n",
    "):\n",
    "    \"\"\"\n",
    "    Output the bounding boxes as text files in YOLOv5 Ultralytics Format.\n",
    "    Inputs:\n",
    "        input_df: A DataFrame of bounding boxes with corresponding images.\n",
    "        output_dir: A PathLib Path which points to the directory where labels should output.\n",
    "        input_type: 'top_view' or 'wide_view'\n",
    "        input_height: The height of the images, as an integer in pixels.\n",
    "        input_width: The width of the images, as an integer in pixels.\n",
    "        class dict: A dictionary of classes to include and associated ids. Classes are strings appearing in input_df\n",
    "                    and ids are an integer index starting from 0.\n",
    "    Outputs:\n",
    "        Saves a .txt file for every image with the path bounding boxes in YOLOv5 desired format.\n",
    "    \"\"\"\n",
    "    if ((input_type != 'top_view') & (input_type != 'wide_view')):\n",
    "        raise Exception(\"Please set input_type to 'top_view' or 'wide_view'.\")\n",
    "    \n",
    "    input_df = input_df.copy().reset_index()\n",
    "    # For each vidname, ensure the directory exists.\n",
    "    for i in input_df.index:\n",
    "        vidname, frame = input_df.loc[i, 'vidname'][0].strip(), str(input_df.loc[i, 'frame'][0]).strip()\n",
    "        output_path = output_dir/\"{}/{}/{}_{}.txt\".format(input_type, vidname, vidname, frame)\n",
    "        if not os.path.exists(output_dir/\"{}/{}\".format(input_type, vidname)):\n",
    "            os.makedirs(output_dir/\"{}/{}\".format(input_type, vidname))\n",
    "        # for each frame, save the relevant classes & bounding boxes to a text file.\n",
    "        with open(output_path, 'w') as f:\n",
    "            i = 0\n",
    "            for class_name in class_dict.keys():\n",
    "                class_index = str(class_dict[class_name])\n",
    "                for instance in input_df[class_name].columns.get_level_values(0).unique():\n",
    "                    left = input_df[class_name][instance]['bb_left'][0]\n",
    "                    top = input_df[class_name][instance]['bb_top'][0]\n",
    "                    width = input_df[class_name][instance]['bb_width'][0]\n",
    "                    height = input_df[class_name][instance]['bb_height'][0]\n",
    "\n",
    "                    left, width = left / input_width, width / input_width\n",
    "                    top, height = top / input_height, height / input_height\n",
    "\n",
    "                    xcenter, ycenter = left + width / 2, top + height / 2\n",
    "                    \n",
    "                    if i == 0:\n",
    "                        to_write = \" \".join((str(class_index), str(xcenter), str(ycenter), str(width), str(height)))\n",
    "                    else:\n",
    "                        to_write += \"\\n\" + \" \".join((str(class_index), str(xcenter), str(ycenter), str(width), str(height)))\n",
    "                    i += 1\n",
    "            f.write(to_write)\n",
    "            f.close()\n"
   ]
  },
  {
   "cell_type": "code",
   "execution_count": null,
   "id": "08ab5ab7-962d-4664-bad2-0ee2a7d07fa0",
   "metadata": {},
   "outputs": [
    {
     "name": "stderr",
     "output_type": "stream",
     "text": [
      "C:\\Users\\timot\\AppData\\Local\\Temp\\ipykernel_20180\\1467538465.py:24: FutureWarning: Series.__getitem__ treating keys as positions is deprecated. In a future version, integer keys will always be treated as labels (consistent with DataFrame behavior). To access a value by position, use `ser.iloc[pos]`\n",
      "  vidname, frame = input_df.loc[i, 'vidname'][0].strip(), str(input_df.loc[i, 'frame'][0]).strip()\n"
     ]
    }
   ],
   "source": [
    "format_labels_to_ultralytics(top_view_labels)\n",
    "format_labels_to_ultralytics(wide_view_labels, input_type='wide_view', input_height=1000, input_width=6500)"
   ]
  },
  {
   "cell_type": "code",
   "execution_count": null,
   "id": "d67c587b-cdb1-4095-be76-e613b4848639",
   "metadata": {},
   "outputs": [],
   "source": [
    "\n",
    "def train_val_test_paths(image_paths, set_type, vrsn_num, output_dir=data):\n",
    "    \"\"\"\n",
    "    Create text files which give Ultralytics the paths for the train, val, and test images.\n",
    "    Inputs:\n",
    "        train, val, test: Numpy arrays or lists which are the absolute filepaths.\n",
    "        set_type: 'train', 'val', or 'test', based on the input type.\n",
    "        output_dir: A PathLib Path object.\n",
    "    Outputs:\n",
    "        Saves .txt files with paths to the selected train, val, and test sets.\n",
    "    \"\"\"\n",
    "    output_dir_str = str(output_dir).replace(\"\\\\\", \"/\")\n",
    "    image_paths = list(image_paths.copy().str.replace(\"\\\\\", \"/\").str.replace(str(data).replace(\"\\\\\",\"/\"), \".\"))\n",
    "    with open(output_dir/\"{}_v{}.txt\".format(set_type, str(vrsn_num)), 'w') as f:\n",
    "        i = 0\n",
    "        for image_path in image_paths:\n",
    "            if i == 0:\n",
    "                f.write(image_path)\n",
    "            else:\n",
    "                f.write(\"\\n\"+image_path)\n",
    "            i+=1\n",
    "        f.close()"
   ]
  },
  {
   "cell_type": "code",
   "execution_count": null,
   "id": "6c6f2af8-2101-4a3a-b56f-bddbbe795617",
   "metadata": {},
   "outputs": [],
   "source": [
    "stacked_labels = pd.concat(top_view_labels, wide_view_labels)\n",
    "stacked_labels"
   ]
  },
  {
   "cell_type": "code",
   "execution_count": 6,
   "id": "be785090-3d31-45e9-8bfe-2a3f4a7491a8",
   "metadata": {},
   "outputs": [],
   "source": [
    "train_paths, val_paths, test_paths = top_view_labels[:70]['frame_imgpath'], top_view_labels[70:85]['frame_imgpath'], top_view_labels[85:100]['frame_imgpath']"
   ]
  },
  {
   "cell_type": "code",
   "execution_count": 7,
   "id": "b0f5907b-da16-4190-983a-2d640650f14c",
   "metadata": {},
   "outputs": [],
   "source": [
    "train_val_test_paths(train_paths, set_type='train', vrsn_num=1)\n",
    "train_val_test_paths(val_paths, set_type='val', vrsn_num=1)\n",
    "train_val_test_paths(test_paths, set_type='test', vrsn_num=1)"
   ]
  }
 ],
 "metadata": {
  "kernelspec": {
   "display_name": "Python 3 (ipykernel)",
   "language": "python",
   "name": "python3"
  },
  "language_info": {
   "codemirror_mode": {
    "name": "ipython",
    "version": 3
   },
   "file_extension": ".py",
   "mimetype": "text/x-python",
   "name": "python",
   "nbconvert_exporter": "python",
   "pygments_lexer": "ipython3",
   "version": "3.9.18"
  }
 },
 "nbformat": 4,
 "nbformat_minor": 5
}
