{
 "cells": [
  {
   "cell_type": "code",
   "execution_count": 1,
   "id": "43345e79-ef87-423b-b4a2-f7f285b7e28e",
   "metadata": {},
   "outputs": [
    {
     "ename": "ModuleNotFoundError",
     "evalue": "No module named 'ultralytics'",
     "output_type": "error",
     "traceback": [
      "\u001b[1;31m---------------------------------------------------------------------------\u001b[0m",
      "\u001b[1;31mModuleNotFoundError\u001b[0m                       Traceback (most recent call last)",
      "Cell \u001b[1;32mIn[1], line 1\u001b[0m\n\u001b[1;32m----> 1\u001b[0m \u001b[38;5;28;01mfrom\u001b[39;00m \u001b[38;5;21;01multralytics\u001b[39;00m \u001b[38;5;28;01mimport\u001b[39;00m YOLO\n\u001b[0;32m      2\u001b[0m \u001b[38;5;28;01mimport\u001b[39;00m \u001b[38;5;21;01mos\u001b[39;00m\n\u001b[0;32m      3\u001b[0m os\u001b[38;5;241m.\u001b[39mchdir(\u001b[38;5;124m\"\u001b[39m\u001b[38;5;124mD:/MIDS-W207/yolov9\u001b[39m\u001b[38;5;124m\"\u001b[39m)\n",
      "\u001b[1;31mModuleNotFoundError\u001b[0m: No module named 'ultralytics'"
     ]
    }
   ],
   "source": [
    "from ultralytics import YOLO\n",
    "import os\n",
    "os.chdir(\"D:/MIDS-W207/yolov9\")"
   ]
  },
  {
   "cell_type": "code",
   "execution_count": null,
   "id": "e9a91f0a-10ff-48ee-b4ea-8d09f6bb9343",
   "metadata": {},
   "outputs": [],
   "source": [
    "# Author: Timothy Majidzadeh\n",
    "# Date Created: April 8, 2024\n",
    "# Date Updated: April 8, 2024\n",
    "# Description: Compare the results of YOLOv9 on the simple random sample square data vs the ball-oversampled square data.\n",
    "# Notes: [v1] Created program.\n",
    "# Inputs: Ultralytics-formatted data.\n",
    "# Outputs: Model training & validation statistics for YOLOv9 for different samples of the soccertrack_square dataset."
   ]
  },
  {
   "cell_type": "code",
   "execution_count": null,
   "id": "afa912e1-0f4f-4e07-bc95-28cab8cea939",
   "metadata": {},
   "outputs": [],
   "source": [
    "# Set YOLOv9 hyperparameters.\n",
    "EPOCHS=5\n",
    "BATCH_SIZE=64\n",
    "IMGSZ=800\n",
    "\n",
    "MOSAIC=0.0\n",
    "WARMUPS=1\n",
    "LR0=0.01\n",
    "LRF=0.01\n",
    "\n",
    "IOU_THRES=0.5\n",
    "\n",
    "test_image_top = '../datasets/soccertrack_square/images/top_view_355.png'\n",
    "test_image_wide = '../datasets/soccertrack_square/images/wide_view_20513.png'"
   ]
  },
  {
   "cell_type": "code",
   "execution_count": null,
   "id": "6e6737a3-5b8a-40ee-bb1d-7ebddb21942c",
   "metadata": {},
   "outputs": [],
   "source": [
    "model = YOLO('yolov9t.pt')\n",
    "model.info()"
   ]
  },
  {
   "cell_type": "code",
   "execution_count": null,
   "id": "534f629e-ab15-474b-9b9b-5345672c5f46",
   "metadata": {},
   "outputs": [],
   "source": [
    "model.train(data=\"data/soccertrack_square_srs.yaml\", epochs=5, imgsz=IMGSZ, batch=BATCH_SIZE,\n",
    "           rect=False, optimizer='Adam', project=\"../MIDS-W207-Spring24-Soccer-Detection/analysis/Oversampling/srs\",\n",
    "           mosaic=0, warmup_epochs=1, plots=True, lr0=LR0, lrf=LRF, iou_thres=IOU_THRES)\n",
    "model.val(\n",
    "    data=\"data/soccertrack_square_srs.yaml\", \n",
    "    imgsz=IMGSZ,\n",
    "    batch=BATCH_SIZE,\n",
    "    save_json=True,\n",
    "    save_hybrid=True,\n",
    "    iou=IOU_THRES,\n",
    "    plots=True,\n",
    "    rect=False,\n",
    "    split='test'\n",
    ")"
   ]
  },
  {
   "cell_type": "code",
   "execution_count": null,
   "id": "00b32603-6930-44cd-8256-5dc0fecc1bfb",
   "metadata": {},
   "outputs": [],
   "source": [
    "model(test_image_top)"
   ]
  },
  {
   "cell_type": "code",
   "execution_count": null,
   "id": "dfa8efdd-dcee-4ad6-bd89-75356afbe0ed",
   "metadata": {},
   "outputs": [],
   "source": [
    "model(test_image_wide)"
   ]
  },
  {
   "cell_type": "code",
   "execution_count": null,
   "id": "622275a8-6b9c-4ce4-b744-e23bff109537",
   "metadata": {},
   "outputs": [],
   "source": [
    "model = YOLO('yolov9t.pt')\n",
    "model.info()"
   ]
  },
  {
   "cell_type": "code",
   "execution_count": null,
   "id": "29521ab5-78e1-417d-ba0b-c0838c4c0af0",
   "metadata": {},
   "outputs": [],
   "source": [
    "model.train(data=\"data/soccertrack_square_oversampled.yaml\", epochs=5, imgsz=IMGSZ, batch=BATCH_SIZE,\n",
    "           rect=False, optimizer='Adam', project=\"../MIDS-W207-Spring24-Soccer-Detection/analysis/Oversampling/oversampled\",\n",
    "           mosaic=0, warmup_epochs=1, plots=True, lr0=LR0, lrf=LRF, iou_thres=IOU_THRES)\n",
    "model.val(\n",
    "    data=\"data/soccertrack_square_oversampled.yaml\", \n",
    "    imgsz=IMGSZ,\n",
    "    batch=BATCH_SIZE,\n",
    "    save_json=True,\n",
    "    save_hybrid=True,\n",
    "    iou=IOU_THRES,\n",
    "    plots=True,\n",
    "    rect=False,\n",
    "    split='test'\n",
    ")"
   ]
  },
  {
   "cell_type": "code",
   "execution_count": null,
   "id": "519a5d69-20f1-46b5-b7b0-d767f3678890",
   "metadata": {},
   "outputs": [],
   "source": [
    "model(test_image_top)"
   ]
  },
  {
   "cell_type": "code",
   "execution_count": null,
   "id": "7dfb2c48-389c-44a5-8e21-5a21cfbd79b8",
   "metadata": {},
   "outputs": [],
   "source": [
    "model(test_image_wide)"
   ]
  }
 ],
 "metadata": {
  "kernelspec": {
   "display_name": "Python 3 (ipykernel)",
   "language": "python",
   "name": "python3"
  },
  "language_info": {
   "codemirror_mode": {
    "name": "ipython",
    "version": 3
   },
   "file_extension": ".py",
   "mimetype": "text/x-python",
   "name": "python",
   "nbconvert_exporter": "python",
   "pygments_lexer": "ipython3",
   "version": "3.12.2"
  }
 },
 "nbformat": 4,
 "nbformat_minor": 5
}
