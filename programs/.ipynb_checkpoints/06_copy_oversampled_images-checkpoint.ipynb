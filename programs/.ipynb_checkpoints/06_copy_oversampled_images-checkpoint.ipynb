{
 "cells": [
  {
   "cell_type": "code",
   "execution_count": 1,
   "id": "9eaea48d-c2a0-48e7-ad81-a6eee4c1d071",
   "metadata": {},
   "outputs": [],
   "source": [
    "import shutil\n",
    "from pathlib import Path\n",
    "import pandas as pd\n",
    "\n",
    "mids_dir = Path(\"D:\\\\MIDS-W207\")\n",
    "data = mids_dir/\"datasets/soccertrack_square\"\n",
    "project = mids_dir/\"MIDS-W207-Spring24-Soccer-Detection\"\n",
    "analysis = project/\"analysis\"\n",
    "\n",
    "# Author: Timothy Majidzadeh\n",
    "# Date Created: April 16, 2024\n",
    "# Date Updated: April 18, 2024\n",
    "# Description: OPTIONAL PROGRAM: Copy the images in the ball-oversampled sample to a separate directory for quick reference.\n",
    "# Notes: [v1] Created program. Using fractions: 0.5 with ball, 0.3 with players & no ball, 0.2 with no objects, 50-50 top view / wide view split.\n",
    "#        [v2] TM added documentation.\n",
    "# Inputs: The SoccerTrack Square dataset and a DataFrame listing of sampled images.\n",
    "# Outputs: The sampled images copied to a separate folder."
   ]
  },
  {
   "cell_type": "code",
   "execution_count": 2,
   "id": "0f194044-63e6-4ab8-a261-62b518072593",
   "metadata": {},
   "outputs": [],
   "source": [
    "mids_dir = Path(\"D:\\\\MIDS-W207\")\n",
    "data = mids_dir/\"datasets\""
   ]
  },
  {
   "cell_type": "code",
   "execution_count": 3,
   "id": "c917d8e8-a3cb-48cb-a38d-bf1f4dedd102",
   "metadata": {},
   "outputs": [],
   "source": [
    "objects_per_image = pd.read_pickle(data/\"soccertrack_square/objects_per_image_oversampled.pkl\")"
   ]
  },
  {
   "cell_type": "code",
   "execution_count": 4,
   "id": "a9268a72-c23f-443a-aa6d-4c1f458c8492",
   "metadata": {},
   "outputs": [],
   "source": [
    "for image_name in objects_per_image['image_name']:\n",
    "    src = data/\"soccertrack_square/images\"/image_name\n",
    "    dest = data/\"soccertrack_square/oversampled_images\"/image_name\n",
    "    shutil.copyfile(src, dest)"
   ]
  }
 ],
 "metadata": {
  "kernelspec": {
   "display_name": "Python 3 (ipykernel)",
   "language": "python",
   "name": "python3"
  },
  "language_info": {
   "codemirror_mode": {
    "name": "ipython",
    "version": 3
   },
   "file_extension": ".py",
   "mimetype": "text/x-python",
   "name": "python",
   "nbconvert_exporter": "python",
   "pygments_lexer": "ipython3",
   "version": "3.9.7"
  }
 },
 "nbformat": 4,
 "nbformat_minor": 5
}
