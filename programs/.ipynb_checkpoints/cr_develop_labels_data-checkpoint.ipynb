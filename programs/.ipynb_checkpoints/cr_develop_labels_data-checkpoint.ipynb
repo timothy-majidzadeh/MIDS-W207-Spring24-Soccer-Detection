{
 "cells": [
  {
   "cell_type": "code",
   "execution_count": 3,
   "id": "5c70f27e-a66d-4808-9d7f-bcdc79d9a8c7",
   "metadata": {},
   "outputs": [],
   "source": [
    "from pathlib import Path\n",
    "import os\n",
    "import numpy as np\n",
    "import pandas as pd\n",
    "import random \n",
    "\n",
    "mids_dir = Path(\"D:\\\\MIDS-W207\")\n",
    "data = mids_dir/\"MIDS-W207-Spring24-Soccer-Detection-Data\"\n",
    "project = mids_dir/\"MIDS-W207-Spring24-Soccer-Detection\"\n",
    "analysis = project/\"analysis\"\n",
    "\n",
    "# Author: Timothy Majidzadeh\n",
    "# Date Created: March 4, 2024\n",
    "# Date Updated: March 4, 2024\n",
    "# Description: Develop the label import script.\n",
    "# Notes: [v1] Created program.\n",
    "# Inputs: Data label CSV files.\n",
    "# Outputs: Stacked & reshaped CSV file."
   ]
  },
  {
   "cell_type": "code",
   "execution_count": 63,
   "id": "0188aee2-6951-4570-9feb-fc047dff2a73",
   "metadata": {},
   "outputs": [],
   "source": [
    "def load_and_label(dir, filename):\n",
    "    \"\"\"\n",
    "    Loads the CSV file at path, returning it as a dataframe with the sourcefile as a column.\n",
    "    Inputs:\n",
    "        A path to a CSV with the bounding boxes for images.\n",
    "    Outputs:\n",
    "        A Pandas DataFrame with the loaded & cleaned CSV.\n",
    "    \"\"\"\n",
    "    raw = pd.read_csv(dir/filename, header=[0, 1, 2])[1:].reset_index()\n",
    "    raw.rename(columns={\"index\": \"frame\", \"0\" : \"team_0\", \"1\" : \"team_1\", \"BALL\": \"ball\"}, level=0, inplace=True)\n",
    "    raw.rename(columns={\n",
    "        \"0\" : \"player_00\",\n",
    "        \"1\" : \"player_01\",\n",
    "        \"2\" : \"player_02\",\n",
    "        \"3\" : \"player_03\",\n",
    "        \"4\" : \"player_04\",\n",
    "        \"5\" : \"player_05\",\n",
    "        \"6\" : \"player_06\",\n",
    "        \"7\" : \"player_07\",\n",
    "        \"8\" : \"player_08\",\n",
    "        \"9\" : \"player_09\",\n",
    "        \"10\" : \"player_10\",\n",
    "        \"11\" : \"player_11\",\n",
    "        \"BALL\" : \"ball\"\n",
    "    }, level=1, inplace=True)\n",
    "    raw.drop(columns=\"TeamID\", inplace=True, level=0)\n",
    "    raw['filename'] = filename.replace(\".csv\", \"\")\n",
    "    raw.set_index([\"filename\", \"frame\"], inplace=True)\n",
    "    return raw\n",
    "    \n"
   ]
  },
  {
   "cell_type": "code",
   "execution_count": 66,
   "id": "7f948938-c812-4804-9a50-caa540c06081",
   "metadata": {},
   "outputs": [],
   "source": [
    "top_view_input = data/\"untouched/top_view_labels\"\n",
    "top_view_output = data/\"base/top_view_labels\"\n",
    "wide_view_input = data/\"untouched/wide_view_labels\"\n",
    "wide_view_output = data/\"base/wide_view_labels\""
   ]
  },
  {
   "cell_type": "code",
   "execution_count": 67,
   "id": "a3d6ac66-26f2-480d-90c4-0460d3c921ff",
   "metadata": {},
   "outputs": [],
   "source": [
    "stacked_data = pd.concat([load_and_label(top_view_input, filename) for filename in os.listdir(top_view_input)])\n",
    "stacked_data.to_csv(top_view_output/\"top_view_labels.csv\")\n",
    "stacked_data.to_pickle(top_view_output/\"top_view_output.pkl\")"
   ]
  },
  {
   "cell_type": "code",
   "execution_count": 68,
   "id": "e9ee0066-b530-48d3-ae03-26167df24c8d",
   "metadata": {},
   "outputs": [],
   "source": [
    "stacked_data = pd.concat([load_and_label(wide_view_input, filename) for filename in os.listdir(wide_view_input)])\n",
    "stacked_data.to_csv(top_view_output/\"wide_view_labels.csv\")\n",
    "stacked_data.to_pickle(top_view_output/\"wide_view_output.pkl\")"
   ]
  },
  {
   "cell_type": "code",
   "execution_count": 73,
   "id": "d338f362-8043-495b-8763-7f2115ee8aa1",
   "metadata": {},
   "outputs": [
    {
     "data": {
      "text/plain": [
       "MultiIndex([( 'player_0', 'bb_height'),\n",
       "            ( 'player_0',   'bb_left'),\n",
       "            ( 'player_0',    'bb_top'),\n",
       "            ( 'player_0',  'bb_width'),\n",
       "            ( 'player_1', 'bb_height'),\n",
       "            ( 'player_1',   'bb_left'),\n",
       "            ( 'player_1',    'bb_top'),\n",
       "            ( 'player_1',  'bb_width'),\n",
       "            ('player_10', 'bb_height'),\n",
       "            ('player_10',   'bb_left'),\n",
       "            ('player_10',    'bb_top'),\n",
       "            ('player_10',  'bb_width'),\n",
       "            ( 'player_2', 'bb_height'),\n",
       "            ( 'player_2',   'bb_left'),\n",
       "            ( 'player_2',    'bb_top'),\n",
       "            ( 'player_2',  'bb_width'),\n",
       "            ( 'player_3', 'bb_height'),\n",
       "            ( 'player_3',   'bb_left'),\n",
       "            ( 'player_3',    'bb_top'),\n",
       "            ( 'player_3',  'bb_width'),\n",
       "            ( 'player_4', 'bb_height'),\n",
       "            ( 'player_4',   'bb_left'),\n",
       "            ( 'player_4',    'bb_top'),\n",
       "            ( 'player_4',  'bb_width'),\n",
       "            ( 'player_5', 'bb_height'),\n",
       "            ( 'player_5',   'bb_left'),\n",
       "            ( 'player_5',    'bb_top'),\n",
       "            ( 'player_5',  'bb_width'),\n",
       "            ( 'player_6', 'bb_height'),\n",
       "            ( 'player_6',   'bb_left'),\n",
       "            ( 'player_6',    'bb_top'),\n",
       "            ( 'player_6',  'bb_width'),\n",
       "            ( 'player_7', 'bb_height'),\n",
       "            ( 'player_7',   'bb_left'),\n",
       "            ( 'player_7',    'bb_top'),\n",
       "            ( 'player_7',  'bb_width'),\n",
       "            ( 'player_8', 'bb_height'),\n",
       "            ( 'player_8',   'bb_left'),\n",
       "            ( 'player_8',    'bb_top'),\n",
       "            ( 'player_8',  'bb_width'),\n",
       "            ( 'player_9', 'bb_height'),\n",
       "            ( 'player_9',   'bb_left'),\n",
       "            ( 'player_9',    'bb_top'),\n",
       "            ( 'player_9',  'bb_width')],\n",
       "           )"
      ]
     },
     "execution_count": 73,
     "metadata": {},
     "output_type": "execute_result"
    }
   ],
   "source": [
    "stacked_data['team_0'].columns"
   ]
  }
 ],
 "metadata": {
  "kernelspec": {
   "display_name": "Python 3 (ipykernel)",
   "language": "python",
   "name": "python3"
  },
  "language_info": {
   "codemirror_mode": {
    "name": "ipython",
    "version": 3
   },
   "file_extension": ".py",
   "mimetype": "text/x-python",
   "name": "python",
   "nbconvert_exporter": "python",
   "pygments_lexer": "ipython3",
   "version": "3.10.13"
  }
 },
 "nbformat": 4,
 "nbformat_minor": 5
}
