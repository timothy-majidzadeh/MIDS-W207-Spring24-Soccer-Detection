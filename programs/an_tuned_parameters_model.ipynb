{
 "cells": [
  {
   "cell_type": "code",
   "execution_count": 1,
   "id": "b3ec58d2-1c91-40cb-9aeb-20fcbfbeda15",
   "metadata": {},
   "outputs": [],
   "source": [
    "from ultralytics import YOLO\n",
    "import os\n",
    "\n",
    "# Author: Timothy Majidzadeh\n",
    "# Date Created: April 16, 2024\n",
    "# Date Updated: April 16, 2024\n",
    "# Description: Run YOLOv7 for 20 epochs with all of the tuned parameters.\n",
    "# Notes: [v1] Created program.\n",
    "# Inputs: Ultralytics-formatted data.\n",
    "# Outputs: Model training & validation statistics for different versions of YOLO."
   ]
  },
  {
   "cell_type": "code",
   "execution_count": 3,
   "id": "af53fba4-3c1b-4347-9f45-afbd31e6fe32",
   "metadata": {},
   "outputs": [
    {
     "name": "stdout",
     "output_type": "stream",
     "text": [
      "Training extra augmentation...\n",
      "Done!\n",
      "Validating YOLOv7...\n",
      "Namespace(weights=['../MIDS-W207-Spring24-Soccer-Detection/analysis/Tuned/train/exp/weights/best.pt'], data='data/soccertrack_square_oversampled.yaml', batch_size=64, img_size=800, conf_thres=0.001, iou_thres=0.5, task='val', device='', single_cls=False, augment=False, verbose=True, save_txt=True, save_hybrid=False, save_conf=True, save_json=False, project='../MIDS-W207-Spring24-Soccer-Detection/analysis/Tuned/val', name='exp', exist_ok=False, no_trace=False, v5_metric=False)Done!\n",
      "Testing YOLOv7...\n"
     ]
    },
    {
     "name": "stderr",
     "output_type": "stream",
     "text": [
      "YOLOR  v0.1-128-ga207844 torch 2.2.1+cpu CPU\n",
      "\n",
      "C:\\Users\\timot\\anaconda3\\envs\\ultralytics_yolov8\\lib\\site-packages\\torch\\functional.py:507: UserWarning: torch.meshgrid: in an upcoming release, it will be required to pass the indexing argument. (Triggered internally at C:\\actions-runner\\_work\\pytorch\\pytorch\\builder\\windows\\pytorch\\aten\\src\\ATen\\native\\TensorShape.cpp:3550.)\n",
      "  return _VF.meshgrid(tensors, **kwargs)  # type: ignore[attr-defined]\n",
      "Model Summary: 200 layers, 6012040 parameters, 0 gradients, 13.0 GFLOPS\n",
      "\n",
      "\u001b[34m\u001b[1mval: \u001b[0mScanning 'D:\\MIDS-W207\\datasets\\soccertrack_square\\splits\\oversampled_val_v1.cache' images and labels... 1040 found, 0 missing, 191 empty, 0 corrupted: 100%|##########| 1040/1040 [00:00<?, ?it/s]\n",
      "\u001b[34m\u001b[1mval: \u001b[0mScanning 'D:\\MIDS-W207\\datasets\\soccertrack_square\\splits\\oversampled_val_v1.cache' images and labels... 1040 found, 0 missing, 191 empty, 0 corrupted: 100%|##########| 1040/1040 [00:00<?, ?it/s]\n",
      "\n",
      "               Class      Images      Labels           P           R      mAP@.5  mAP@.5:.95:   0%|          | 0/17 [00:00<?, ?it/s]\n",
      "               Class      Images      Labels           P           R      mAP@.5  mAP@.5:.95:   0%|          | 0/17 [00:31<?, ?it/s]\n",
      "Traceback (most recent call last):\n",
      "  File \"C:\\Users\\timot\\anaconda3\\envs\\ultralytics_yolov8\\lib\\site-packages\\torch\\utils\\data\\dataloader.py\", line 1133, in _try_get_data\n",
      "    data = self._data_queue.get(timeout=timeout)\n",
      "  File \"C:\\Users\\timot\\anaconda3\\envs\\ultralytics_yolov8\\lib\\multiprocessing\\queues.py\", line 114, in get\n",
      "    raise Empty\n",
      "_queue.Empty\n",
      "\n",
      "The above exception was the direct cause of the following exception:\n",
      "\n",
      "Traceback (most recent call last):\n",
      "  File \"D:\\MIDS-W207\\yolov7\\test.py\", line 319, in <module>\n",
      "    test(opt.data,\n",
      "  File \"D:\\MIDS-W207\\yolov7\\test.py\", line 104, in test\n",
      "    for batch_i, (img, targets, paths, shapes) in enumerate(tqdm(dataloader, desc=s)):\n",
      "  File \"C:\\Users\\timot\\anaconda3\\envs\\ultralytics_yolov8\\lib\\site-packages\\tqdm\\std.py\", line 1181, in __iter__\n",
      "    for obj in iterable:\n",
      "  File \"D:\\MIDS-W207\\yolov7\\utils\\datasets.py\", line 110, in __iter__\n",
      "    yield next(self.iterator)\n",
      "  File \"C:\\Users\\timot\\anaconda3\\envs\\ultralytics_yolov8\\lib\\site-packages\\torch\\utils\\data\\dataloader.py\", line 631, in __next__\n",
      "    data = self._next_data()\n",
      "  File \"C:\\Users\\timot\\anaconda3\\envs\\ultralytics_yolov8\\lib\\site-packages\\torch\\utils\\data\\dataloader.py\", line 1329, in _next_data\n",
      "    idx, data = self._get_data()\n",
      "  File \"C:\\Users\\timot\\anaconda3\\envs\\ultralytics_yolov8\\lib\\site-packages\\torch\\utils\\data\\dataloader.py\", line 1295, in _get_data\n",
      "    success, data = self._try_get_data()\n",
      "  File \"C:\\Users\\timot\\anaconda3\\envs\\ultralytics_yolov8\\lib\\site-packages\\torch\\utils\\data\\dataloader.py\", line 1146, in _try_get_data\n",
      "    raise RuntimeError(f'DataLoader worker (pid(s) {pids_str}) exited unexpectedly') from e\n",
      "RuntimeError: DataLoader worker (pid(s) 9976, 11572, 5752, 8024) exited unexpectedly\n"
     ]
    },
    {
     "name": "stdout",
     "output_type": "stream",
     "text": [
      "\n",
      "Fusing layers... \n",
      " Convert model to Traced-model... \n",
      " traced_script_module saved! \n",
      " model is traced! \n",
      "\n",
      "Done!\n"
     ]
    }
   ],
   "source": [
    "## Tuned model\n",
    "os.chdir(\"D:/MIDS-W207/yolov7\")\n",
    "print(\"Training tuned model...\")\n",
    "!python train.py --weights yolov7-tiny.pt --data data/soccertrack_square_oversampled.yaml --hyp data/hyp.scratch.custom.extra_aug.yaml --epochs 20 --batch-size 64 --img-size 800 --adam --project ../MIDS-W207-Spring24-Soccer-Detection/analysis/Tuned/train\n",
    "print(\"Done!\")\n",
    "\n",
    "print(\"Validating YOLOv7...\")\n",
    "!python test.py --weights ../MIDS-W207-Spring24-Soccer-Detection/analysis/Tuned/train/exp/weights/best.pt --data data/soccertrack_square_oversampled.yaml --batch-size 64 --img-size 800 --iou-thres 0.5 --verbose --save-txt --save-conf --project ../MIDS-W207-Spring24-Soccer-Detection/analysis/Tuned/val --task val\n",
    "print(\"Done!\")\n",
    "\n",
    "print(\"Testing YOLOv7...\")\n",
    "!python test.py --weights ../MIDS-W207-Spring24-Soccer-Detection/analysis/Tuned/train/exp/weights/best.pt --data data/soccertrack_square_oversampled.yaml --batch-size 64 --img-size 800 --iou-thres 0.5 --verbose --save-txt --save-conf --project ../MIDS-W207-Spring24-Soccer-Detection/analysis/Tuned/val --task test\n",
    "print(\"Done!\")"
   ]
  },
  {
   "cell_type": "code",
   "execution_count": null,
   "id": "39c0f9b3-fdac-4976-95fc-763ba8fa01bc",
   "metadata": {},
   "outputs": [],
   "source": [
    "## Model was interrupted. Resuming...\n",
    "os.chdir(\"D:/MIDS-W207/yolov7\")\n",
    "print(\"Training tuned model...\")\n",
    "!python train.py --resume  ../MIDS-W207-Spring24-Soccer-Detection/analysis/Tuned/train/exp/weights/last.pt\n",
    "print(\"Done!\")\n",
    "\n",
    "print(\"Validating YOLOv7...\")\n",
    "!python test.py --weights ../MIDS-W207-Spring24-Soccer-Detection/analysis/Tuned/train/exp/weights/best.pt --data data/soccertrack_square_oversampled.yaml --batch-size 64 --img-size 800 --iou-thres 0.5 --verbose --save-txt --save-conf --project ../MIDS-W207-Spring24-Soccer-Detection/analysis/Tuned/val --task val\n",
    "print(\"Done!\")\n",
    "\n",
    "print(\"Testing YOLOv7...\")\n",
    "!python test.py --weights ../MIDS-W207-Spring24-Soccer-Detection/analysis/Tuned/train/exp/weights/best.pt --data data/soccertrack_square_oversampled.yaml --batch-size 64 --img-size 800 --iou-thres 0.5 --verbose --save-txt --save-conf --project ../MIDS-W207-Spring24-Soccer-Detection/analysis/Tuned/test --task test\n",
    "print(\"Done!\")"
   ]
  }
 ],
 "metadata": {
  "kernelspec": {
   "display_name": "Python 3 (ipykernel)",
   "language": "python",
   "name": "python3"
  },
  "language_info": {
   "codemirror_mode": {
    "name": "ipython",
    "version": 3
   },
   "file_extension": ".py",
   "mimetype": "text/x-python",
   "name": "python",
   "nbconvert_exporter": "python",
   "pygments_lexer": "ipython3",
   "version": "3.9.18"
  }
 },
 "nbformat": 4,
 "nbformat_minor": 5
}
