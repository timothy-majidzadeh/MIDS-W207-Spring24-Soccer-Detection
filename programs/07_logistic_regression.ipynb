{
 "cells": [
  {
   "cell_type": "code",
   "execution_count": 77,
   "id": "516fede5-9df9-498d-bde0-3cb7b5d78b4e",
   "metadata": {},
   "outputs": [],
   "source": [
    "from pathlib import Path\n",
    "import os\n",
    "import numpy as np\n",
    "import pandas as pd\n",
    "import random\n",
    "import tensorflow as tf\n",
    "import seaborn as sns\n",
    "from tensorflow import keras\n",
    "from keras.utils import img_to_array, array_to_img, load_img\n",
    "from keras import metrics\n",
    "import matplotlib.pyplot as plt\n",
    "from sklearn import metrics\n",
    "\n",
    "mids_dir = Path(\"D:\\\\MIDS-W207\")\n",
    "data = mids_dir/\"datasets/soccertrack_square\"\n",
    "project = mids_dir/\"MIDS-W207-Spring24-Soccer-Detection\"\n",
    "analysis = project/\"analysis\"\n",
    "\n",
    "# Author: Timothy Majidzadeh\n",
    "# Date Created: April 6, 2024\n",
    "# Date Updated: April 16, 2024\n",
    "# Description: Try logistic regression on the soccertrack_square dataset.\n",
    "# Adapts some code from T. Majidzadeh's Homework 4, 5, 7 and 10 submissions for MIDS W207 Spring 2024.\n",
    "# Notes: [v1] Created program. \n",
    "# Inputs: Frame-by-frame labels saved as separate text files.\n",
    "# Outputs: Logistic regression classifiers."
   ]
  },
  {
   "cell_type": "code",
   "execution_count": 13,
   "id": "4c2a19ff-2707-43ee-8e55-339c9f22c5b3",
   "metadata": {},
   "outputs": [],
   "source": [
    "# 1. Load the labels data and map to classes.\n",
    "class_dict = {\n",
    "    0: \"No Objects\",\n",
    "    1: \"Team 0 Only\",\n",
    "    2: \"Team 1 Only\",\n",
    "    3: \"Ball Only\",\n",
    "    4: \"Team 0 and Team 1\",\n",
    "    5: \"Team 0 and Ball\",\n",
    "    6: \"Team 1 and Ball\",\n",
    "    7: \"All Classes\"\n",
    "}\n",
    "\n",
    "# Because certain class combinations are rare, it may be more effective to try each class individually.\n",
    "# Remap to a value of 1 if one class is present, 0 otherwise.\n",
    "ball_remap = {\n",
    "    0: 0,\n",
    "    1: 0,\n",
    "    2: 0,\n",
    "    3: 1,\n",
    "    4: 0,\n",
    "    5: 1,\n",
    "    6: 1,\n",
    "    7: 1\n",
    "}\n",
    "\n",
    "team_0_remap = {\n",
    "    0: 0,\n",
    "    1: 1,\n",
    "    2: 0,\n",
    "    3: 0,\n",
    "    4: 1,\n",
    "    5: 1,\n",
    "    6: 0,\n",
    "    7: 1\n",
    "}\n",
    "\n",
    "team_1_remap = {\n",
    "    0: 0,\n",
    "    1: 0,\n",
    "    2: 1,\n",
    "    3: 0,\n",
    "    4: 1,\n",
    "    5: 0,\n",
    "    6: 1,\n",
    "    7: 1\n",
    "}\n",
    "objects_per_image = pd.read_pickle(data/\"objects_per_image_oversampled.pkl\")"
   ]
  },
  {
   "cell_type": "code",
   "execution_count": 3,
   "id": "1a2c9ef7-e8f0-4bf7-bb2f-1b4f39ae6bf9",
   "metadata": {},
   "outputs": [],
   "source": [
    "def class_mapping(ball_count, team_0_count, team_1_count):\n",
    "    '''\n",
    "    Assigns each row in the objects_per_image DataFrame to a class based on object counts.\n",
    "    '''\n",
    "    if (ball_count == 0) & (team_0_count == 0) & (team_1_count == 0):\n",
    "        return 0\n",
    "    elif (ball_count == 0) & (team_0_count > 0) & (team_1_count == 0):\n",
    "        return 1\n",
    "    elif (ball_count == 0) & (team_0_count == 0) & (team_1_count > 0):\n",
    "        return 2\n",
    "    elif (ball_count > 0) & (team_0_count == 0) & (team_1_count == 0):\n",
    "        return 3\n",
    "    elif (ball_count == 0) & (team_0_count > 0) & (team_1_count > 0):\n",
    "        return 4\n",
    "    elif (ball_count > 0) & (team_0_count > 0) & (team_1_count == 0):\n",
    "        return 5\n",
    "    elif (ball_count > 0) & (team_0_count == 0) & (team_1_count > 0):\n",
    "        return 6\n",
    "    else:\n",
    "        return 7"
   ]
  },
  {
   "cell_type": "code",
   "execution_count": 18,
   "id": "c973fed7-10ad-4d7c-a73e-e791abd279cc",
   "metadata": {},
   "outputs": [
    {
     "data": {
      "text/html": [
       "<div>\n",
       "<style scoped>\n",
       "    .dataframe tbody tr th:only-of-type {\n",
       "        vertical-align: middle;\n",
       "    }\n",
       "\n",
       "    .dataframe tbody tr th {\n",
       "        vertical-align: top;\n",
       "    }\n",
       "\n",
       "    .dataframe thead th {\n",
       "        text-align: right;\n",
       "    }\n",
       "</style>\n",
       "<table border=\"1\" class=\"dataframe\">\n",
       "  <thead>\n",
       "    <tr style=\"text-align: right;\">\n",
       "      <th>class</th>\n",
       "      <th>image_name</th>\n",
       "      <th>img_ball_count</th>\n",
       "      <th>img_team_0_count</th>\n",
       "      <th>img_team_1_count</th>\n",
       "      <th>class</th>\n",
       "      <th>multiclass</th>\n",
       "      <th>ball_binary</th>\n",
       "      <th>team_0_binary</th>\n",
       "      <th>team_1_binary</th>\n",
       "    </tr>\n",
       "  </thead>\n",
       "  <tbody>\n",
       "    <tr>\n",
       "      <th>23905</th>\n",
       "      <td>top_view_31511.png</td>\n",
       "      <td>1</td>\n",
       "      <td>4</td>\n",
       "      <td>4</td>\n",
       "      <td>7</td>\n",
       "      <td>7</td>\n",
       "      <td>1</td>\n",
       "      <td>1</td>\n",
       "      <td>1</td>\n",
       "    </tr>\n",
       "    <tr>\n",
       "      <th>17885</th>\n",
       "      <td>top_view_26094.png</td>\n",
       "      <td>1</td>\n",
       "      <td>2</td>\n",
       "      <td>2</td>\n",
       "      <td>7</td>\n",
       "      <td>7</td>\n",
       "      <td>1</td>\n",
       "      <td>1</td>\n",
       "      <td>1</td>\n",
       "    </tr>\n",
       "    <tr>\n",
       "      <th>84829</th>\n",
       "      <td>wide_view_38446.png</td>\n",
       "      <td>1</td>\n",
       "      <td>5</td>\n",
       "      <td>2</td>\n",
       "      <td>7</td>\n",
       "      <td>7</td>\n",
       "      <td>1</td>\n",
       "      <td>1</td>\n",
       "      <td>1</td>\n",
       "    </tr>\n",
       "    <tr>\n",
       "      <th>57622</th>\n",
       "      <td>wide_view_1396.png</td>\n",
       "      <td>1</td>\n",
       "      <td>9</td>\n",
       "      <td>9</td>\n",
       "      <td>7</td>\n",
       "      <td>7</td>\n",
       "      <td>1</td>\n",
       "      <td>1</td>\n",
       "      <td>1</td>\n",
       "    </tr>\n",
       "    <tr>\n",
       "      <th>88127</th>\n",
       "      <td>wide_view_41413.png</td>\n",
       "      <td>0</td>\n",
       "      <td>0</td>\n",
       "      <td>1</td>\n",
       "      <td>2</td>\n",
       "      <td>2</td>\n",
       "      <td>0</td>\n",
       "      <td>0</td>\n",
       "      <td>1</td>\n",
       "    </tr>\n",
       "    <tr>\n",
       "      <th>...</th>\n",
       "      <td>...</td>\n",
       "      <td>...</td>\n",
       "      <td>...</td>\n",
       "      <td>...</td>\n",
       "      <td>...</td>\n",
       "      <td>...</td>\n",
       "      <td>...</td>\n",
       "      <td>...</td>\n",
       "      <td>...</td>\n",
       "    </tr>\n",
       "    <tr>\n",
       "      <th>57678</th>\n",
       "      <td>wide_view_14009.png</td>\n",
       "      <td>0</td>\n",
       "      <td>0</td>\n",
       "      <td>0</td>\n",
       "      <td>0</td>\n",
       "      <td>0</td>\n",
       "      <td>0</td>\n",
       "      <td>0</td>\n",
       "      <td>0</td>\n",
       "    </tr>\n",
       "    <tr>\n",
       "      <th>1884</th>\n",
       "      <td>top_view_11693.png</td>\n",
       "      <td>0</td>\n",
       "      <td>0</td>\n",
       "      <td>0</td>\n",
       "      <td>0</td>\n",
       "      <td>0</td>\n",
       "      <td>0</td>\n",
       "      <td>0</td>\n",
       "      <td>0</td>\n",
       "    </tr>\n",
       "    <tr>\n",
       "      <th>15097</th>\n",
       "      <td>top_view_23585.png</td>\n",
       "      <td>1</td>\n",
       "      <td>4</td>\n",
       "      <td>6</td>\n",
       "      <td>7</td>\n",
       "      <td>7</td>\n",
       "      <td>1</td>\n",
       "      <td>1</td>\n",
       "      <td>1</td>\n",
       "    </tr>\n",
       "    <tr>\n",
       "      <th>99593</th>\n",
       "      <td>wide_view_9144.png</td>\n",
       "      <td>1</td>\n",
       "      <td>6</td>\n",
       "      <td>3</td>\n",
       "      <td>7</td>\n",
       "      <td>7</td>\n",
       "      <td>1</td>\n",
       "      <td>1</td>\n",
       "      <td>1</td>\n",
       "    </tr>\n",
       "    <tr>\n",
       "      <th>58235</th>\n",
       "      <td>wide_view_14510.png</td>\n",
       "      <td>1</td>\n",
       "      <td>8</td>\n",
       "      <td>9</td>\n",
       "      <td>7</td>\n",
       "      <td>7</td>\n",
       "      <td>1</td>\n",
       "      <td>1</td>\n",
       "      <td>1</td>\n",
       "    </tr>\n",
       "  </tbody>\n",
       "</table>\n",
       "<p>10400 rows × 9 columns</p>\n",
       "</div>"
      ],
      "text/plain": [
       "class           image_name  img_ball_count  img_team_0_count  \\\n",
       "23905   top_view_31511.png               1                 4   \n",
       "17885   top_view_26094.png               1                 2   \n",
       "84829  wide_view_38446.png               1                 5   \n",
       "57622   wide_view_1396.png               1                 9   \n",
       "88127  wide_view_41413.png               0                 0   \n",
       "...                    ...             ...               ...   \n",
       "57678  wide_view_14009.png               0                 0   \n",
       "1884    top_view_11693.png               0                 0   \n",
       "15097   top_view_23585.png               1                 4   \n",
       "99593   wide_view_9144.png               1                 6   \n",
       "58235  wide_view_14510.png               1                 8   \n",
       "\n",
       "class  img_team_1_count  class  multiclass  ball_binary  team_0_binary  \\\n",
       "23905                 4      7           7            1              1   \n",
       "17885                 2      7           7            1              1   \n",
       "84829                 2      7           7            1              1   \n",
       "57622                 9      7           7            1              1   \n",
       "88127                 1      2           2            0              0   \n",
       "...                 ...    ...         ...          ...            ...   \n",
       "57678                 0      0           0            0              0   \n",
       "1884                  0      0           0            0              0   \n",
       "15097                 6      7           7            1              1   \n",
       "99593                 3      7           7            1              1   \n",
       "58235                 9      7           7            1              1   \n",
       "\n",
       "class  team_1_binary  \n",
       "23905              1  \n",
       "17885              1  \n",
       "84829              1  \n",
       "57622              1  \n",
       "88127              1  \n",
       "...              ...  \n",
       "57678              0  \n",
       "1884               0  \n",
       "15097              1  \n",
       "99593              1  \n",
       "58235              1  \n",
       "\n",
       "[10400 rows x 9 columns]"
      ]
     },
     "execution_count": 18,
     "metadata": {},
     "output_type": "execute_result"
    }
   ],
   "source": [
    "objects_per_image['class'] = objects_per_image[\n",
    "    ['img_ball_count', 'img_team_0_count', 'img_team_1_count']\n",
    "].apply(lambda x: class_mapping(x.img_ball_count, x.img_team_0_count, x.img_team_1_count), axis=1)\n",
    "\n",
    "objects_per_image['multiclass'] = objects_per_image['class']\n",
    "objects_per_image['ball_binary'] = objects_per_image['class'].replace(ball_remap)\n",
    "objects_per_image['team_0_binary'] = objects_per_image['class'].replace(team_0_remap)\n",
    "objects_per_image['team_1_binary'] = objects_per_image['class'].replace(team_1_remap)\n",
    "\n",
    "objects_per_image"
   ]
  },
  {
   "cell_type": "code",
   "execution_count": 6,
   "id": "e2f1fb79-d159-4e3f-b9a0-91d39fc68a22",
   "metadata": {},
   "outputs": [
    {
     "name": "stderr",
     "output_type": "stream",
     "text": [
      "C:\\Users\\timot\\anaconda3\\envs\\tf_env\\Lib\\site-packages\\seaborn\\_oldcore.py:1119: FutureWarning: use_inf_as_na option is deprecated and will be removed in a future version. Convert inf values to NaN before operating instead.\n",
      "  with pd.option_context('mode.use_inf_as_na', True):\n"
     ]
    },
    {
     "data": {
      "text/plain": [
       "<Axes: xlabel='class', ylabel='Count'>"
      ]
     },
     "execution_count": 6,
     "metadata": {},
     "output_type": "execute_result"
    },
    {
     "data": {
      "image/png": "[encoded data removed]",
      "text/plain": [
       "<Figure size 640x480 with 1 Axes>"
      ]
     },
     "metadata": {},
     "output_type": "display_data"
    }
   ],
   "source": [
    "sns.histplot(objects_per_image['class'])"
   ]
  },
  {
   "cell_type": "code",
   "execution_count": 7,
   "id": "2797052d-d961-4386-aeb1-3ae0532e4cab",
   "metadata": {},
   "outputs": [],
   "source": [
    "# Adapted T. Majidzadeh's HW 10 submission, with some edits for the use case.\n",
    "\n",
    "def load_data(image_paths, labels, splits):\n",
    "    \"\"\" Load and split data into train, validation and test sets\n",
    "    \n",
    "    Params:\n",
    "    -------\n",
    "    image_paths (np.ndarray): Paths to load images.\n",
    "    labels (np.ndarray): Labels of shape (N,)   \n",
    "    splits (tuple): 3 values summing to 1 defining split of train, validation and test sets\n",
    "    \n",
    "    Returns:\n",
    "    --------\n",
    "    X_train (np.ndarray): Train images of shape (N_train, 100, 100)\n",
    "    y_train (np.ndarray): Train labels of shape (N_train,)\n",
    "    X_val (np.ndarray): Val images of shape (N_val, 100, 100)\n",
    "    y_val (np.ndarray): Val labels of shape (N_val,)\n",
    "    X_test (np.ndarray): Test images of shape (N_test, 100, 100)\n",
    "    y_test (np.ndarray): Test labels of shape (N_test,)\n",
    "    \n",
    "    \"\"\"\n",
    "\n",
    "    # Data is already shuffled on input.\n",
    "    # create data splits (training, val, and test sets)\n",
    "    train_val_index = int(np.floor(len(labels) * splits[0]))\n",
    "    val_test_index = int(np.floor(len(labels) * (splits[0] + splits[1])))\n",
    "\n",
    "    X_train_paths, y_train = image_paths[0:train_val_index], labels[0:train_val_index]\n",
    "    X_val_paths, y_val = image_paths[train_val_index:val_test_index], labels[train_val_index:val_test_index]\n",
    "    X_test_paths, y_test = image_paths[val_test_index:], labels[val_test_index:]\n",
    "\n",
    "    print(\"Loading train...\")\n",
    "    X_train = [img_to_array(load_img(path, color_mode='grayscale', target_size=(100,100))) for path in X_train_paths]\n",
    "    print(\"Loading val...\")\n",
    "    X_val = [img_to_array(load_img(path, color_mode='grayscale', target_size=(100,100))) for path in X_val_paths]\n",
    "    print(\"Loading test...\")\n",
    "    X_test = [img_to_array(load_img(path, color_mode='grayscale', target_size=(100,100))) for path in X_test_paths]\n",
    "    return X_train, y_train, X_val, y_val, X_test, y_test\n",
    "\n",
    "def preprocess_data(X_train, y_train, X_val, y_val, X_test, y_test):\n",
    "    \"\"\"\n",
    "    Applies augmentations\n",
    "    \n",
    "    Params:\n",
    "    -------\n",
    "    X_train (np.ndarray): Train images of shape (N_train, 100, 100)\n",
    "    y_train (np.ndarray): Train labels of shape (N_train,)\n",
    "    X_val (np.ndarray): Val images of shape (N_val, 100, 100)\n",
    "    y_val (np.ndarray): Val labels of shape (N_val,)\n",
    "    X_test (np.ndarray): Test images of shape (N_test, 100, 100)\n",
    "    y_test (np.ndarray): Test labels of shape (N_test,)\n",
    "\n",
    "    Returns:\n",
    "    --------\n",
    "    Augmented & Rescaled Values for X_train\n",
    "    \"\"\"\n",
    "    # image augmentation (random flip) on training data\n",
    "    print(\"Augmenting: Left-right flip\")\n",
    "    X_train = tf.image.flip_left_right(X_train)\n",
    "\n",
    "    # shuffle X_train and y_train, i.e., shuffle two tensors in the same order\n",
    "    print(\"Shuffling...\")\n",
    "    shuffle = tf.random.shuffle(tf.range(tf.shape(X_train)[0], dtype=tf.int32))\n",
    "    X_train = tf.gather(X_train, shuffle).numpy() # transform X back to numpy array instead of tensor\n",
    "    y_train = tf.gather(y_train, shuffle).numpy() # transform y back to numpy array instead of tensor\n",
    "\n",
    "    # rescale training, val, and test images by dividing each pixel by 255.0 \n",
    "    print(\"Rescaling and Squeezing...\")\n",
    "    X_train, X_val, X_test = np.squeeze(np.array(X_train)), np.squeeze(np.array(X_val)), np.squeeze(np.array(X_test))\n",
    "    X_train, X_val, X_test = X_train / 255, X_val / 255, X_test / 255\n",
    "\n",
    "    print(\"Done!\")\n",
    "    return X_train, y_train, X_val, y_val, X_test, y_test"
   ]
  },
  {
   "cell_type": "code",
   "execution_count": 8,
   "id": "571ad573-d34e-4a48-b66c-3560d68c7d8f",
   "metadata": {},
   "outputs": [
    {
     "name": "stdout",
     "output_type": "stream",
     "text": [
      "Loading train...\n",
      "Loading val...\n",
      "Loading test...\n",
      "Augmenting: Left-right flip\n",
      "Shuffling...\n",
      "Rescaling and Squeezing...\n",
      "Done!\n"
     ]
    }
   ],
   "source": [
    "# 2. Load the images and match to labels. Format as NumPy arrays.\n",
    "paths = np.array([data/\"images\"/name for name in objects_per_image['image_name']])\n",
    "labels = np.array(objects_per_image['multiclass'])\n",
    "splits = (0.8, 0.1, 0.1)\n",
    "X_train, multiclass_train, X_val, multiclass_val, X_test, multiclass_test = load_data(paths, labels, splits)\n",
    "X_train, multiclass_train, X_val, multiclass_val, X_test, multiclass_test = preprocess_data(X_train, multiclass_train, X_val, multiclass_val, X_test, multiclass_test)"
   ]
  },
  {
   "cell_type": "code",
   "execution_count": 33,
   "id": "ae4d491c-f48e-4592-a6d7-d3471ca5c1c7",
   "metadata": {},
   "outputs": [],
   "source": [
    "ball_binary_train, ball_binary_val, ball_binary_test = np.vectorize(ball_remap.get)(multiclass_train), np.vectorize(ball_remap.get)(multiclass_val), np.vectorize(ball_remap.get)(multiclass_test)"
   ]
  },
  {
   "cell_type": "code",
   "execution_count": 35,
   "id": "29f157c5-07df-45c8-8f74-ea103518b7a4",
   "metadata": {},
   "outputs": [],
   "source": [
    "team_0_binary_train, team_0_binary_val, team_0_binary_test = np.vectorize(team_0_remap.get)(multiclass_train), np.vectorize(team_0_remap.get)(multiclass_val), np.vectorize(team_0_remap.get)(multiclass_test)"
   ]
  },
  {
   "cell_type": "code",
   "execution_count": 36,
   "id": "9414cbb1-5c29-442d-a28d-c645c777d12a",
   "metadata": {},
   "outputs": [],
   "source": [
    "team_1_binary_train, team_1_binary_val, team_1_binary_test = np.vectorize(team_1_remap.get)(multiclass_train), np.vectorize(team_1_remap.get)(multiclass_val), np.vectorize(team_1_remap.get)(multiclass_test)"
   ]
  },
  {
   "cell_type": "code",
   "execution_count": 63,
   "id": "bd532d5a-c0c3-46d7-a2d8-f522d24aeaf1",
   "metadata": {},
   "outputs": [],
   "source": [
    "# Define loss & model functions.\n",
    "# Re-used from T. Majidzadeh's HW 5 submission.\n",
    "# We re-formatted the data above so that it can work with this model.\n",
    "def build_model(n_classes, learning_rate=0.01):\n",
    "  \"\"\"Build a multi-class logistic regression model using Keras.\n",
    "\n",
    "  Args:\n",
    "    n_classes: Number of classes in the dataset\n",
    "    learning_rate: The desired learning rate for SGD.\n",
    "\n",
    "  Returns:\n",
    "    model: A tf.keras model (graph).\n",
    "  \"\"\"\n",
    "  tf.keras.backend.clear_session()\n",
    "  np.random.seed(0)\n",
    "  tf.random.set_seed(0)\n",
    "\n",
    "  model = keras.Sequential()\n",
    "  model.add(keras.layers.Flatten())\n",
    "  model.add(keras.layers.Dense(\n",
    "      # YOUR CODE HERE\n",
    "      units=n_classes,\n",
    "      activation=\"softmax\"\n",
    "  ))\n",
    "\n",
    "  optimizer = tf.keras.optimizers.SGD(learning_rate=learning_rate)\n",
    "  # YOUR CODE HERE\n",
    "  model.compile(loss=\"sparse_categorical_crossentropy\",\n",
    "                optimizer=optimizer, \n",
    "                metrics=['accuracy'])\n",
    "  return model"
   ]
  },
  {
   "cell_type": "code",
   "execution_count": 65,
   "id": "b26adf67-2f62-45cd-97dc-e9eabb8bd376",
   "metadata": {},
   "outputs": [
    {
     "name": "stdout",
     "output_type": "stream",
     "text": [
      "Epoch 1/20\n",
      "\u001b[1m117/117\u001b[0m \u001b[32m━━━━━━━━━━━━━━━━━━━━\u001b[0m\u001b[37m\u001b[0m \u001b[1m1s\u001b[0m 2ms/step - accuracy: 0.2975 - loss: 4.7779 - val_accuracy: 0.4688 - val_loss: 4.1330\n",
      "Epoch 2/20\n",
      "\u001b[1m117/117\u001b[0m \u001b[32m━━━━━━━━━━━━━━━━━━━━\u001b[0m\u001b[37m\u001b[0m \u001b[1m0s\u001b[0m 1ms/step - accuracy: 0.3160 - loss: 4.7615 - val_accuracy: 0.1130 - val_loss: 3.9004\n",
      "Epoch 3/20\n",
      "\u001b[1m117/117\u001b[0m \u001b[32m━━━━━━━━━━━━━━━━━━━━\u001b[0m\u001b[37m\u001b[0m \u001b[1m0s\u001b[0m 1ms/step - accuracy: 0.3219 - loss: 4.2736 - val_accuracy: 0.2163 - val_loss: 3.3347\n",
      "Epoch 4/20\n",
      "\u001b[1m117/117\u001b[0m \u001b[32m━━━━━━━━━━━━━━━━━━━━\u001b[0m\u001b[37m\u001b[0m \u001b[1m0s\u001b[0m 1ms/step - accuracy: 0.3345 - loss: 4.1533 - val_accuracy: 0.2151 - val_loss: 3.8321\n",
      "Epoch 5/20\n",
      "\u001b[1m117/117\u001b[0m \u001b[32m━━━━━━━━━━━━━━━━━━━━\u001b[0m\u001b[37m\u001b[0m \u001b[1m0s\u001b[0m 2ms/step - accuracy: 0.3440 - loss: 3.9534 - val_accuracy: 0.2019 - val_loss: 4.9696\n",
      "Epoch 6/20\n",
      "\u001b[1m117/117\u001b[0m \u001b[32m━━━━━━━━━━━━━━━━━━━━\u001b[0m\u001b[37m\u001b[0m \u001b[1m0s\u001b[0m 2ms/step - accuracy: 0.3442 - loss: 3.9806 - val_accuracy: 0.1058 - val_loss: 4.3896\n",
      "Epoch 7/20\n",
      "\u001b[1m117/117\u001b[0m \u001b[32m━━━━━━━━━━━━━━━━━━━━\u001b[0m\u001b[37m\u001b[0m \u001b[1m0s\u001b[0m 2ms/step - accuracy: 0.3389 - loss: 4.0922 - val_accuracy: 0.1947 - val_loss: 5.0079\n",
      "Epoch 8/20\n",
      "\u001b[1m117/117\u001b[0m \u001b[32m━━━━━━━━━━━━━━━━━━━━\u001b[0m\u001b[37m\u001b[0m \u001b[1m0s\u001b[0m 2ms/step - accuracy: 0.3494 - loss: 3.7404 - val_accuracy: 0.1190 - val_loss: 4.5924\n",
      "Epoch 9/20\n",
      "\u001b[1m117/117\u001b[0m \u001b[32m━━━━━━━━━━━━━━━━━━━━\u001b[0m\u001b[37m\u001b[0m \u001b[1m0s\u001b[0m 3ms/step - accuracy: 0.3447 - loss: 4.0086 - val_accuracy: 0.2404 - val_loss: 3.2179\n",
      "Epoch 10/20\n",
      "\u001b[1m117/117\u001b[0m \u001b[32m━━━━━━━━━━━━━━━━━━━━\u001b[0m\u001b[37m\u001b[0m \u001b[1m0s\u001b[0m 3ms/step - accuracy: 0.3519 - loss: 3.8071 - val_accuracy: 0.2584 - val_loss: 3.4301\n",
      "Epoch 11/20\n",
      "\u001b[1m117/117\u001b[0m \u001b[32m━━━━━━━━━━━━━━━━━━━━\u001b[0m\u001b[37m\u001b[0m \u001b[1m0s\u001b[0m 3ms/step - accuracy: 0.3632 - loss: 3.6808 - val_accuracy: 0.2272 - val_loss: 3.4923\n",
      "Epoch 12/20\n",
      "\u001b[1m117/117\u001b[0m \u001b[32m━━━━━━━━━━━━━━━━━━━━\u001b[0m\u001b[37m\u001b[0m \u001b[1m0s\u001b[0m 2ms/step - accuracy: 0.3762 - loss: 3.5471 - val_accuracy: 0.2500 - val_loss: 3.4959\n",
      "Epoch 13/20\n",
      "\u001b[1m117/117\u001b[0m \u001b[32m━━━━━━━━━━━━━━━━━━━━\u001b[0m\u001b[37m\u001b[0m \u001b[1m0s\u001b[0m 3ms/step - accuracy: 0.3758 - loss: 3.6135 - val_accuracy: 0.4964 - val_loss: 3.7779\n",
      "Epoch 14/20\n",
      "\u001b[1m117/117\u001b[0m \u001b[32m━━━━━━━━━━━━━━━━━━━━\u001b[0m\u001b[37m\u001b[0m \u001b[1m0s\u001b[0m 2ms/step - accuracy: 0.3709 - loss: 3.6700 - val_accuracy: 0.2644 - val_loss: 3.3133\n",
      "Epoch 15/20\n",
      "\u001b[1m117/117\u001b[0m \u001b[32m━━━━━━━━━━━━━━━━━━━━\u001b[0m\u001b[37m\u001b[0m \u001b[1m0s\u001b[0m 2ms/step - accuracy: 0.3717 - loss: 3.5996 - val_accuracy: 0.4615 - val_loss: 4.9541\n",
      "Epoch 16/20\n",
      "\u001b[1m117/117\u001b[0m \u001b[32m━━━━━━━━━━━━━━━━━━━━\u001b[0m\u001b[37m\u001b[0m \u001b[1m0s\u001b[0m 3ms/step - accuracy: 0.3585 - loss: 3.8742 - val_accuracy: 0.4916 - val_loss: 3.5537\n",
      "Epoch 17/20\n",
      "\u001b[1m117/117\u001b[0m \u001b[32m━━━━━━━━━━━━━━━━━━━━\u001b[0m\u001b[37m\u001b[0m \u001b[1m0s\u001b[0m 2ms/step - accuracy: 0.3607 - loss: 3.7522 - val_accuracy: 0.2596 - val_loss: 3.3251\n",
      "Epoch 18/20\n",
      "\u001b[1m117/117\u001b[0m \u001b[32m━━━━━━━━━━━━━━━━━━━━\u001b[0m\u001b[37m\u001b[0m \u001b[1m0s\u001b[0m 2ms/step - accuracy: 0.3720 - loss: 3.5817 - val_accuracy: 0.4952 - val_loss: 3.9952\n",
      "Epoch 19/20\n",
      "\u001b[1m117/117\u001b[0m \u001b[32m━━━━━━━━━━━━━━━━━━━━\u001b[0m\u001b[37m\u001b[0m \u001b[1m0s\u001b[0m 2ms/step - accuracy: 0.3657 - loss: 3.7044 - val_accuracy: 0.4940 - val_loss: 4.3077\n",
      "Epoch 20/20\n",
      "\u001b[1m117/117\u001b[0m \u001b[32m━━━━━━━━━━━━━━━━━━━━\u001b[0m\u001b[37m\u001b[0m \u001b[1m0s\u001b[0m 2ms/step - accuracy: 0.3683 - loss: 3.5611 - val_accuracy: 0.1971 - val_loss: 4.5608\n"
     ]
    },
    {
     "data": {
      "text/plain": [
       "<keras.src.callbacks.history.History at 0x1d7e86cf1d0>"
      ]
     },
     "execution_count": 65,
     "metadata": {},
     "output_type": "execute_result"
    }
   ],
   "source": [
    "# Multiclass predictor\n",
    "multiclass_model = build_model(len(objects_per_image['class'].unique()))\n",
    "multiclass_model.fit(\n",
    "    x = X_train,\n",
    "    y = multiclass_train,\n",
    "    epochs = 20,\n",
    "    batch_size = 64,\n",
    "    validation_split = 0.1,\n",
    "    verbose=1\n",
    ")"
   ]
  },
  {
   "cell_type": "code",
   "execution_count": 40,
   "id": "adbcb795-34a1-404d-9fe2-b81032f9fa51",
   "metadata": {},
   "outputs": [],
   "source": [
    "def plot_confusion_matrix(labels, predictions, names):\n",
    "    '''\n",
    "    Plot a confusion matrix given a set of labels, names, and predictions.\n",
    "    '''\n",
    "    # Create a confusion matrix as a 2D array.\n",
    "    confusion_matrix = tf.math.confusion_matrix(labels, predictions)\n",
    "    \n",
    "    # Use a heatmap plot to display it.\n",
    "    ax = sns.heatmap(confusion_matrix, fmt='.3g', cmap='Blues',\n",
    "                     xticklabels=names, yticklabels=names, cbar=False)\n",
    "    \n",
    "    # Add axis labels.\n",
    "    ax.set(xlabel='Predicted Label', ylabel='True Label')\n",
    "    plt.show()"
   ]
  },
  {
   "cell_type": "code",
   "execution_count": 41,
   "id": "f2f0c0a5-796c-4b08-803b-0dae5a148dc2",
   "metadata": {},
   "outputs": [
    {
     "name": "stdout",
     "output_type": "stream",
     "text": [
      "\u001b[1m33/33\u001b[0m \u001b[32m━━━━━━━━━━━━━━━━━━━━\u001b[0m\u001b[37m\u001b[0m \u001b[1m0s\u001b[0m 906us/step\n",
      "[4 4 4 ... 4 4 1]\n"
     ]
    },
    {
     "data": {
      "image/png": "[encoded data removed]",
      "text/plain": [
       "<Figure size 640x480 with 1 Axes>"
      ]
     },
     "metadata": {},
     "output_type": "display_data"
    }
   ],
   "source": [
    "multiclass_predictions = np.argmax(multiclass_model.predict(X_test), axis=-1)\n",
    "print(multiclass_predictions)\n",
    "plot_confusion_matrix(multiclass_test, multiclass_predictions, class_dict.values())"
   ]
  },
  {
   "cell_type": "code",
   "execution_count": 80,
   "id": "582a51a7-2a24-4e5c-a557-d050eacc83ec",
   "metadata": {},
   "outputs": [
    {
     "name": "stdout",
     "output_type": "stream",
     "text": [
      "Precision:  0.393264896698275\n",
      "Recall:  0.13846153846153847\n"
     ]
    },
    {
     "name": "stderr",
     "output_type": "stream",
     "text": [
      "C:\\Users\\timot\\anaconda3\\envs\\tf_env\\Lib\\site-packages\\sklearn\\metrics\\_classification.py:1509: UndefinedMetricWarning: Precision is ill-defined and being set to 0.0 in labels with no predicted samples. Use `zero_division` parameter to control this behavior.\n",
      "  _warn_prf(average, modifier, f\"{metric.capitalize()} is\", len(result))\n"
     ]
    }
   ],
   "source": [
    "print(\"Precision: \", metrics.precision_score(multiclass_test, multiclass_predictions, average='weighted'))\n",
    "print(\"Recall: \", metrics.recall_score(multiclass_test, multiclass_predictions, average='weighted'))"
   ]
  },
  {
   "cell_type": "code",
   "execution_count": 42,
   "id": "7be28596-9819-446e-a11f-6469870b7124",
   "metadata": {},
   "outputs": [
    {
     "name": "stdout",
     "output_type": "stream",
     "text": [
      "Epoch 1/20\n",
      "\u001b[1m117/117\u001b[0m \u001b[32m━━━━━━━━━━━━━━━━━━━━\u001b[0m\u001b[37m\u001b[0m \u001b[1m1s\u001b[0m 3ms/step - accuracy: 0.4931 - loss: 4.7051 - val_accuracy: 0.5337 - val_loss: 1.3185\n",
      "Epoch 2/20\n",
      "\u001b[1m117/117\u001b[0m \u001b[32m━━━━━━━━━━━━━━━━━━━━\u001b[0m\u001b[37m\u001b[0m \u001b[1m0s\u001b[0m 2ms/step - accuracy: 0.5156 - loss: 4.3169 - val_accuracy: 0.5288 - val_loss: 6.4680\n",
      "Epoch 3/20\n",
      "\u001b[1m117/117\u001b[0m \u001b[32m━━━━━━━━━━━━━━━━━━━━\u001b[0m\u001b[37m\u001b[0m \u001b[1m0s\u001b[0m 1ms/step - accuracy: 0.4860 - loss: 5.0153 - val_accuracy: 0.5288 - val_loss: 6.3907\n",
      "Epoch 4/20\n",
      "\u001b[1m117/117\u001b[0m \u001b[32m━━━━━━━━━━━━━━━━━━━━\u001b[0m\u001b[37m\u001b[0m \u001b[1m0s\u001b[0m 2ms/step - accuracy: 0.4885 - loss: 4.9635 - val_accuracy: 0.5288 - val_loss: 6.3209\n",
      "Epoch 5/20\n",
      "\u001b[1m117/117\u001b[0m \u001b[32m━━━━━━━━━━━━━━━━━━━━\u001b[0m\u001b[37m\u001b[0m \u001b[1m0s\u001b[0m 2ms/step - accuracy: 0.4898 - loss: 4.9123 - val_accuracy: 0.5288 - val_loss: 6.3596\n",
      "Epoch 6/20\n",
      "\u001b[1m117/117\u001b[0m \u001b[32m━━━━━━━━━━━━━━━━━━━━\u001b[0m\u001b[37m\u001b[0m \u001b[1m0s\u001b[0m 2ms/step - accuracy: 0.4924 - loss: 4.8663 - val_accuracy: 0.5288 - val_loss: 6.3052\n",
      "Epoch 7/20\n",
      "\u001b[1m117/117\u001b[0m \u001b[32m━━━━━━━━━━━━━━━━━━━━\u001b[0m\u001b[37m\u001b[0m \u001b[1m0s\u001b[0m 2ms/step - accuracy: 0.4941 - loss: 4.8236 - val_accuracy: 0.5300 - val_loss: 6.2499\n",
      "Epoch 8/20\n",
      "\u001b[1m117/117\u001b[0m \u001b[32m━━━━━━━━━━━━━━━━━━━━\u001b[0m\u001b[37m\u001b[0m \u001b[1m0s\u001b[0m 2ms/step - accuracy: 0.4954 - loss: 4.7865 - val_accuracy: 0.5349 - val_loss: 5.8123\n",
      "Epoch 9/20\n",
      "\u001b[1m117/117\u001b[0m \u001b[32m━━━━━━━━━━━━━━━━━━━━\u001b[0m\u001b[37m\u001b[0m \u001b[1m0s\u001b[0m 2ms/step - accuracy: 0.4978 - loss: 4.7497 - val_accuracy: 0.5445 - val_loss: 4.8825\n",
      "Epoch 10/20\n",
      "\u001b[1m117/117\u001b[0m \u001b[32m━━━━━━━━━━━━━━━━━━━━\u001b[0m\u001b[37m\u001b[0m \u001b[1m0s\u001b[0m 2ms/step - accuracy: 0.4986 - loss: 4.7194 - val_accuracy: 0.5445 - val_loss: 1.3134\n",
      "Epoch 11/20\n",
      "\u001b[1m117/117\u001b[0m \u001b[32m━━━━━━━━━━━━━━━━━━━━\u001b[0m\u001b[37m\u001b[0m \u001b[1m0s\u001b[0m 2ms/step - accuracy: 0.5387 - loss: 3.9230 - val_accuracy: 0.5529 - val_loss: 1.6599\n",
      "Epoch 12/20\n",
      "\u001b[1m117/117\u001b[0m \u001b[32m━━━━━━━━━━━━━━━━━━━━\u001b[0m\u001b[37m\u001b[0m \u001b[1m0s\u001b[0m 2ms/step - accuracy: 0.5399 - loss: 3.9104 - val_accuracy: 0.5481 - val_loss: 1.6651\n",
      "Epoch 13/20\n",
      "\u001b[1m117/117\u001b[0m \u001b[32m━━━━━━━━━━━━━━━━━━━━\u001b[0m\u001b[37m\u001b[0m \u001b[1m0s\u001b[0m 2ms/step - accuracy: 0.5406 - loss: 3.8971 - val_accuracy: 0.5505 - val_loss: 1.6561\n",
      "Epoch 14/20\n",
      "\u001b[1m117/117\u001b[0m \u001b[32m━━━━━━━━━━━━━━━━━━━━\u001b[0m\u001b[37m\u001b[0m \u001b[1m0s\u001b[0m 1ms/step - accuracy: 0.5408 - loss: 3.8841 - val_accuracy: 0.5517 - val_loss: 1.6494\n",
      "Epoch 15/20\n",
      "\u001b[1m117/117\u001b[0m \u001b[32m━━━━━━━━━━━━━━━━━━━━\u001b[0m\u001b[37m\u001b[0m \u001b[1m0s\u001b[0m 2ms/step - accuracy: 0.5414 - loss: 3.8716 - val_accuracy: 0.5529 - val_loss: 1.6459\n",
      "Epoch 16/20\n",
      "\u001b[1m117/117\u001b[0m \u001b[32m━━━━━━━━━━━━━━━━━━━━\u001b[0m\u001b[37m\u001b[0m \u001b[1m0s\u001b[0m 2ms/step - accuracy: 0.5413 - loss: 3.8598 - val_accuracy: 0.5529 - val_loss: 1.6453\n",
      "Epoch 17/20\n",
      "\u001b[1m117/117\u001b[0m \u001b[32m━━━━━━━━━━━━━━━━━━━━\u001b[0m\u001b[37m\u001b[0m \u001b[1m0s\u001b[0m 1ms/step - accuracy: 0.5409 - loss: 3.8484 - val_accuracy: 0.5541 - val_loss: 1.6474\n",
      "Epoch 18/20\n",
      "\u001b[1m117/117\u001b[0m \u001b[32m━━━━━━━━━━━━━━━━━━━━\u001b[0m\u001b[37m\u001b[0m \u001b[1m0s\u001b[0m 2ms/step - accuracy: 0.5407 - loss: 3.8373 - val_accuracy: 0.5565 - val_loss: 1.6515\n",
      "Epoch 19/20\n",
      "\u001b[1m117/117\u001b[0m \u001b[32m━━━━━━━━━━━━━━━━━━━━\u001b[0m\u001b[37m\u001b[0m \u001b[1m0s\u001b[0m 1ms/step - accuracy: 0.5414 - loss: 3.8266 - val_accuracy: 0.5589 - val_loss: 1.6574\n",
      "Epoch 20/20\n",
      "\u001b[1m117/117\u001b[0m \u001b[32m━━━━━━━━━━━━━━━━━━━━\u001b[0m\u001b[37m\u001b[0m \u001b[1m0s\u001b[0m 2ms/step - accuracy: 0.5418 - loss: 3.8161 - val_accuracy: 0.5601 - val_loss: 1.6647\n"
     ]
    },
    {
     "data": {
      "text/plain": [
       "<keras.src.callbacks.history.History at 0x1d7d0da2c00>"
      ]
     },
     "execution_count": 42,
     "metadata": {},
     "output_type": "execute_result"
    }
   ],
   "source": [
    "# Ball presence predictor\n",
    "ball_binary_model = build_model(2)\n",
    "ball_binary_model.fit(\n",
    "    x = X_train,\n",
    "    y = ball_binary_train,\n",
    "    epochs = 20,\n",
    "    batch_size = 64,\n",
    "    validation_split = 0.1,\n",
    "    verbose=1\n",
    ")"
   ]
  },
  {
   "cell_type": "code",
   "execution_count": 43,
   "id": "160cb3d4-0623-4418-ad5b-32821122c6de",
   "metadata": {},
   "outputs": [
    {
     "name": "stdout",
     "output_type": "stream",
     "text": [
      "\u001b[1m33/33\u001b[0m \u001b[32m━━━━━━━━━━━━━━━━━━━━\u001b[0m\u001b[37m\u001b[0m \u001b[1m0s\u001b[0m 1ms/step \n",
      "[1 1 0 ... 0 0 1]\n"
     ]
    },
    {
     "data": {
      "image/png": "[encoded data removed]",
      "text/plain": [
       "<Figure size 640x480 with 1 Axes>"
      ]
     },
     "metadata": {},
     "output_type": "display_data"
    }
   ],
   "source": [
    "ball_binary_predictions = np.argmax(ball_binary_model.predict(X_test), axis=-1)\n",
    "print(ball_binary_predictions)\n",
    "plot_confusion_matrix(ball_binary_test, ball_binary_predictions, [\"Not Present\", \"Present\"])"
   ]
  },
  {
   "cell_type": "code",
   "execution_count": 49,
   "id": "69afe558-c598-4dfe-8d63-65574dec2a20",
   "metadata": {},
   "outputs": [
    {
     "data": {
      "text/plain": [
       "(5200, 9)"
      ]
     },
     "execution_count": 49,
     "metadata": {},
     "output_type": "execute_result"
    }
   ],
   "source": [
    "# 50% accuracy is not so great when that's the baseline prevalance in the dataset!\n",
    "objects_per_image.query('img_ball_count > 0').shape"
   ]
  },
  {
   "cell_type": "code",
   "execution_count": 83,
   "id": "69b2a466-fd54-4d28-8d51-7ae47014c6a2",
   "metadata": {},
   "outputs": [
    {
     "name": "stdout",
     "output_type": "stream",
     "text": [
      "Precision:  0.5\n",
      "Recall:  0.17870722433460076\n"
     ]
    }
   ],
   "source": [
    "print(\"Precision: \", metrics.precision_score(ball_binary_test, ball_binary_predictions, average='binary'))\n",
    "print(\"Recall: \", metrics.recall_score(ball_binary_test, ball_binary_predictions, average='binary'))"
   ]
  },
  {
   "cell_type": "code",
   "execution_count": 45,
   "id": "8504be59-07b4-4137-9bd6-5557604228ec",
   "metadata": {},
   "outputs": [
    {
     "name": "stdout",
     "output_type": "stream",
     "text": [
      "Epoch 1/20\n",
      "\u001b[1m117/117\u001b[0m \u001b[32m━━━━━━━━━━━━━━━━━━━━\u001b[0m\u001b[37m\u001b[0m \u001b[1m1s\u001b[0m 3ms/step - accuracy: 0.5801 - loss: 3.3539 - val_accuracy: 0.7067 - val_loss: 3.1602\n",
      "Epoch 2/20\n",
      "\u001b[1m117/117\u001b[0m \u001b[32m━━━━━━━━━━━━━━━━━━━━\u001b[0m\u001b[37m\u001b[0m \u001b[1m0s\u001b[0m 2ms/step - accuracy: 0.6081 - loss: 3.0250 - val_accuracy: 0.7067 - val_loss: 2.5537\n",
      "Epoch 3/20\n",
      "\u001b[1m117/117\u001b[0m \u001b[32m━━━━━━━━━━━━━━━━━━━━\u001b[0m\u001b[37m\u001b[0m \u001b[1m0s\u001b[0m 2ms/step - accuracy: 0.6226 - loss: 2.5287 - val_accuracy: 0.7067 - val_loss: 6.4807\n",
      "Epoch 4/20\n",
      "\u001b[1m117/117\u001b[0m \u001b[32m━━━━━━━━━━━━━━━━━━━━\u001b[0m\u001b[37m\u001b[0m \u001b[1m0s\u001b[0m 2ms/step - accuracy: 0.6359 - loss: 2.8164 - val_accuracy: 0.7296 - val_loss: 0.6101\n",
      "Epoch 5/20\n",
      "\u001b[1m117/117\u001b[0m \u001b[32m━━━━━━━━━━━━━━━━━━━━\u001b[0m\u001b[37m\u001b[0m \u001b[1m0s\u001b[0m 3ms/step - accuracy: 0.6352 - loss: 2.3775 - val_accuracy: 0.7067 - val_loss: 4.6311\n",
      "Epoch 6/20\n",
      "\u001b[1m117/117\u001b[0m \u001b[32m━━━━━━━━━━━━━━━━━━━━\u001b[0m\u001b[37m\u001b[0m \u001b[1m0s\u001b[0m 2ms/step - accuracy: 0.6371 - loss: 2.5463 - val_accuracy: 0.7067 - val_loss: 4.0833\n",
      "Epoch 7/20\n",
      "\u001b[1m117/117\u001b[0m \u001b[32m━━━━━━━━━━━━━━━━━━━━\u001b[0m\u001b[37m\u001b[0m \u001b[1m0s\u001b[0m 2ms/step - accuracy: 0.6515 - loss: 2.3137 - val_accuracy: 0.7103 - val_loss: 3.2270\n",
      "Epoch 8/20\n",
      "\u001b[1m117/117\u001b[0m \u001b[32m━━━━━━━━━━━━━━━━━━━━\u001b[0m\u001b[37m\u001b[0m \u001b[1m0s\u001b[0m 2ms/step - accuracy: 0.6361 - loss: 2.4051 - val_accuracy: 0.6875 - val_loss: 0.7692\n",
      "Epoch 9/20\n",
      "\u001b[1m117/117\u001b[0m \u001b[32m━━━━━━━━━━━━━━━━━━━━\u001b[0m\u001b[37m\u001b[0m \u001b[1m0s\u001b[0m 2ms/step - accuracy: 0.6472 - loss: 2.1558 - val_accuracy: 0.7067 - val_loss: 5.0236\n",
      "Epoch 10/20\n",
      "\u001b[1m117/117\u001b[0m \u001b[32m━━━━━━━━━━━━━━━━━━━━\u001b[0m\u001b[37m\u001b[0m \u001b[1m0s\u001b[0m 2ms/step - accuracy: 0.6465 - loss: 2.3338 - val_accuracy: 0.7067 - val_loss: 4.7731\n",
      "Epoch 11/20\n",
      "\u001b[1m117/117\u001b[0m \u001b[32m━━━━━━━━━━━━━━━━━━━━\u001b[0m\u001b[37m\u001b[0m \u001b[1m0s\u001b[0m 2ms/step - accuracy: 0.6545 - loss: 2.2451 - val_accuracy: 0.7115 - val_loss: 3.1869\n",
      "Epoch 12/20\n",
      "\u001b[1m117/117\u001b[0m \u001b[32m━━━━━━━━━━━━━━━━━━━━\u001b[0m\u001b[37m\u001b[0m \u001b[1m0s\u001b[0m 2ms/step - accuracy: 0.6580 - loss: 2.1006 - val_accuracy: 0.7067 - val_loss: 4.5738\n",
      "Epoch 13/20\n",
      "\u001b[1m117/117\u001b[0m \u001b[32m━━━━━━━━━━━━━━━━━━━━\u001b[0m\u001b[37m\u001b[0m \u001b[1m0s\u001b[0m 2ms/step - accuracy: 0.6648 - loss: 2.1326 - val_accuracy: 0.7464 - val_loss: 1.3910\n",
      "Epoch 14/20\n",
      "\u001b[1m117/117\u001b[0m \u001b[32m━━━━━━━━━━━━━━━━━━━━\u001b[0m\u001b[37m\u001b[0m \u001b[1m0s\u001b[0m 2ms/step - accuracy: 0.6716 - loss: 1.7906 - val_accuracy: 0.7680 - val_loss: 0.9546\n",
      "Epoch 15/20\n",
      "\u001b[1m117/117\u001b[0m \u001b[32m━━━━━━━━━━━━━━━━━━━━\u001b[0m\u001b[37m\u001b[0m \u001b[1m0s\u001b[0m 1ms/step - accuracy: 0.6634 - loss: 1.8068 - val_accuracy: 0.7416 - val_loss: 1.5846\n",
      "Epoch 16/20\n",
      "\u001b[1m117/117\u001b[0m \u001b[32m━━━━━━━━━━━━━━━━━━━━\u001b[0m\u001b[37m\u001b[0m \u001b[1m0s\u001b[0m 2ms/step - accuracy: 0.6712 - loss: 1.7814 - val_accuracy: 0.7115 - val_loss: 3.6525\n",
      "Epoch 17/20\n",
      "\u001b[1m117/117\u001b[0m \u001b[32m━━━━━━━━━━━━━━━━━━━━\u001b[0m\u001b[37m\u001b[0m \u001b[1m0s\u001b[0m 2ms/step - accuracy: 0.6671 - loss: 2.0288 - val_accuracy: 0.7296 - val_loss: 1.9549\n",
      "Epoch 18/20\n",
      "\u001b[1m117/117\u001b[0m \u001b[32m━━━━━━━━━━━━━━━━━━━━\u001b[0m\u001b[37m\u001b[0m \u001b[1m0s\u001b[0m 1ms/step - accuracy: 0.7041 - loss: 1.4647 - val_accuracy: 0.7115 - val_loss: 3.3742\n",
      "Epoch 19/20\n",
      "\u001b[1m117/117\u001b[0m \u001b[32m━━━━━━━━━━━━━━━━━━━━\u001b[0m\u001b[37m\u001b[0m \u001b[1m0s\u001b[0m 2ms/step - accuracy: 0.6714 - loss: 1.9261 - val_accuracy: 0.6791 - val_loss: 0.8193\n",
      "Epoch 20/20\n",
      "\u001b[1m117/117\u001b[0m \u001b[32m━━━━━━━━━━━━━━━━━━━━\u001b[0m\u001b[37m\u001b[0m \u001b[1m0s\u001b[0m 1ms/step - accuracy: 0.6596 - loss: 2.0015 - val_accuracy: 0.7188 - val_loss: 0.7453\n"
     ]
    },
    {
     "data": {
      "text/plain": [
       "<keras.src.callbacks.history.History at 0x1d7d10b0260>"
      ]
     },
     "execution_count": 45,
     "metadata": {},
     "output_type": "execute_result"
    }
   ],
   "source": [
    "# Team 0 presence predictor\n",
    "team_0_binary_model = build_model(2)\n",
    "team_0_binary_model.fit(\n",
    "    x = X_train,\n",
    "    y = team_1_binary_train,\n",
    "    epochs = 20,\n",
    "    batch_size = 64,\n",
    "    validation_split = 0.1,\n",
    "    verbose=1\n",
    ")"
   ]
  },
  {
   "cell_type": "code",
   "execution_count": 47,
   "id": "84acf276-7f03-4125-82a9-9eee997c76b3",
   "metadata": {},
   "outputs": [
    {
     "name": "stdout",
     "output_type": "stream",
     "text": [
      "\u001b[1m33/33\u001b[0m \u001b[32m━━━━━━━━━━━━━━━━━━━━\u001b[0m\u001b[37m\u001b[0m \u001b[1m0s\u001b[0m 2ms/step\n",
      "[1 1 1 ... 0 1 1]\n"
     ]
    },
    {
     "data": {
      "image/png": "[encoded data removed]",
      "text/plain": [
       "<Figure size 640x480 with 1 Axes>"
      ]
     },
     "metadata": {},
     "output_type": "display_data"
    }
   ],
   "source": [
    "team_0_binary_predictions = np.argmax(team_0_binary_model.predict(X_test), axis=-1)\n",
    "print(team_0_binary_predictions)\n",
    "plot_confusion_matrix(team_0_binary_test, team_0_binary_predictions, [\"Not Present\", \"Present\"])"
   ]
  },
  {
   "cell_type": "code",
   "execution_count": 50,
   "id": "e7218927-3764-4549-9ead-ee081fa1d185",
   "metadata": {},
   "outputs": [
    {
     "data": {
      "text/plain": [
       "(7310, 9)"
      ]
     },
     "execution_count": 50,
     "metadata": {},
     "output_type": "execute_result"
    }
   ],
   "source": [
    "objects_per_image.query('img_team_0_count > 0').shape"
   ]
  },
  {
   "cell_type": "code",
   "execution_count": 84,
   "id": "4d0608dd-e0e9-4d3c-b389-e0741f1e0581",
   "metadata": {},
   "outputs": [
    {
     "name": "stdout",
     "output_type": "stream",
     "text": [
      "Precision:  0.815625\n",
      "Recall:  0.7006711409395974\n"
     ]
    }
   ],
   "source": [
    "print(\"Precision: \", metrics.precision_score(team_0_binary_test, team_0_binary_predictions, average='binary'))\n",
    "print(\"Recall: \", metrics.recall_score(team_0_binary_test, team_0_binary_predictions, average='binary'))"
   ]
  },
  {
   "cell_type": "code",
   "execution_count": 52,
   "id": "252760b9-104a-4b88-92c4-b8bf8cbb12e9",
   "metadata": {},
   "outputs": [
    {
     "name": "stdout",
     "output_type": "stream",
     "text": [
      "Epoch 1/20\n",
      "\u001b[1m117/117\u001b[0m \u001b[32m━━━━━━━━━━━━━━━━━━━━\u001b[0m\u001b[37m\u001b[0m \u001b[1m1s\u001b[0m 3ms/step - accuracy: 0.5913 - loss: 3.2879 - val_accuracy: 0.7067 - val_loss: 1.8663\n",
      "Epoch 2/20\n",
      "\u001b[1m117/117\u001b[0m \u001b[32m━━━━━━━━━━━━━━━━━━━━\u001b[0m\u001b[37m\u001b[0m \u001b[1m0s\u001b[0m 1ms/step - accuracy: 0.6051 - loss: 2.9254 - val_accuracy: 0.7067 - val_loss: 2.5288\n",
      "Epoch 3/20\n",
      "\u001b[1m117/117\u001b[0m \u001b[32m━━━━━━━━━━━━━━━━━━━━\u001b[0m\u001b[37m\u001b[0m \u001b[1m0s\u001b[0m 1ms/step - accuracy: 0.6278 - loss: 2.6280 - val_accuracy: 0.7067 - val_loss: 5.8960\n",
      "Epoch 4/20\n",
      "\u001b[1m117/117\u001b[0m \u001b[32m━━━━━━━━━━━━━━━━━━━━\u001b[0m\u001b[37m\u001b[0m \u001b[1m0s\u001b[0m 2ms/step - accuracy: 0.6292 - loss: 2.7106 - val_accuracy: 0.7296 - val_loss: 0.6100\n",
      "Epoch 5/20\n",
      "\u001b[1m117/117\u001b[0m \u001b[32m━━━━━━━━━━━━━━━━━━━━\u001b[0m\u001b[37m\u001b[0m \u001b[1m0s\u001b[0m 2ms/step - accuracy: 0.6490 - loss: 2.1231 - val_accuracy: 0.6334 - val_loss: 0.8353\n",
      "Epoch 6/20\n",
      "\u001b[1m117/117\u001b[0m \u001b[32m━━━━━━━━━━━━━━━━━━━━\u001b[0m\u001b[37m\u001b[0m \u001b[1m0s\u001b[0m 2ms/step - accuracy: 0.6505 - loss: 2.2801 - val_accuracy: 0.6659 - val_loss: 0.8038\n",
      "Epoch 7/20\n",
      "\u001b[1m117/117\u001b[0m \u001b[32m━━━━━━━━━━━━━━━━━━━━\u001b[0m\u001b[37m\u001b[0m \u001b[1m0s\u001b[0m 2ms/step - accuracy: 0.6446 - loss: 2.3457 - val_accuracy: 0.6887 - val_loss: 0.7486\n",
      "Epoch 8/20\n",
      "\u001b[1m117/117\u001b[0m \u001b[32m━━━━━━━━━━━━━━━━━━━━\u001b[0m\u001b[37m\u001b[0m \u001b[1m0s\u001b[0m 3ms/step - accuracy: 0.6406 - loss: 2.2291 - val_accuracy: 0.6911 - val_loss: 0.7412\n",
      "Epoch 9/20\n",
      "\u001b[1m117/117\u001b[0m \u001b[32m━━━━━━━━━━━━━━━━━━━━\u001b[0m\u001b[37m\u001b[0m \u001b[1m0s\u001b[0m 1ms/step - accuracy: 0.6307 - loss: 2.3133 - val_accuracy: 0.7067 - val_loss: 4.1878\n",
      "Epoch 10/20\n",
      "\u001b[1m117/117\u001b[0m \u001b[32m━━━━━━━━━━━━━━━━━━━━\u001b[0m\u001b[37m\u001b[0m \u001b[1m0s\u001b[0m 1ms/step - accuracy: 0.6579 - loss: 2.1940 - val_accuracy: 0.7079 - val_loss: 4.1983\n",
      "Epoch 11/20\n",
      "\u001b[1m117/117\u001b[0m \u001b[32m━━━━━━━━━━━━━━━━━━━━\u001b[0m\u001b[37m\u001b[0m \u001b[1m0s\u001b[0m 1ms/step - accuracy: 0.6577 - loss: 2.2215 - val_accuracy: 0.7224 - val_loss: 2.4502\n",
      "Epoch 12/20\n",
      "\u001b[1m117/117\u001b[0m \u001b[32m━━━━━━━━━━━━━━━━━━━━\u001b[0m\u001b[37m\u001b[0m \u001b[1m0s\u001b[0m 2ms/step - accuracy: 0.6748 - loss: 1.9120 - val_accuracy: 0.7812 - val_loss: 0.8483\n",
      "Epoch 13/20\n",
      "\u001b[1m117/117\u001b[0m \u001b[32m━━━━━━━━━━━━━━━━━━━━\u001b[0m\u001b[37m\u001b[0m \u001b[1m0s\u001b[0m 2ms/step - accuracy: 0.6709 - loss: 1.7563 - val_accuracy: 0.7067 - val_loss: 4.6183\n",
      "Epoch 14/20\n",
      "\u001b[1m117/117\u001b[0m \u001b[32m━━━━━━━━━━━━━━━━━━━━\u001b[0m\u001b[37m\u001b[0m \u001b[1m0s\u001b[0m 2ms/step - accuracy: 0.6494 - loss: 2.2994 - val_accuracy: 0.7079 - val_loss: 4.4858\n",
      "Epoch 15/20\n",
      "\u001b[1m117/117\u001b[0m \u001b[32m━━━━━━━━━━━━━━━━━━━━\u001b[0m\u001b[37m\u001b[0m \u001b[1m0s\u001b[0m 1ms/step - accuracy: 0.6602 - loss: 2.1695 - val_accuracy: 0.7079 - val_loss: 4.3996\n",
      "Epoch 16/20\n",
      "\u001b[1m117/117\u001b[0m \u001b[32m━━━━━━━━━━━━━━━━━━━━\u001b[0m\u001b[37m\u001b[0m \u001b[1m0s\u001b[0m 2ms/step - accuracy: 0.6634 - loss: 2.0979 - val_accuracy: 0.7404 - val_loss: 1.6058\n",
      "Epoch 17/20\n",
      "\u001b[1m117/117\u001b[0m \u001b[32m━━━━━━━━━━━━━━━━━━━━\u001b[0m\u001b[37m\u001b[0m \u001b[1m0s\u001b[0m 2ms/step - accuracy: 0.6733 - loss: 1.8160 - val_accuracy: 0.7620 - val_loss: 1.0959\n",
      "Epoch 18/20\n",
      "\u001b[1m117/117\u001b[0m \u001b[32m━━━━━━━━━━━━━━━━━━━━\u001b[0m\u001b[37m\u001b[0m \u001b[1m0s\u001b[0m 3ms/step - accuracy: 0.6659 - loss: 1.8106 - val_accuracy: 0.7079 - val_loss: 4.2302\n",
      "Epoch 19/20\n",
      "\u001b[1m117/117\u001b[0m \u001b[32m━━━━━━━━━━━━━━━━━━━━\u001b[0m\u001b[37m\u001b[0m \u001b[1m0s\u001b[0m 1ms/step - accuracy: 0.6657 - loss: 2.0656 - val_accuracy: 0.7464 - val_loss: 1.3741\n",
      "Epoch 20/20\n",
      "\u001b[1m117/117\u001b[0m \u001b[32m━━━━━━━━━━━━━━━━━━━━\u001b[0m\u001b[37m\u001b[0m \u001b[1m0s\u001b[0m 2ms/step - accuracy: 0.6838 - loss: 1.6230 - val_accuracy: 0.7115 - val_loss: 3.6708\n"
     ]
    },
    {
     "data": {
      "text/plain": [
       "<keras.src.callbacks.history.History at 0x1d7d1114230>"
      ]
     },
     "execution_count": 52,
     "metadata": {},
     "output_type": "execute_result"
    }
   ],
   "source": [
    "# Team 1 presence predictor\n",
    "team_1_binary_model = build_model(2)\n",
    "team_1_binary_model.fit(\n",
    "    x = X_train,\n",
    "    y = team_1_binary_train,\n",
    "    epochs = 20,\n",
    "    batch_size = 64,\n",
    "    validation_split = 0.1,\n",
    "    verbose=1\n",
    ")"
   ]
  },
  {
   "cell_type": "code",
   "execution_count": 53,
   "id": "546c29e0-63dd-4a90-8b43-0bcd8cf62eee",
   "metadata": {},
   "outputs": [
    {
     "name": "stdout",
     "output_type": "stream",
     "text": [
      "\u001b[1m33/33\u001b[0m \u001b[32m━━━━━━━━━━━━━━━━━━━━\u001b[0m\u001b[37m\u001b[0m \u001b[1m0s\u001b[0m 4ms/step\n",
      "[1 1 1 ... 1 1 1]\n"
     ]
    },
    {
     "data": {
      "image/png": "[encoded data removed]",
      "text/plain": [
       "<Figure size 640x480 with 1 Axes>"
      ]
     },
     "metadata": {},
     "output_type": "display_data"
    }
   ],
   "source": [
    "team_1_binary_predictions = np.argmax(team_1_binary_model.predict(X_test), axis=-1)\n",
    "print(team_1_binary_predictions)\n",
    "plot_confusion_matrix(team_1_binary_test, team_1_binary_predictions, [\"Not Present\", \"Present\"])"
   ]
  },
  {
   "cell_type": "code",
   "execution_count": 87,
   "id": "d12d79d8-1cc8-44b3-8697-7d39526fe5da",
   "metadata": {},
   "outputs": [
    {
     "data": {
      "text/plain": [
       "(7313, 9)"
      ]
     },
     "execution_count": 87,
     "metadata": {},
     "output_type": "execute_result"
    }
   ],
   "source": [
    "objects_per_image.query('img_team_1_count > 0').shape"
   ]
  },
  {
   "cell_type": "code",
   "execution_count": 85,
   "id": "76adfb43-9017-4033-9512-5a1b2700d548",
   "metadata": {},
   "outputs": [
    {
     "name": "stdout",
     "output_type": "stream",
     "text": [
      "Precision:  0.7327416173570019\n",
      "Recall:  0.9893475366178429\n"
     ]
    }
   ],
   "source": [
    "print(\"Precision: \", metrics.precision_score(team_1_binary_test, team_1_binary_predictions, average='binary'))\n",
    "print(\"Recall: \", metrics.recall_score(team_1_binary_test, team_1_binary_predictions, average='binary'))"
   ]
  }
 ],
 "metadata": {
  "kernelspec": {
   "display_name": "Python 3 (ipykernel)",
   "language": "python",
   "name": "python3"
  },
  "language_info": {
   "codemirror_mode": {
    "name": "ipython",
    "version": 3
   },
   "file_extension": ".py",
   "mimetype": "text/x-python",
   "name": "python",
   "nbconvert_exporter": "python",
   "pygments_lexer": "ipython3",
   "version": "3.10.14"
  }
 },
 "nbformat": 4,
 "nbformat_minor": 5
}
