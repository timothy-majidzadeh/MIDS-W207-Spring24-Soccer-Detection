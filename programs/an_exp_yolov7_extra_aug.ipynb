{
 "cells": [
  {
   "cell_type": "code",
   "execution_count": 1,
   "id": "96e91f40-7f46-40f9-b00f-469de2e4b70a",
   "metadata": {},
   "outputs": [],
   "source": [
    "from ultralytics import YOLO\n",
    "import os\n",
    "\n",
    "# Author: Timothy Majidzadeh\n",
    "# Date Created: April 8, 2024\n",
    "# Date Updated: April 12, 2024\n",
    "# Date Updated: April 15, 2024 by Etienne Ndedi. Adjust directory path for analysis results of Yolov7 for training and testing\n",
    "# Date Updated: April 16, 2024 by Etienne Ndedi. Changed hyperparameters to see impact on previous results.\n",
    "# Description: Compare the results of different batch sizes on YOLOv7.\n",
    "# Notes: [v1] Created program.\n",
    "# Inputs: Ultralytics-formatted data.\n",
    "# Outputs: Model training & validation statistics for different versions of YOLO."
   ]
  },
  {
   "cell_type": "code",
   "execution_count": null,
   "id": "37afcbc5-a8ee-4ebf-9b8a-33595a8b1871",
   "metadata": {},
   "outputs": [
    {
     "name": "stdout",
     "output_type": "stream",
     "text": [
      "Testing extra augmentation...\n"
     ]
    }
   ],
   "source": [
    "## 16\n",
    "os.chdir(\"c:/Desktop/MIDS-W207/yolov7\")\n",
    "print(\"Testing extra augmentation...\")\n",
    "!python train.py --weights yolov7-tiny.pt --data data/soccertrack_square_oversampled.yaml --hyp data/hyp.scratch.custom.extra_aug.yaml --epochs 5 --batch-size 64 --img-size 800 --adam --project ../MIDS-W207-Spring24-Soccer-Detection/analysis/extra_aug/train\n",
    "print(\"Done!\")\n",
    "\n",
    "print(\"Validating YOLOv7...\")\n",
    "!python test.py --weights ../MIDS-W207-Spring24-Soccer-Detection/analysis/extra_aug/train/exp/weights/best.pt --data data/soccertrack_square_oversampled.yaml --batch-size 64 --img-size 800 --iou-thres 0.5 --verbose --save-txt --save-conf --project ../MIDS-W207-Spring24-Soccer-Detection/analysis/extra_aug/val --task val\n",
    "print(\"Done!\")"
   ]
  }
 ],
 "metadata": {
  "kernelspec": {
   "display_name": "Python 3 (ipykernel)",
   "language": "python",
   "name": "python3"
  },
  "language_info": {
   "codemirror_mode": {
    "name": "ipython",
    "version": 3
   },
   "file_extension": ".py",
   "mimetype": "text/x-python",
   "name": "python",
   "nbconvert_exporter": "python",
   "pygments_lexer": "ipython3",
   "version": "3.11.5"
  }
 },
 "nbformat": 4,
 "nbformat_minor": 5
}
